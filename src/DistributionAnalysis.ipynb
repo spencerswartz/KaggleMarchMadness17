{
 "cells": [
  {
   "cell_type": "code",
   "execution_count": 1,
   "metadata": {
    "collapsed": false
   },
   "outputs": [],
   "source": [
    "import numpy as np\n",
    "import csv\n",
    "import pandas as pd\n",
    "import random\n",
    "from math import sqrt, pi, exp, log\n",
    "import math\n",
    "\n",
    "import matplotlib.pyplot as plt\n",
    "%matplotlib inline"
   ]
  },
  {
   "cell_type": "code",
   "execution_count": 2,
   "metadata": {
    "collapsed": true
   },
   "outputs": [],
   "source": [
    "def pdf(mu=0, sigma=1):\n",
    "    s2= sigma*sigma\n",
    "    return lambda x: 1/sqrt(2*pi*(s2)) * exp(-(x-mu)**2/(2*s2))"
   ]
  },
  {
   "cell_type": "code",
   "execution_count": 3,
   "metadata": {
    "collapsed": false
   },
   "outputs": [],
   "source": [
    "def plot1(frame,pdfW,pdfM,m_mu,m_sigma,w_mu,w_sigma, plot=False):\n",
    "########################\n",
    "    if plot:\n",
    "        plt.figure(1)\n",
    "        plt.plot(frame['theta'], frame['w'], '-')\n",
    "        plt.plot(frame['theta'], frame['m'], '-')\n",
    "\n",
    "        axis= [frame['theta'].min()\n",
    "               ,frame['theta'].max()\n",
    "               ,0\n",
    "               ,min(max(frame['m'].max(),frame['w'].max()),1.5)\n",
    "              ]\n",
    "\n",
    "        w_atMu= pdfW(w_mu)\n",
    "        m_atMu= pdfM(m_mu)\n",
    "\n",
    "        w_atSigma= pdfW(w_sigma+w_mu)\n",
    "        m_atSigma= pdfM(m_sigma+m_mu)\n",
    "\n",
    "        plt.axvline(x=w_mu, ymax=w_atMu/axis[3], color='C1', linestyle='dashed')\n",
    "        plt.axvline(x=m_mu, ymax=m_atMu/axis[3], color='C0', linestyle='dashed')\n",
    "\n",
    "        plt.axvline(x=(w_sigma+w_mu), ymax=w_atSigma/axis[3], color='C0')\n",
    "        plt.axvline(x=(m_sigma+m_mu), ymax=m_atSigma/axis[3], color='C1')\n",
    "\n",
    "        plt.axis(axis)\n",
    "        plt.title(\"Distribution\")\n",
    "        plt.legend()\n",
    "        plt.show()\n",
    "        ########################\n",
    "        pass"
   ]
  },
  {
   "cell_type": "code",
   "execution_count": null,
   "metadata": {
    "collapsed": true
   },
   "outputs": [],
   "source": []
  },
  {
   "cell_type": "code",
   "execution_count": 4,
   "metadata": {
    "collapsed": false
   },
   "outputs": [],
   "source": [
    "def plot2(frame,step,w_wing,m_wing, plot=False):\n",
    "########################\n",
    "    \n",
    "    #frame['m_sum']= frame['m'].cumsum()*step+m_wing\n",
    "    #frame['w_sum']= frame['w'].cumsum()*step+w_wing\n",
    "\n",
    "    if plot:\n",
    "        f, (ax1,ax2)= plt.subplots(2,1,sharex=True)\n",
    "        ax1.plot(frame['theta'],frame['w_sum'])\n",
    "        ax1.plot(frame['theta'],frame['m_sum'])\n",
    "        plt.xticks([])\n",
    "        \n",
    "\n",
    "        ax1.legend()\n",
    "        ax1.set_title('CDF')\n",
    "\n",
    "    #frame['m_sum_inv']= 1-frame['m_sum']\n",
    "    #frame['w_sum_inv']= 1-frame['w_sum']\n",
    "\n",
    "    if plot:\n",
    "        #plt.subplot(122)\n",
    "        ax2.plot(frame['theta'],frame['w_sum_inv'])\n",
    "        ax2.plot(frame['theta'],frame['m_sum_inv'])\n",
    "        ax2.legend()\n",
    "        ax2.set_title(\"Inverted-CDF\")\n",
    "        ########################\n",
    "\n",
    "        plt.show()"
   ]
  },
  {
   "cell_type": "code",
   "execution_count": 5,
   "metadata": {
    "collapsed": false
   },
   "outputs": [],
   "source": [
    "def plot3(frame, plot=False):\n",
    "########################\n",
    "    if plot:\n",
    "        plt.figure(3)\n",
    "        ax1= plt.subplot(211)\n",
    "        plt.plot(frame['theta'],frame['w'])\n",
    "        plt.plot(frame['theta'],frame['m'])\n",
    "\n",
    "        axis= [frame['theta'].min()\n",
    "               ,frame['theta'].max()\n",
    "               ,0\n",
    "               ,min(max(frame['m_sum'].max(),frame['w_sum'].max()),1.5)\n",
    "              ]\n",
    "        \n",
    "        #ax1.axis(axis)\n",
    "        plt.title(\"Density\")\n",
    "        plt.xticks([])\n",
    "        plt.legend()\n",
    "        #plt.show()\n",
    "\n",
    "        plt.subplot(212)\n",
    "\n",
    "        plt.plot(frame['theta'],frame['w_sum'])\n",
    "        plt.plot(frame['theta'],frame['m_sum'])\n",
    "        plt.title(\"Distribution\")\n",
    "        #plt.axis([-2,2,0,1])\n",
    "        plt.legend()\n",
    "        plt.show()\n",
    "    ########################"
   ]
  },
  {
   "cell_type": "code",
   "execution_count": 174,
   "metadata": {
    "collapsed": false
   },
   "outputs": [],
   "source": [
    "def plot4(frame, plot=False):\n",
    "########################\n",
    "    #frame['all']= frame['w_sum']+frame['m_sum']\n",
    "    #frame['w_part']= frame['w_sum']/frame['all']\n",
    "    #frame['m_part']= frame['m_sum']/frame['all']\n",
    "\n",
    "    if plot:\n",
    "        plt.figure(4)\n",
    "        #f, (ax1, ax2)= plt.subplots(2, sharey=True)\n",
    "        plt.subplot(211)\n",
    "        plt.plot(frame['theta'],frame['w_part'])\n",
    "        plt.plot(frame['theta'],frame['m_part'])\n",
    "        plt.xticks([])\n",
    "        plt.title(\"Integrate from Left\")\n",
    "        plt.legend()\n",
    "        #plt.show()\n",
    "    ########################\n",
    "\n",
    "    ########################\n",
    "    #frame['all_inv']= frame['w_sum_inv']+frame['m_sum_inv']\n",
    "    #frame['w_part_inv']= frame['w_sum_inv']/frame['all_inv']\n",
    "    #frame['m_part_inv']= frame['m_sum_inv']/frame['all_inv']\n",
    "\n",
    "    if plot:\n",
    "        #plt.figure(5)\n",
    "        plt.subplot(212)\n",
    "        plt.plot(frame['theta'],frame['w_part_inv'])\n",
    "        plt.plot(frame['theta'],frame['m_part_inv'])\n",
    "        plt.title(\"Integrate to Right\")\n",
    "        plt.axvline(x=frame.ix[abs(frame.apply(lambda x: max(x['w_part_inv'],x['m_part_inv']), axis='columns')-0.75).idxmin()]['theta'])\n",
    "        plt.axhline(y=0.75)\n",
    "        plt.legend()\n",
    "        plt.show()\n",
    "        ########################\n",
    "        pass"
   ]
  },
  {
   "cell_type": "code",
   "execution_count": 7,
   "metadata": {
    "collapsed": false
   },
   "outputs": [],
   "source": [
    "def plot5(frame, plot=False):\n",
    "########################\n",
    "    #frame['all']= frame['w_sum']+frame['m_sum']\n",
    "    #frame['w_part']= frame['w_sum']/frame['all']\n",
    "    #frame['m_part']= frame['m_sum']/frame['all']\n",
    "\n",
    "    if plot:\n",
    "        plt.figure(4)\n",
    "        #f, (ax1, ax2)= plt.subplots(2, sharey=True)\n",
    "        plt.subplot(211)\n",
    "        plt.plot(frame['theta'],frame['w_part_kern'])\n",
    "        plt.plot(frame['theta'],frame['m_part_kern'])\n",
    "        plt.xticks([])\n",
    "        plt.title(\"Peer Group Kernel Proportion (+/- 0.5)\")\n",
    "        plt.legend()\n",
    "        #plt.show()\n",
    "    ########################\n",
    "\n",
    "    ########################\n",
    "    #frame['all_inv']= frame['w_sum_inv']+frame['m_sum_inv']\n",
    "    #frame['w_part_inv']= frame['w_sum_inv']/frame['all_inv']\n",
    "    #frame['m_part_inv']= frame['m_sum_inv']/frame['all_inv']\n",
    "\n",
    "    if plot:\n",
    "        #plt.figure(5)\n",
    "        plt.subplot(212)\n",
    "        plt.plot(frame['theta'],frame['w_kernel'])\n",
    "        plt.plot(frame['theta'],frame['m_kernel'])\n",
    "        plt.title(\"Peer Group Kernel Density\")\n",
    "        plt.legend()\n",
    "        plt.show()\n",
    "        ########################\n",
    "        pass"
   ]
  },
  {
   "cell_type": "code",
   "execution_count": 8,
   "metadata": {
    "collapsed": true
   },
   "outputs": [],
   "source": [
    "def thetaIndex(theta=-7,step=.01):\n",
    "    start= -abs(theta)\n",
    "    stop= abs(theta)\n",
    "    step = abs(step)\n",
    "    nSteps= (stop-start)/step\n",
    "\n",
    "    x= np.linspace(start, stop, int((nSteps-1)/2)*2+1)\n",
    "    frame= pd.DataFrame({'theta':x})\n",
    "    frame.reset_index(inplace=True)\n",
    "    return frame"
   ]
  },
  {
   "cell_type": "code",
   "execution_count": 9,
   "metadata": {
    "collapsed": false
   },
   "outputs": [],
   "source": [
    "def plotSamples(results):\n",
    "    plt.figure(1)\n",
    "    f, (ax1, ax2)= plt.subplots(2, sharex= True)\n",
    "    \n",
    "    if 'dMu' in results.columns:\n",
    "        ax1.plot(results['dMu'],results['m_mu'])\n",
    "        ax1.plot(results['dMu'],results['w_mu'])\n",
    "        ax1.legend()\n",
    "    else:\n",
    "        ax1.plot(results['m_mu'],results['w_mu'],'.')\n",
    "    #ax1.title('Mu')\n",
    "\n",
    "    #plt.subplots(212)\n",
    "    if 'dSigma' in results.columns:\n",
    "        results.sort_values(by='dSigma', inplace=True)\n",
    "        ax2.plot(results['dSigma'],results['m_sigma'])\n",
    "        ax2.plot(results['dSigma'],results['w_sigma'])\n",
    "        ax2.legend()\n",
    "    else:\n",
    "        ax2.plot(results['m_sigma'],results['w_sigma'],'.')\n",
    "    #ax2.title('Sigma')\n",
    "    plt.show()\n",
    "\n",
    "    if 'dMu' in results.columns and 'dSigma' in results.columns:\n",
    "        plt.figure(1)\n",
    "        plt.plot(results['dMu'],results['dSigma'],'.')\n",
    "        plt.xlabel('dMu')\n",
    "        plt.ylabel('dSigma')\n",
    "        plt.show()\n",
    "\n",
    "    pass"
   ]
  },
  {
   "cell_type": "code",
   "execution_count": 51,
   "metadata": {
    "collapsed": true
   },
   "outputs": [],
   "source": [
    "def simResults(baseMu=0,baseSigma=1,numRuns=420,seed=42,theta=-7,step=0.001):\n",
    "    w_mu=baseMu\n",
    "    w_sigma=baseSigma\n",
    "    \n",
    "    results= []#None\n",
    "    random.seed(seed)\n",
    "    for i in range(numRuns):\n",
    "        #print(i)\n",
    "\n",
    "        dMu= random.random()\n",
    "        dSigma= random.random()\n",
    "        dSigma_pctChange= math.copysign(abs(dSigma-0.5)*200+0.05,dSigma-0.5)\n",
    "\n",
    "        #m_mu= w_mu+(dMu-0.5)\n",
    "        #m_mu= w_mu+((dMu-0.5)/2)\n",
    "        m_mu= w_mu+(2*(dMu-0.5))*0.1\n",
    "        m_sigma= w_sigma*(1+dSigma_pctChange/100)\n",
    "\n",
    "        row= [w_mu,w_sigma,dMu,dSigma,dSigma_pctChange,m_mu,m_sigma,theta,step]\n",
    "        #print(row)\n",
    "        if type(results)!=type(None):\n",
    "            results.append(row)\n",
    "        else:\n",
    "            results= pd.DataFrame(row)\n",
    "\n",
    "    results= pd.DataFrame(results,\n",
    "                          columns=['w_mu','w_sigma','dMu',\n",
    "                                   'dSigma','dSigma_pctChange',\n",
    "                                   'm_mu','m_sigma','theta','step'])\n",
    "    \n",
    "    sigmaSteps= results.sort_values(by='m_sigma')[::int(numRuns/20)]\n",
    "    muSteps= results.sort_values(by='m_mu')[::int(numRuns/20)]\n",
    "    \n",
    "    results=sigmaSteps.append(muSteps)\n",
    "    #results.head()\n",
    "    return results"
   ]
  },
  {
   "cell_type": "code",
   "execution_count": 11,
   "metadata": {
    "collapsed": true
   },
   "outputs": [],
   "source": [
    "def analyzeConditions(m_mu,m_sigma,w_mu,w_sigma,theta,step,plot=False):\n",
    "    #d= thetaIndex(theta,step)\n",
    "    #d= frame.copy()\n",
    "\n",
    "    m_total,m_wing,pdfM,w_total,w_wing,pdfW,d= computeRunData(m_mu,m_sigma,w_mu,w_sigma,theta,step)\n",
    "    d=computeStats(d,step,m_wing,w_wing)\n",
    "\n",
    "    #if plot:\n",
    "    plot1(d,pdfW,pdfM,m_mu,m_sigma,w_mu,w_sigma,plot=plot)\n",
    "    plot2(d,step,w_wing,m_wing,plot=plot)\n",
    "    plot3(d,plot=plot)\n",
    "    plot4(d,plot=plot)\n",
    "    \n",
    "    config= {'m_mu': m_mu,\n",
    "             'm_sigma': m_sigma,\n",
    "             'w_mu': w_mu,\n",
    "             'w_sigma': w_sigma,\n",
    "             'theta': theta,\n",
    "             'step': step,\n",
    "             'm_total': m_total,\n",
    "             'm_wing': m_wing,\n",
    "             'w_total': w_total,\n",
    "             'w_wing': w_wing}\n",
    "    \n",
    "    return d,config"
   ]
  },
  {
   "cell_type": "code",
   "execution_count": 12,
   "metadata": {
    "collapsed": true
   },
   "outputs": [],
   "source": [
    "def run(result, plot=False):\n",
    "    #print(\"Running...\", result.name)\n",
    "\n",
    "    #frame= thetaIndex(result.theta,result.step)\n",
    "    frame,config= analyzeConditions(result.m_mu                    ,result.m_sigma\n",
    "                    ,result.w_mu                    ,result.w_sigma\n",
    "                    ,result.theta\n",
    "                    ,result.step                    ,plot)\n",
    "    frame['name']= result.name\n",
    "    config['name']= result.name\n",
    "\n",
    "    return frame,config"
   ]
  },
  {
   "cell_type": "code",
   "execution_count": 13,
   "metadata": {
    "collapsed": true
   },
   "outputs": [],
   "source": [
    "def runAll(results, plot=False):\n",
    "    cols= list(results.columns)\n",
    "    if 'dMu' in cols:\n",
    "        plotSamples(results)\n",
    "\n",
    "    q= [run(results.iloc[x]) for x in range(0,results.count()[0]) ]\n",
    "    q= [list(y) for y in zip(*q)]\n",
    "    z= pd.concat(q[0],axis=0)\n",
    "    r= pd.DataFrame(q[1])\n",
    "    r.set_index(r['name'],inplace=True)\n",
    "    return z,r"
   ]
  },
  {
   "cell_type": "code",
   "execution_count": 14,
   "metadata": {
    "collapsed": false
   },
   "outputs": [],
   "source": [
    "def plotProportion(z,col='m_part_inv',order=None,_printEvery=0):\n",
    "    h,l = [],[]\n",
    "    \n",
    "    itList= list(z['name'].unique())\n",
    "    if type(order)!=type(None):\n",
    "        itList= order\n",
    "    for i,r in enumerate(itList):\n",
    "        if i % max(_printEvery,1) == (_printEvery==0): plt.show()\n",
    "\n",
    "        #plt.axis([-5,5,0,1])\n",
    "        plotDataFrame= z[z['name']==r]\n",
    "        h0,= plt.plot(plotDataFrame['theta'],plotDataFrame[col],'-')\n",
    "        h.append(h0)\n",
    "        l.append(r)\n",
    "    return h,l"
   ]
  },
  {
   "cell_type": "code",
   "execution_count": 179,
   "metadata": {
    "collapsed": true
   },
   "outputs": [],
   "source": [
    "def computeStats(data,step,m_wing,w_wing):\n",
    "    frame = data.copy()\n",
    "\n",
    "    #TODO: implement these here\n",
    "    #pdfM= pdf(m_mu,m_sigma)\n",
    "    #pdfW= pdf(w_mu,w_sigma)\n",
    "    #frame['m']= frame.applymap(pdfM)[['theta']]\n",
    "    #frame['w']= frame.applymap(pdfW)[['theta']]\n",
    "    \n",
    "    frame.sort_values(by='theta', inplace=True)\n",
    "    frame['m_sum']= frame['m'].cumsum()*step+m_wing\n",
    "    frame['w_sum']= frame['w'].cumsum()*step+w_wing\n",
    "    \n",
    "    frame['all']= frame['w_sum']+frame['m_sum']\n",
    "    frame['w_part']= frame['w_sum']/frame['all']\n",
    "    frame['m_part']= frame['m_sum']/frame['all']\n",
    "\n",
    "    frame.sort_values(by='theta', ascending=False, inplace=True)\n",
    "    #frame['m_sum_inv']= 1-frame['m_sum']#+m_wing\n",
    "    #frame['w_sum_inv']= 1-frame['w_sum']#+w_wing\n",
    "    frame['m_sum_inv']= frame['m'].cumsum()*step+m_wing\n",
    "    frame['w_sum_inv']= frame['w'].cumsum()*step+w_wing\n",
    "    \n",
    "    frame['all_inv']= frame['w_sum_inv']+frame['m_sum_inv']\n",
    "    frame['w_part_inv']= frame['w_sum_inv']/frame['all_inv']\n",
    "    frame['m_part_inv']= frame['m_sum_inv']/frame['all_inv']\n",
    "\n",
    "    kernel= False\n",
    "    if kernel:\n",
    "        #q[['theta']].applymap(lambda x: q[abs(q['theta']-q.ix[x]['theta']) <= 0.05]['m'].sum())\n",
    "        #frame['m_kernel']= frame[['theta']].applymap(lambda x: frame[abs(frame['theta']-x) <= 0.5]['m'].sum()*step)\n",
    "        frame['m_kernel']= frame[['theta']].applymap(lambda x: frame[abs(frame['theta']-x) <= 0.5]['m'].sum()*step)\n",
    "        frame['w_kernel']= frame[['theta']].applymap(lambda x: frame[abs(frame['theta']-x) <= 0.5]['w'].sum()*step)\n",
    "        frame['all_kernel']= frame['m_kernel']+frame['w_kernel']\n",
    "        frame['m_part_kern']= frame['m_kernel']/frame['all_kernel']\n",
    "        frame['w_part_kern']= frame['w_kernel']/frame['all_kernel']\n",
    "    \n",
    "    frame.sort_values(by='theta', ascending=True, inplace=True)\n",
    "    return frame"
   ]
  },
  {
   "cell_type": "code",
   "execution_count": 16,
   "metadata": {
    "collapsed": true
   },
   "outputs": [],
   "source": [
    "def computeRunData(m_mu,m_sigma,w_mu,w_sigma,theta,step):\n",
    "    #d= frame.copy()\n",
    "    d= thetaIndex(theta,step)\n",
    "    \n",
    "    pdfM= pdf(m_mu,m_sigma)\n",
    "    pdfW= pdf(w_mu,w_sigma)\n",
    "    d['m']= d.applymap(pdfM)[['theta']]\n",
    "    d['w']= d.applymap(pdfW)[['theta']]\n",
    "    \n",
    "    e= thetaIndex(10,.001)\n",
    "    e['m']= e.applymap(pdfM)[['theta']]\n",
    "    e['w']= e.applymap(pdfW)[['theta']]\n",
    "    m_total= e['m'].sum()*.001\n",
    "    w_total= e['w'].sum()*.001\n",
    "    m_wing= (1-m_total)/2\n",
    "    w_wing= (1-w_total)/2\n",
    "    m_wing= e[e['theta']<=d['theta'].min()]['m'].sum()*.001+m_wing\n",
    "    w_wing= e[e['theta']<=-abs(theta)]['w'].sum()*.001+w_wing\n",
    "    \n",
    "    return m_total,m_wing,pdfM,w_total,w_wing,pdfW,d"
   ]
  },
  {
   "cell_type": "code",
   "execution_count": 155,
   "metadata": {
    "collapsed": false
   },
   "outputs": [],
   "source": [
    "def findOptima(data,func='max',pop='m',col='part_inv', pVal=0.05):\n",
    "    compareCol= data[pop]\n",
    "    compareFilt= data[pop].between(pVal,1-pVal)\n",
    "    \n",
    "    investCol= '_'.join([pop,col])\n",
    "    #gCols= ['name']+investCol\n",
    "    investFrame= data[compareFilt].groupby('name',as_index=False)[['name',investCol]]\n",
    "    print('a',investFrame.head(2))\n",
    "    \n",
    "    if func=='max':\n",
    "        resultFrame= investFrame.idxmax()\n",
    "    elif func=='min':\n",
    "        resultFrame= investFrame.idxmin()\n",
    "    else:\n",
    "        resultFrame= investFrame.count()\n",
    "\n",
    "    #yX= z[(z['m']>0.05) & (z['m']<0.95)].groupby('name',as_index=False)['name','m_part_inv'].idxmax()\n",
    "    print('b-pre\\n',resultFrame.head(4))\n",
    "    resultFrame.reset_index(inplace=True)\n",
    "    print('b\\n',resultFrame.head(4))\n",
    "    \n",
    "    resultFrame= resultFrame[['index',investCol]]\n",
    "    resultFrame.columns=['name','index']\n",
    "    print('c-pre 1:\\n',resultFrame.head(2))\n",
    "    print('c-pre 2:\\n',data.head(2))\n",
    "    #resultFrame= resultFrame.merge(data)\n",
    "    #resultFrame= pd.concat([resultFrame,data], axis=0)\n",
    "    resultFrame= resultFrame.merge(data, how='inner', on=['name','index'])\n",
    "    print('c\\n',resultFrame.head(2))\n",
    "    \n",
    "    #resultFrame= resultFrame[['name','index','theta']]\n",
    "    print('d\\n',resultFrame.head(2))\n",
    "    \n",
    "    return resultFrame"
   ]
  },
  {
   "cell_type": "code",
   "execution_count": 156,
   "metadata": {
    "collapsed": false
   },
   "outputs": [
    {
     "name": "stdout",
     "output_type": "stream",
     "text": [
      "a       name  m_part_inv\n",
      "705    213    0.019828\n",
      "699    213    0.665725\n",
      "796    295    0.039403\n",
      "795    295    0.041785\n",
      "836    173    0.115856\n",
      "835    173    0.118815\n",
      "850    204    0.170940\n",
      "849    204    0.173595\n",
      "892    345    0.411080\n",
      "891    345    0.412000\n",
      "924    373    0.656721\n",
      "923    373    0.655719\n",
      "940     14    0.766547\n",
      "939     14    0.765098\n",
      "952    233    0.845039\n",
      "951    233    0.843453\n",
      "979    225    0.928302\n",
      "978    225    0.927265\n",
      "1005   153    0.973486\n",
      "1004   153    0.972961\n",
      "b-pre\n",
      "    name  m_part_inv\n",
      "0   940         940\n",
      "1  1005        1005\n",
      "2   836         655\n",
      "3   850         638\n",
      "b\n",
      "    index  name  m_part_inv\n",
      "0      0   940         940\n",
      "1      1  1005        1005\n",
      "2      2   836         655\n",
      "3      3   850         638\n",
      "c-pre 1:\n",
      "    name  index\n",
      "0     0    940\n",
      "1     1   1005\n",
      "c-pre 2:\n",
      "       index     theta    m             w     m_sum     w_sum       all  \\\n",
      "1398   1398  7.000000  0.0  9.134720e-12  0.998621  0.998621  1.997243   \n",
      "1397   1397  6.989986  0.0  9.797552e-12  0.998621  0.998621  1.997243   \n",
      "\n",
      "      w_part  m_part  m_sum_inv  w_sum_inv  all_inv  w_part_inv  m_part_inv  \\\n",
      "1398     0.5     0.5    0.00005    0.00005   0.0001         0.5         0.5   \n",
      "1397     0.5     0.5    0.00005    0.00005   0.0001         0.5         0.5   \n",
      "\n",
      "      name  \n",
      "1398   213  \n",
      "1397   213  \n",
      "c\n",
      " Empty DataFrame\n",
      "Columns: [name, index, theta, m, w, m_sum, w_sum, all, w_part, m_part, m_sum_inv, w_sum_inv, all_inv, w_part_inv, m_part_inv]\n",
      "Index: []\n",
      "d Empty DataFrame\n",
      "Columns: [name, index, theta, m, w, m_sum, w_sum, all, w_part, m_part, m_sum_inv, w_sum_inv, all_inv, w_part_inv, m_part_inv]\n",
      "Index: []\n"
     ]
    },
    {
     "data": {
      "text/plain": [
       "name          0\n",
       "index         0\n",
       "theta         0\n",
       "m             0\n",
       "w             0\n",
       "m_sum         0\n",
       "w_sum         0\n",
       "all           0\n",
       "w_part        0\n",
       "m_part        0\n",
       "m_sum_inv     0\n",
       "w_sum_inv     0\n",
       "all_inv       0\n",
       "w_part_inv    0\n",
       "m_part_inv    0\n",
       "dtype: int64"
      ]
     },
     "execution_count": 156,
     "metadata": {},
     "output_type": "execute_result"
    }
   ],
   "source": [
    "findOptima(z,'max','m','part_inv',0.05).count()"
   ]
  },
  {
   "cell_type": "markdown",
   "metadata": {
    "collapsed": false
   },
   "source": [
    "z,c= runAll(rx,True)\n",
    "c.head()"
   ]
  },
  {
   "cell_type": "markdown",
   "metadata": {},
   "source": [
    "# Define the parameters of the run(s)"
   ]
  },
  {
   "cell_type": "code",
   "execution_count": 57,
   "metadata": {
    "collapsed": true
   },
   "outputs": [],
   "source": [
    "baseMu=0\n",
    "baseSigma=1\n",
    "numRuns=400\n",
    "seed=42\n",
    "theta=-7\n",
    "step=0.01"
   ]
  },
  {
   "cell_type": "code",
   "execution_count": 58,
   "metadata": {
    "collapsed": false
   },
   "outputs": [
    {
     "data": {
      "text/html": [
       "<div>\n",
       "<table border=\"1\" class=\"dataframe\">\n",
       "  <thead>\n",
       "    <tr style=\"text-align: right;\">\n",
       "      <th></th>\n",
       "      <th>w_mu</th>\n",
       "      <th>w_sigma</th>\n",
       "      <th>dMu</th>\n",
       "      <th>dSigma</th>\n",
       "      <th>dSigma_pctChange</th>\n",
       "      <th>m_mu</th>\n",
       "      <th>m_sigma</th>\n",
       "      <th>theta</th>\n",
       "      <th>step</th>\n",
       "    </tr>\n",
       "  </thead>\n",
       "  <tbody>\n",
       "    <tr>\n",
       "      <th>213</th>\n",
       "      <td>0</td>\n",
       "      <td>1</td>\n",
       "      <td>0.656058</td>\n",
       "      <td>0.005545</td>\n",
       "      <td>-98.941036</td>\n",
       "      <td>0.031212</td>\n",
       "      <td>0.010590</td>\n",
       "      <td>-7</td>\n",
       "      <td>0.01</td>\n",
       "    </tr>\n",
       "    <tr>\n",
       "      <th>103</th>\n",
       "      <td>0</td>\n",
       "      <td>1</td>\n",
       "      <td>0.401040</td>\n",
       "      <td>0.058635</td>\n",
       "      <td>-88.322920</td>\n",
       "      <td>-0.019792</td>\n",
       "      <td>0.116771</td>\n",
       "      <td>-7</td>\n",
       "      <td>0.01</td>\n",
       "    </tr>\n",
       "    <tr>\n",
       "      <th>269</th>\n",
       "      <td>0</td>\n",
       "      <td>1</td>\n",
       "      <td>0.747926</td>\n",
       "      <td>0.114533</td>\n",
       "      <td>-77.143426</td>\n",
       "      <td>0.049585</td>\n",
       "      <td>0.228566</td>\n",
       "      <td>-7</td>\n",
       "      <td>0.01</td>\n",
       "    </tr>\n",
       "    <tr>\n",
       "      <th>131</th>\n",
       "      <td>0</td>\n",
       "      <td>1</td>\n",
       "      <td>0.369527</td>\n",
       "      <td>0.157747</td>\n",
       "      <td>-68.500634</td>\n",
       "      <td>-0.026095</td>\n",
       "      <td>0.314994</td>\n",
       "      <td>-7</td>\n",
       "      <td>0.01</td>\n",
       "    </tr>\n",
       "    <tr>\n",
       "      <th>128</th>\n",
       "      <td>0</td>\n",
       "      <td>1</td>\n",
       "      <td>0.073261</td>\n",
       "      <td>0.213154</td>\n",
       "      <td>-57.419138</td>\n",
       "      <td>-0.085348</td>\n",
       "      <td>0.425809</td>\n",
       "      <td>-7</td>\n",
       "      <td>0.01</td>\n",
       "    </tr>\n",
       "    <tr>\n",
       "      <th>118</th>\n",
       "      <td>0</td>\n",
       "      <td>1</td>\n",
       "      <td>0.890287</td>\n",
       "      <td>0.246215</td>\n",
       "      <td>-50.806930</td>\n",
       "      <td>0.078057</td>\n",
       "      <td>0.491931</td>\n",
       "      <td>-7</td>\n",
       "      <td>0.01</td>\n",
       "    </tr>\n",
       "    <tr>\n",
       "      <th>173</th>\n",
       "      <td>0</td>\n",
       "      <td>1</td>\n",
       "      <td>0.966889</td>\n",
       "      <td>0.279125</td>\n",
       "      <td>-44.225001</td>\n",
       "      <td>0.093378</td>\n",
       "      <td>0.557750</td>\n",
       "      <td>-7</td>\n",
       "      <td>0.01</td>\n",
       "    </tr>\n",
       "    <tr>\n",
       "      <th>62</th>\n",
       "      <td>0</td>\n",
       "      <td>1</td>\n",
       "      <td>0.000572</td>\n",
       "      <td>0.324156</td>\n",
       "      <td>-35.218789</td>\n",
       "      <td>-0.099886</td>\n",
       "      <td>0.647812</td>\n",
       "      <td>-7</td>\n",
       "      <td>0.01</td>\n",
       "    </tr>\n",
       "    <tr>\n",
       "      <th>123</th>\n",
       "      <td>0</td>\n",
       "      <td>1</td>\n",
       "      <td>0.238686</td>\n",
       "      <td>0.395786</td>\n",
       "      <td>-20.892831</td>\n",
       "      <td>-0.052263</td>\n",
       "      <td>0.791072</td>\n",
       "      <td>-7</td>\n",
       "      <td>0.01</td>\n",
       "    </tr>\n",
       "    <tr>\n",
       "      <th>345</th>\n",
       "      <td>0</td>\n",
       "      <td>1</td>\n",
       "      <td>0.702988</td>\n",
       "      <td>0.454031</td>\n",
       "      <td>-9.243735</td>\n",
       "      <td>0.040598</td>\n",
       "      <td>0.907563</td>\n",
       "      <td>-7</td>\n",
       "      <td>0.01</td>\n",
       "    </tr>\n",
       "    <tr>\n",
       "      <th>376</th>\n",
       "      <td>0</td>\n",
       "      <td>1</td>\n",
       "      <td>0.404175</td>\n",
       "      <td>0.514596</td>\n",
       "      <td>2.969250</td>\n",
       "      <td>-0.019165</td>\n",
       "      <td>1.029693</td>\n",
       "      <td>-7</td>\n",
       "      <td>0.01</td>\n",
       "    </tr>\n",
       "    <tr>\n",
       "      <th>147</th>\n",
       "      <td>0</td>\n",
       "      <td>1</td>\n",
       "      <td>0.741231</td>\n",
       "      <td>0.551680</td>\n",
       "      <td>10.386084</td>\n",
       "      <td>0.048246</td>\n",
       "      <td>1.103861</td>\n",
       "      <td>-7</td>\n",
       "      <td>0.01</td>\n",
       "    </tr>\n",
       "    <tr>\n",
       "      <th>14</th>\n",
       "      <td>0</td>\n",
       "      <td>1</td>\n",
       "      <td>0.847494</td>\n",
       "      <td>0.603726</td>\n",
       "      <td>20.795206</td>\n",
       "      <td>0.069499</td>\n",
       "      <td>1.207952</td>\n",
       "      <td>-7</td>\n",
       "      <td>0.01</td>\n",
       "    </tr>\n",
       "    <tr>\n",
       "      <th>227</th>\n",
       "      <td>0</td>\n",
       "      <td>1</td>\n",
       "      <td>0.247240</td>\n",
       "      <td>0.637661</td>\n",
       "      <td>27.582287</td>\n",
       "      <td>-0.050552</td>\n",
       "      <td>1.275823</td>\n",
       "      <td>-7</td>\n",
       "      <td>0.01</td>\n",
       "    </tr>\n",
       "    <tr>\n",
       "      <th>233</th>\n",
       "      <td>0</td>\n",
       "      <td>1</td>\n",
       "      <td>0.231261</td>\n",
       "      <td>0.693950</td>\n",
       "      <td>38.839962</td>\n",
       "      <td>-0.053748</td>\n",
       "      <td>1.388400</td>\n",
       "      <td>-7</td>\n",
       "      <td>0.01</td>\n",
       "    </tr>\n",
       "    <tr>\n",
       "      <th>225</th>\n",
       "      <td>0</td>\n",
       "      <td>1</td>\n",
       "      <td>0.897208</td>\n",
       "      <td>0.743655</td>\n",
       "      <td>48.781088</td>\n",
       "      <td>0.079442</td>\n",
       "      <td>1.487811</td>\n",
       "      <td>-7</td>\n",
       "      <td>0.01</td>\n",
       "    </tr>\n",
       "    <tr>\n",
       "      <th>397</th>\n",
       "      <td>0</td>\n",
       "      <td>1</td>\n",
       "      <td>0.276247</td>\n",
       "      <td>0.790006</td>\n",
       "      <td>58.051236</td>\n",
       "      <td>-0.044751</td>\n",
       "      <td>1.580512</td>\n",
       "      <td>-7</td>\n",
       "      <td>0.01</td>\n",
       "    </tr>\n",
       "    <tr>\n",
       "      <th>154</th>\n",
       "      <td>0</td>\n",
       "      <td>1</td>\n",
       "      <td>0.796122</td>\n",
       "      <td>0.860703</td>\n",
       "      <td>72.190516</td>\n",
       "      <td>0.059224</td>\n",
       "      <td>1.721905</td>\n",
       "      <td>-7</td>\n",
       "      <td>0.01</td>\n",
       "    </tr>\n",
       "    <tr>\n",
       "      <th>388</th>\n",
       "      <td>0</td>\n",
       "      <td>1</td>\n",
       "      <td>0.992257</td>\n",
       "      <td>0.912930</td>\n",
       "      <td>82.635976</td>\n",
       "      <td>0.098451</td>\n",
       "      <td>1.826360</td>\n",
       "      <td>-7</td>\n",
       "      <td>0.01</td>\n",
       "    </tr>\n",
       "    <tr>\n",
       "      <th>221</th>\n",
       "      <td>0</td>\n",
       "      <td>1</td>\n",
       "      <td>0.595452</td>\n",
       "      <td>0.950040</td>\n",
       "      <td>90.057922</td>\n",
       "      <td>0.019090</td>\n",
       "      <td>1.900579</td>\n",
       "      <td>-7</td>\n",
       "      <td>0.01</td>\n",
       "    </tr>\n",
       "    <tr>\n",
       "      <th>197</th>\n",
       "      <td>0</td>\n",
       "      <td>1</td>\n",
       "      <td>0.000406</td>\n",
       "      <td>0.286914</td>\n",
       "      <td>-42.667257</td>\n",
       "      <td>-0.099919</td>\n",
       "      <td>0.573327</td>\n",
       "      <td>-7</td>\n",
       "      <td>0.01</td>\n",
       "    </tr>\n",
       "    <tr>\n",
       "      <th>68</th>\n",
       "      <td>0</td>\n",
       "      <td>1</td>\n",
       "      <td>0.069213</td>\n",
       "      <td>0.760602</td>\n",
       "      <td>52.170433</td>\n",
       "      <td>-0.086157</td>\n",
       "      <td>1.521704</td>\n",
       "      <td>-7</td>\n",
       "      <td>0.01</td>\n",
       "    </tr>\n",
       "    <tr>\n",
       "      <th>215</th>\n",
       "      <td>0</td>\n",
       "      <td>1</td>\n",
       "      <td>0.106587</td>\n",
       "      <td>0.425146</td>\n",
       "      <td>-15.020761</td>\n",
       "      <td>-0.078683</td>\n",
       "      <td>0.849792</td>\n",
       "      <td>-7</td>\n",
       "      <td>0.01</td>\n",
       "    </tr>\n",
       "    <tr>\n",
       "      <th>268</th>\n",
       "      <td>0</td>\n",
       "      <td>1</td>\n",
       "      <td>0.167789</td>\n",
       "      <td>0.607247</td>\n",
       "      <td>21.499499</td>\n",
       "      <td>-0.066442</td>\n",
       "      <td>1.214995</td>\n",
       "      <td>-7</td>\n",
       "      <td>0.01</td>\n",
       "    </tr>\n",
       "    <tr>\n",
       "      <th>5</th>\n",
       "      <td>0</td>\n",
       "      <td>1</td>\n",
       "      <td>0.218638</td>\n",
       "      <td>0.505355</td>\n",
       "      <td>1.121058</td>\n",
       "      <td>-0.056272</td>\n",
       "      <td>1.011211</td>\n",
       "      <td>-7</td>\n",
       "      <td>0.01</td>\n",
       "    </tr>\n",
       "    <tr>\n",
       "      <th>183</th>\n",
       "      <td>0</td>\n",
       "      <td>1</td>\n",
       "      <td>0.254723</td>\n",
       "      <td>0.708785</td>\n",
       "      <td>41.807057</td>\n",
       "      <td>-0.049055</td>\n",
       "      <td>1.418071</td>\n",
       "      <td>-7</td>\n",
       "      <td>0.01</td>\n",
       "    </tr>\n",
       "    <tr>\n",
       "      <th>153</th>\n",
       "      <td>0</td>\n",
       "      <td>1</td>\n",
       "      <td>0.308258</td>\n",
       "      <td>0.898981</td>\n",
       "      <td>79.846298</td>\n",
       "      <td>-0.038348</td>\n",
       "      <td>1.798463</td>\n",
       "      <td>-7</td>\n",
       "      <td>0.01</td>\n",
       "    </tr>\n",
       "    <tr>\n",
       "      <th>17</th>\n",
       "      <td>0</td>\n",
       "      <td>1</td>\n",
       "      <td>0.378534</td>\n",
       "      <td>0.552041</td>\n",
       "      <td>10.458126</td>\n",
       "      <td>-0.024293</td>\n",
       "      <td>1.104581</td>\n",
       "      <td>-7</td>\n",
       "      <td>0.01</td>\n",
       "    </tr>\n",
       "    <tr>\n",
       "      <th>95</th>\n",
       "      <td>0</td>\n",
       "      <td>1</td>\n",
       "      <td>0.421882</td>\n",
       "      <td>0.278545</td>\n",
       "      <td>-44.340971</td>\n",
       "      <td>-0.015624</td>\n",
       "      <td>0.556590</td>\n",
       "      <td>-7</td>\n",
       "      <td>0.01</td>\n",
       "    </tr>\n",
       "    <tr>\n",
       "      <th>169</th>\n",
       "      <td>0</td>\n",
       "      <td>1</td>\n",
       "      <td>0.460303</td>\n",
       "      <td>0.305191</td>\n",
       "      <td>-39.011827</td>\n",
       "      <td>-0.007939</td>\n",
       "      <td>0.609882</td>\n",
       "      <td>-7</td>\n",
       "      <td>0.01</td>\n",
       "    </tr>\n",
       "    <tr>\n",
       "      <th>281</th>\n",
       "      <td>0</td>\n",
       "      <td>1</td>\n",
       "      <td>0.505961</td>\n",
       "      <td>0.341231</td>\n",
       "      <td>-31.803765</td>\n",
       "      <td>0.001192</td>\n",
       "      <td>0.681962</td>\n",
       "      <td>-7</td>\n",
       "      <td>0.01</td>\n",
       "    </tr>\n",
       "    <tr>\n",
       "      <th>108</th>\n",
       "      <td>0</td>\n",
       "      <td>1</td>\n",
       "      <td>0.555768</td>\n",
       "      <td>0.718408</td>\n",
       "      <td>43.731655</td>\n",
       "      <td>0.011154</td>\n",
       "      <td>1.437317</td>\n",
       "      <td>-7</td>\n",
       "      <td>0.01</td>\n",
       "    </tr>\n",
       "    <tr>\n",
       "      <th>204</th>\n",
       "      <td>0</td>\n",
       "      <td>1</td>\n",
       "      <td>0.632941</td>\n",
       "      <td>0.335188</td>\n",
       "      <td>-33.012349</td>\n",
       "      <td>0.026588</td>\n",
       "      <td>0.669877</td>\n",
       "      <td>-7</td>\n",
       "      <td>0.01</td>\n",
       "    </tr>\n",
       "    <tr>\n",
       "      <th>220</th>\n",
       "      <td>0</td>\n",
       "      <td>1</td>\n",
       "      <td>0.667578</td>\n",
       "      <td>0.987892</td>\n",
       "      <td>97.628491</td>\n",
       "      <td>0.033516</td>\n",
       "      <td>1.976285</td>\n",
       "      <td>-7</td>\n",
       "      <td>0.01</td>\n",
       "    </tr>\n",
       "    <tr>\n",
       "      <th>391</th>\n",
       "      <td>0</td>\n",
       "      <td>1</td>\n",
       "      <td>0.716603</td>\n",
       "      <td>0.508872</td>\n",
       "      <td>1.824403</td>\n",
       "      <td>0.043321</td>\n",
       "      <td>1.018244</td>\n",
       "      <td>-7</td>\n",
       "      <td>0.01</td>\n",
       "    </tr>\n",
       "    <tr>\n",
       "      <th>332</th>\n",
       "      <td>0</td>\n",
       "      <td>1</td>\n",
       "      <td>0.764443</td>\n",
       "      <td>0.606318</td>\n",
       "      <td>21.313530</td>\n",
       "      <td>0.052889</td>\n",
       "      <td>1.213135</td>\n",
       "      <td>-7</td>\n",
       "      <td>0.01</td>\n",
       "    </tr>\n",
       "    <tr>\n",
       "      <th>373</th>\n",
       "      <td>0</td>\n",
       "      <td>1</td>\n",
       "      <td>0.813566</td>\n",
       "      <td>0.550097</td>\n",
       "      <td>10.069322</td>\n",
       "      <td>0.062713</td>\n",
       "      <td>1.100693</td>\n",
       "      <td>-7</td>\n",
       "      <td>0.01</td>\n",
       "    </tr>\n",
       "    <tr>\n",
       "      <th>295</th>\n",
       "      <td>0</td>\n",
       "      <td>1</td>\n",
       "      <td>0.850953</td>\n",
       "      <td>0.181840</td>\n",
       "      <td>-63.682029</td>\n",
       "      <td>0.070191</td>\n",
       "      <td>0.363180</td>\n",
       "      <td>-7</td>\n",
       "      <td>0.01</td>\n",
       "    </tr>\n",
       "    <tr>\n",
       "      <th>225</th>\n",
       "      <td>0</td>\n",
       "      <td>1</td>\n",
       "      <td>0.897208</td>\n",
       "      <td>0.743655</td>\n",
       "      <td>48.781088</td>\n",
       "      <td>0.079442</td>\n",
       "      <td>1.487811</td>\n",
       "      <td>-7</td>\n",
       "      <td>0.01</td>\n",
       "    </tr>\n",
       "    <tr>\n",
       "      <th>110</th>\n",
       "      <td>0</td>\n",
       "      <td>1</td>\n",
       "      <td>0.968709</td>\n",
       "      <td>0.579180</td>\n",
       "      <td>15.886058</td>\n",
       "      <td>0.093742</td>\n",
       "      <td>1.158861</td>\n",
       "      <td>-7</td>\n",
       "      <td>0.01</td>\n",
       "    </tr>\n",
       "  </tbody>\n",
       "</table>\n",
       "</div>"
      ],
      "text/plain": [
       "     w_mu  w_sigma       dMu    dSigma  dSigma_pctChange      m_mu   m_sigma  \\\n",
       "213     0        1  0.656058  0.005545        -98.941036  0.031212  0.010590   \n",
       "103     0        1  0.401040  0.058635        -88.322920 -0.019792  0.116771   \n",
       "269     0        1  0.747926  0.114533        -77.143426  0.049585  0.228566   \n",
       "131     0        1  0.369527  0.157747        -68.500634 -0.026095  0.314994   \n",
       "128     0        1  0.073261  0.213154        -57.419138 -0.085348  0.425809   \n",
       "118     0        1  0.890287  0.246215        -50.806930  0.078057  0.491931   \n",
       "173     0        1  0.966889  0.279125        -44.225001  0.093378  0.557750   \n",
       "62      0        1  0.000572  0.324156        -35.218789 -0.099886  0.647812   \n",
       "123     0        1  0.238686  0.395786        -20.892831 -0.052263  0.791072   \n",
       "345     0        1  0.702988  0.454031         -9.243735  0.040598  0.907563   \n",
       "376     0        1  0.404175  0.514596          2.969250 -0.019165  1.029693   \n",
       "147     0        1  0.741231  0.551680         10.386084  0.048246  1.103861   \n",
       "14      0        1  0.847494  0.603726         20.795206  0.069499  1.207952   \n",
       "227     0        1  0.247240  0.637661         27.582287 -0.050552  1.275823   \n",
       "233     0        1  0.231261  0.693950         38.839962 -0.053748  1.388400   \n",
       "225     0        1  0.897208  0.743655         48.781088  0.079442  1.487811   \n",
       "397     0        1  0.276247  0.790006         58.051236 -0.044751  1.580512   \n",
       "154     0        1  0.796122  0.860703         72.190516  0.059224  1.721905   \n",
       "388     0        1  0.992257  0.912930         82.635976  0.098451  1.826360   \n",
       "221     0        1  0.595452  0.950040         90.057922  0.019090  1.900579   \n",
       "197     0        1  0.000406  0.286914        -42.667257 -0.099919  0.573327   \n",
       "68      0        1  0.069213  0.760602         52.170433 -0.086157  1.521704   \n",
       "215     0        1  0.106587  0.425146        -15.020761 -0.078683  0.849792   \n",
       "268     0        1  0.167789  0.607247         21.499499 -0.066442  1.214995   \n",
       "5       0        1  0.218638  0.505355          1.121058 -0.056272  1.011211   \n",
       "183     0        1  0.254723  0.708785         41.807057 -0.049055  1.418071   \n",
       "153     0        1  0.308258  0.898981         79.846298 -0.038348  1.798463   \n",
       "17      0        1  0.378534  0.552041         10.458126 -0.024293  1.104581   \n",
       "95      0        1  0.421882  0.278545        -44.340971 -0.015624  0.556590   \n",
       "169     0        1  0.460303  0.305191        -39.011827 -0.007939  0.609882   \n",
       "281     0        1  0.505961  0.341231        -31.803765  0.001192  0.681962   \n",
       "108     0        1  0.555768  0.718408         43.731655  0.011154  1.437317   \n",
       "204     0        1  0.632941  0.335188        -33.012349  0.026588  0.669877   \n",
       "220     0        1  0.667578  0.987892         97.628491  0.033516  1.976285   \n",
       "391     0        1  0.716603  0.508872          1.824403  0.043321  1.018244   \n",
       "332     0        1  0.764443  0.606318         21.313530  0.052889  1.213135   \n",
       "373     0        1  0.813566  0.550097         10.069322  0.062713  1.100693   \n",
       "295     0        1  0.850953  0.181840        -63.682029  0.070191  0.363180   \n",
       "225     0        1  0.897208  0.743655         48.781088  0.079442  1.487811   \n",
       "110     0        1  0.968709  0.579180         15.886058  0.093742  1.158861   \n",
       "\n",
       "     theta  step  \n",
       "213     -7  0.01  \n",
       "103     -7  0.01  \n",
       "269     -7  0.01  \n",
       "131     -7  0.01  \n",
       "128     -7  0.01  \n",
       "118     -7  0.01  \n",
       "173     -7  0.01  \n",
       "62      -7  0.01  \n",
       "123     -7  0.01  \n",
       "345     -7  0.01  \n",
       "376     -7  0.01  \n",
       "147     -7  0.01  \n",
       "14      -7  0.01  \n",
       "227     -7  0.01  \n",
       "233     -7  0.01  \n",
       "225     -7  0.01  \n",
       "397     -7  0.01  \n",
       "154     -7  0.01  \n",
       "388     -7  0.01  \n",
       "221     -7  0.01  \n",
       "197     -7  0.01  \n",
       "68      -7  0.01  \n",
       "215     -7  0.01  \n",
       "268     -7  0.01  \n",
       "5       -7  0.01  \n",
       "183     -7  0.01  \n",
       "153     -7  0.01  \n",
       "17      -7  0.01  \n",
       "95      -7  0.01  \n",
       "169     -7  0.01  \n",
       "281     -7  0.01  \n",
       "108     -7  0.01  \n",
       "204     -7  0.01  \n",
       "220     -7  0.01  \n",
       "391     -7  0.01  \n",
       "332     -7  0.01  \n",
       "373     -7  0.01  \n",
       "295     -7  0.01  \n",
       "225     -7  0.01  \n",
       "110     -7  0.01  "
      ]
     },
     "execution_count": 58,
     "metadata": {},
     "output_type": "execute_result"
    }
   ],
   "source": [
    "simResultsFrame= simResults(baseMu,baseSigma,numRuns,seed,theta,step)\n",
    "#print(simResultsFrame.sort_values(by='m_sigma')[::40].head(40))\n",
    "#print(simResultsFrame.sort_values(by='m_mu')[::40].head(40))\n",
    "simResultsFrame.head(int(numRuns/10))"
   ]
  },
  {
   "cell_type": "code",
   "execution_count": 59,
   "metadata": {
    "collapsed": true
   },
   "outputs": [],
   "source": [
    "results= simResultsFrame"
   ]
  },
  {
   "cell_type": "code",
   "execution_count": 60,
   "metadata": {
    "collapsed": false
   },
   "outputs": [
    {
     "data": {
      "text/plain": [
       "<matplotlib.figure.Figure at 0xbbf6b6ef0>"
      ]
     },
     "metadata": {},
     "output_type": "display_data"
    },
    {
     "data": {
      "image/png": "[encoded data removed]",
      "text/plain": [
       "<matplotlib.figure.Figure at 0xbbdec80f0>"
      ]
     },
     "metadata": {},
     "output_type": "display_data"
    },
    {
     "data": {
      "image/png": "[encoded data removed]",
      "text/plain": [
       "<matplotlib.figure.Figure at 0xbbdd649e8>"
      ]
     },
     "metadata": {},
     "output_type": "display_data"
    }
   ],
   "source": [
    "plotSamples(simResultsFrame)"
   ]
  },
  {
   "cell_type": "markdown",
   "metadata": {},
   "source": [
    "## Plot parameter distributions"
   ]
  },
  {
   "cell_type": "markdown",
   "metadata": {
    "collapsed": false
   },
   "source": [
    "```\n",
    "z= runAll(simResultsFrame,True)\n",
    "a,b= plotProportion(z,'m_part_inv')\n",
    "plt.show()\n",
    "```"
   ]
  },
  {
   "cell_type": "markdown",
   "metadata": {},
   "source": [
    "###### Print the Theta interval and the mu-sigma pairs to `CSV`"
   ]
  },
  {
   "cell_type": "markdown",
   "metadata": {
    "collapsed": false
   },
   "source": [
    "```\n",
    "#results= results[['w_mu','w_sigma','m_mu','m_sigma','theta','step']]\n",
    "results.to_csv('../muSigmaPairs.csv')\n",
    "thetaIndex(results.iloc[0].theta, results.iloc[0].step).to_csv('../intervals.csv')\n",
    "```"
   ]
  },
  {
   "cell_type": "markdown",
   "metadata": {},
   "source": [
    "# Run a simulation using simulation parameters\n",
    "## Select a set of simulation parameters"
   ]
  },
  {
   "cell_type": "code",
   "execution_count": 61,
   "metadata": {
    "collapsed": false
   },
   "outputs": [
    {
     "data": {
      "text/plain": [
       "w_mu                0.000000\n",
       "w_sigma             1.000000\n",
       "dMu                 0.716603\n",
       "dSigma              0.508872\n",
       "dSigma_pctChange    1.824403\n",
       "m_mu                0.043321\n",
       "m_sigma             1.018244\n",
       "theta              -7.000000\n",
       "step                0.010000\n",
       "Name: 391, dtype: float64"
      ]
     },
     "execution_count": 61,
     "metadata": {},
     "output_type": "execute_result"
    }
   ],
   "source": [
    "selectedResult= results.iloc[random.randint(0,len(results))]\n",
    "selectedResult"
   ]
  },
  {
   "cell_type": "markdown",
   "metadata": {},
   "source": [
    "### Marshall required variables"
   ]
  },
  {
   "cell_type": "code",
   "execution_count": 62,
   "metadata": {
    "collapsed": false
   },
   "outputs": [],
   "source": [
    "w_mu= selectedResult.w_mu\n",
    "w_sigma= selectedResult.w_sigma\n",
    "m_mu= selectedResult.m_mu\n",
    "m_sigma= selectedResult.m_sigma"
   ]
  },
  {
   "cell_type": "markdown",
   "metadata": {},
   "source": [
    "### Some variables define the domain-space"
   ]
  },
  {
   "cell_type": "code",
   "execution_count": 63,
   "metadata": {
    "collapsed": false
   },
   "outputs": [
    {
     "data": {
      "text/html": [
       "<div>\n",
       "<table border=\"1\" class=\"dataframe\">\n",
       "  <thead>\n",
       "    <tr style=\"text-align: right;\">\n",
       "      <th></th>\n",
       "      <th>index</th>\n",
       "      <th>theta</th>\n",
       "    </tr>\n",
       "  </thead>\n",
       "  <tbody>\n",
       "    <tr>\n",
       "      <th>0</th>\n",
       "      <td>0</td>\n",
       "      <td>-7.000000</td>\n",
       "    </tr>\n",
       "    <tr>\n",
       "      <th>1</th>\n",
       "      <td>1</td>\n",
       "      <td>-6.989986</td>\n",
       "    </tr>\n",
       "    <tr>\n",
       "      <th>2</th>\n",
       "      <td>2</td>\n",
       "      <td>-6.979971</td>\n",
       "    </tr>\n",
       "    <tr>\n",
       "      <th>3</th>\n",
       "      <td>3</td>\n",
       "      <td>-6.969957</td>\n",
       "    </tr>\n",
       "    <tr>\n",
       "      <th>4</th>\n",
       "      <td>4</td>\n",
       "      <td>-6.959943</td>\n",
       "    </tr>\n",
       "  </tbody>\n",
       "</table>\n",
       "</div>"
      ],
      "text/plain": [
       "   index     theta\n",
       "0      0 -7.000000\n",
       "1      1 -6.989986\n",
       "2      2 -6.979971\n",
       "3      3 -6.969957\n",
       "4      4 -6.959943"
      ]
     },
     "execution_count": 63,
     "metadata": {},
     "output_type": "execute_result"
    }
   ],
   "source": [
    "theta= selectedResult.theta\n",
    "step= selectedResult.step\n",
    "\n",
    "frame= thetaIndex(theta,step)\n",
    "frame.head()"
   ]
  },
  {
   "cell_type": "markdown",
   "metadata": {},
   "source": [
    "### Call the analysis function"
   ]
  },
  {
   "cell_type": "code",
   "execution_count": 64,
   "metadata": {
    "collapsed": false
   },
   "outputs": [
    {
     "data": {
      "image/png": "[encoded data removed]",
      "text/plain": [
       "<matplotlib.figure.Figure at 0xbbe001e80>"
      ]
     },
     "metadata": {},
     "output_type": "display_data"
    },
    {
     "data": {
      "image/png": "[encoded data removed]",
      "text/plain": [
       "<matplotlib.figure.Figure at 0xbbf5a56a0>"
      ]
     },
     "metadata": {},
     "output_type": "display_data"
    },
    {
     "data": {
      "image/png": "[encoded data removed]",
      "text/plain": [
       "<matplotlib.figure.Figure at 0xbba2640b8>"
      ]
     },
     "metadata": {},
     "output_type": "display_data"
    },
    {
     "data": {
      "image/png": "[encoded data removed]",
      "text/plain": [
       "<matplotlib.figure.Figure at 0xbbdf8def0>"
      ]
     },
     "metadata": {},
     "output_type": "display_data"
    },
    {
     "data": {
      "text/html": [
       "<div>\n",
       "<table border=\"1\" class=\"dataframe\">\n",
       "  <thead>\n",
       "    <tr style=\"text-align: right;\">\n",
       "      <th></th>\n",
       "      <th>index</th>\n",
       "      <th>theta</th>\n",
       "      <th>m</th>\n",
       "      <th>w</th>\n",
       "      <th>m_sum</th>\n",
       "      <th>w_sum</th>\n",
       "      <th>all</th>\n",
       "      <th>w_part</th>\n",
       "      <th>m_part</th>\n",
       "      <th>m_sum_inv</th>\n",
       "      <th>w_sum_inv</th>\n",
       "      <th>all_inv</th>\n",
       "      <th>w_part_inv</th>\n",
       "      <th>m_part_inv</th>\n",
       "    </tr>\n",
       "  </thead>\n",
       "  <tbody>\n",
       "    <tr>\n",
       "      <th>1398</th>\n",
       "      <td>1398</td>\n",
       "      <td>7.000000</td>\n",
       "      <td>2.866419e-11</td>\n",
       "      <td>9.134720e-12</td>\n",
       "      <td>0.998621</td>\n",
       "      <td>0.998621</td>\n",
       "      <td>1.997243</td>\n",
       "      <td>0.5</td>\n",
       "      <td>0.5</td>\n",
       "      <td>0.00005</td>\n",
       "      <td>0.00005</td>\n",
       "      <td>0.0001</td>\n",
       "      <td>0.5</td>\n",
       "      <td>0.5</td>\n",
       "    </tr>\n",
       "    <tr>\n",
       "      <th>1397</th>\n",
       "      <td>1397</td>\n",
       "      <td>6.989986</td>\n",
       "      <td>3.065490e-11</td>\n",
       "      <td>9.797552e-12</td>\n",
       "      <td>0.998621</td>\n",
       "      <td>0.998621</td>\n",
       "      <td>1.997243</td>\n",
       "      <td>0.5</td>\n",
       "      <td>0.5</td>\n",
       "      <td>0.00005</td>\n",
       "      <td>0.00005</td>\n",
       "      <td>0.0001</td>\n",
       "      <td>0.5</td>\n",
       "      <td>0.5</td>\n",
       "    </tr>\n",
       "    <tr>\n",
       "      <th>1396</th>\n",
       "      <td>1396</td>\n",
       "      <td>6.979971</td>\n",
       "      <td>3.278069e-11</td>\n",
       "      <td>1.050743e-11</td>\n",
       "      <td>0.998621</td>\n",
       "      <td>0.998621</td>\n",
       "      <td>1.997243</td>\n",
       "      <td>0.5</td>\n",
       "      <td>0.5</td>\n",
       "      <td>0.00005</td>\n",
       "      <td>0.00005</td>\n",
       "      <td>0.0001</td>\n",
       "      <td>0.5</td>\n",
       "      <td>0.5</td>\n",
       "    </tr>\n",
       "    <tr>\n",
       "      <th>1395</th>\n",
       "      <td>1395</td>\n",
       "      <td>6.969957</td>\n",
       "      <td>3.505051e-11</td>\n",
       "      <td>1.126760e-11</td>\n",
       "      <td>0.998621</td>\n",
       "      <td>0.998621</td>\n",
       "      <td>1.997243</td>\n",
       "      <td>0.5</td>\n",
       "      <td>0.5</td>\n",
       "      <td>0.00005</td>\n",
       "      <td>0.00005</td>\n",
       "      <td>0.0001</td>\n",
       "      <td>0.5</td>\n",
       "      <td>0.5</td>\n",
       "    </tr>\n",
       "    <tr>\n",
       "      <th>1394</th>\n",
       "      <td>1394</td>\n",
       "      <td>6.959943</td>\n",
       "      <td>3.747387e-11</td>\n",
       "      <td>1.208157e-11</td>\n",
       "      <td>0.998621</td>\n",
       "      <td>0.998621</td>\n",
       "      <td>1.997243</td>\n",
       "      <td>0.5</td>\n",
       "      <td>0.5</td>\n",
       "      <td>0.00005</td>\n",
       "      <td>0.00005</td>\n",
       "      <td>0.0001</td>\n",
       "      <td>0.5</td>\n",
       "      <td>0.5</td>\n",
       "    </tr>\n",
       "  </tbody>\n",
       "</table>\n",
       "</div>"
      ],
      "text/plain": [
       "      index     theta             m             w     m_sum     w_sum  \\\n",
       "1398   1398  7.000000  2.866419e-11  9.134720e-12  0.998621  0.998621   \n",
       "1397   1397  6.989986  3.065490e-11  9.797552e-12  0.998621  0.998621   \n",
       "1396   1396  6.979971  3.278069e-11  1.050743e-11  0.998621  0.998621   \n",
       "1395   1395  6.969957  3.505051e-11  1.126760e-11  0.998621  0.998621   \n",
       "1394   1394  6.959943  3.747387e-11  1.208157e-11  0.998621  0.998621   \n",
       "\n",
       "           all  w_part  m_part  m_sum_inv  w_sum_inv  all_inv  w_part_inv  \\\n",
       "1398  1.997243     0.5     0.5    0.00005    0.00005   0.0001         0.5   \n",
       "1397  1.997243     0.5     0.5    0.00005    0.00005   0.0001         0.5   \n",
       "1396  1.997243     0.5     0.5    0.00005    0.00005   0.0001         0.5   \n",
       "1395  1.997243     0.5     0.5    0.00005    0.00005   0.0001         0.5   \n",
       "1394  1.997243     0.5     0.5    0.00005    0.00005   0.0001         0.5   \n",
       "\n",
       "      m_part_inv  \n",
       "1398         0.5  \n",
       "1397         0.5  \n",
       "1396         0.5  \n",
       "1395         0.5  \n",
       "1394         0.5  "
      ]
     },
     "execution_count": 64,
     "metadata": {},
     "output_type": "execute_result"
    }
   ],
   "source": [
    "#analyzeConditions(m_mu,m_sigma,w_mu,w_sigma,frame,step,True).head(5)\n",
    "analyzeConditions(m_mu,m_sigma,w_mu,w_sigma,theta,step,True)[0].head(5)"
   ]
  },
  {
   "cell_type": "markdown",
   "metadata": {},
   "source": [
    "### The data frame that is passed in ultimately is not changed"
   ]
  },
  {
   "cell_type": "code",
   "execution_count": 65,
   "metadata": {
    "collapsed": false
   },
   "outputs": [],
   "source": [
    "q,c= run(selectedResult,plot=False)"
   ]
  },
  {
   "cell_type": "code",
   "execution_count": 66,
   "metadata": {
    "collapsed": false
   },
   "outputs": [
    {
     "data": {
      "text/plain": [
       "{'m_mu': 0.043320665198358227,\n",
       " 'm_sigma': 1.0182440301390234,\n",
       " 'm_total': 0.99990000000000001,\n",
       " 'm_wing': 5.0000002301083798e-05,\n",
       " 'name': 391,\n",
       " 'step': 0.01,\n",
       " 'theta': -7.0,\n",
       " 'w_mu': 0.0,\n",
       " 'w_sigma': 1.0,\n",
       " 'w_total': 0.99990000000000012,\n",
       " 'w_wing': 5.0000001277795221e-05}"
      ]
     },
     "execution_count": 66,
     "metadata": {},
     "output_type": "execute_result"
    }
   ],
   "source": [
    "c"
   ]
  },
  {
   "cell_type": "code",
   "execution_count": 67,
   "metadata": {
    "collapsed": false
   },
   "outputs": [
    {
     "data": {
      "text/plain": [
       "1398    0.499311\n",
       "1397    0.509297\n",
       "1396    0.519283\n",
       "1395    0.529269\n",
       "1394    0.539256\n",
       "1393    0.549242\n",
       "1392    0.559228\n",
       "1391    0.569214\n",
       "1390    0.579200\n",
       "1389    0.589187\n",
       "Name: theta, dtype: float64"
      ]
     },
     "execution_count": 67,
     "metadata": {},
     "output_type": "execute_result"
    }
   ],
   "source": [
    "q['theta'][:10].apply(lambda x: q[abs(q['theta']-x)<=0.5]['m_sum'].sum()*step)"
   ]
  },
  {
   "cell_type": "markdown",
   "metadata": {
    "collapsed": false
   },
   "source": [
    "def l(x):\n",
    "    return q[q['theta'].between(x-0.5,x+0.5)]['m']\n",
    "\n",
    "def m():\n",
    "    q['theta'].apply(lambda x: q[q['theta'].between(x-0.5,x+0.5)]['m'].sum()*step)\n",
    "    \n",
    "def n():\n",
    "    q['theta'].apply(lambda x: l(x).max()-l(x).min())\n",
    "    \n",
    "def o():\n",
    "    q['theta'].apply(lambda x: l(x)[:-1]-l(x)[0:])\n",
    "    \n",
    "def p():\n",
    "    q['theta'].apply(lambda x: q[abs(q['theta']-x)<=0.5]['m'].sum()*step)\n",
    "    \n",
    "from timeit import timeit\n",
    "\n",
    "#print('m',timeit('m()',setup=\"from __main__ import m\", number=10))\n",
    "#print('n',timeit('n()',setup=\"from __main__ import n\", number=10))\n",
    "#print('o',timeit('o()',setup=\"from __main__ import o\", number=10))\n",
    "#print('p',timeit('p()',setup=\"from __main__ import p\", number=10))"
   ]
  },
  {
   "cell_type": "markdown",
   "metadata": {},
   "source": [
    "```\n",
    "m 16.081394099999898\n",
    "n 31.615779199999906\n",
    "o 40.3165934000001\n",
    "p 12.352546800000027\n",
    "```"
   ]
  },
  {
   "cell_type": "markdown",
   "metadata": {},
   "source": [
    "plotProportion(z)"
   ]
  },
  {
   "cell_type": "markdown",
   "metadata": {},
   "source": [
    "run(selectedResult, plot=True).head(5)"
   ]
  },
  {
   "cell_type": "markdown",
   "metadata": {},
   "source": [
    "# Run a simulation by hand"
   ]
  },
  {
   "cell_type": "code",
   "execution_count": 68,
   "metadata": {
    "collapsed": false
   },
   "outputs": [
    {
     "data": {
      "image/png": "[encoded data removed]",
      "text/plain": [
       "<matplotlib.figure.Figure at 0xbbf8d6668>"
      ]
     },
     "metadata": {},
     "output_type": "display_data"
    },
    {
     "data": {
      "image/png": "[encoded data removed]",
      "text/plain": [
       "<matplotlib.figure.Figure at 0xbbf9aec18>"
      ]
     },
     "metadata": {},
     "output_type": "display_data"
    },
    {
     "data": {
      "image/png": "[encoded data removed]",
      "text/plain": [
       "<matplotlib.figure.Figure at 0xbbf9463c8>"
      ]
     },
     "metadata": {},
     "output_type": "display_data"
    },
    {
     "data": {
      "image/png": "[encoded data removed]",
      "text/plain": [
       "<matplotlib.figure.Figure at 0xbbf8a3cc0>"
      ]
     },
     "metadata": {},
     "output_type": "display_data"
    }
   ],
   "source": [
    "#r= analyzeConditions(0,.1,0,2,thetaIndex(-7,.01),.01,True)\n",
    "r,c= analyzeConditions(0,.1,0,2,7,.01,True)"
   ]
  },
  {
   "cell_type": "code",
   "execution_count": 69,
   "metadata": {
    "collapsed": false
   },
   "outputs": [
    {
     "data": {
      "text/plain": [
       "Index(['index', 'theta', 'm', 'w', 'm_sum', 'w_sum', 'all', 'w_part', 'm_part',\n",
       "       'm_sum_inv', 'w_sum_inv', 'all_inv', 'w_part_inv', 'm_part_inv'],\n",
       "      dtype='object')"
      ]
     },
     "execution_count": 69,
     "metadata": {},
     "output_type": "execute_result"
    }
   ],
   "source": [
    "r.columns"
   ]
  },
  {
   "cell_type": "code",
   "execution_count": 70,
   "metadata": {
    "collapsed": true
   },
   "outputs": [],
   "source": [
    "cols= ['theta', 'm_sum', 'm_sum_inv', 'w_sum', 'w_sum_inv',\n",
    "       'w_part', 'm_part', 'w_part_inv', 'm_part_inv']\n",
    "#filt= (r['theta']>1.6) & (r['theta']<2)\n",
    "filt= (r['theta']<.5) & (r['theta']>-0.5)\n",
    "#filt= r['theta']!=0"
   ]
  },
  {
   "cell_type": "code",
   "execution_count": 71,
   "metadata": {
    "collapsed": false
   },
   "outputs": [
    {
     "data": {
      "text/plain": [
       "(1399, 99)"
      ]
     },
     "execution_count": 71,
     "metadata": {},
     "output_type": "execute_result"
    }
   ],
   "source": [
    "filt.count(), filt.sum()"
   ]
  },
  {
   "cell_type": "code",
   "execution_count": 72,
   "metadata": {
    "collapsed": false
   },
   "outputs": [],
   "source": [
    "#q= r[cols][filt][:500:100].append(r[cols][filt][-500::100])\n",
    "#q= r[filt][:50:10].append(r[filt][-50::10])\n",
    "q= r"
   ]
  },
  {
   "cell_type": "code",
   "execution_count": 73,
   "metadata": {
    "collapsed": false
   },
   "outputs": [
    {
     "data": {
      "text/html": [
       "<div>\n",
       "<table border=\"1\" class=\"dataframe\">\n",
       "  <thead>\n",
       "    <tr style=\"text-align: right;\">\n",
       "      <th></th>\n",
       "      <th>index</th>\n",
       "      <th>theta</th>\n",
       "      <th>m</th>\n",
       "      <th>w</th>\n",
       "      <th>m_sum</th>\n",
       "      <th>w_sum</th>\n",
       "      <th>all</th>\n",
       "      <th>w_part</th>\n",
       "      <th>m_part</th>\n",
       "      <th>m_sum_inv</th>\n",
       "      <th>w_sum_inv</th>\n",
       "      <th>all_inv</th>\n",
       "      <th>w_part_inv</th>\n",
       "      <th>m_part_inv</th>\n",
       "    </tr>\n",
       "  </thead>\n",
       "  <tbody>\n",
       "    <tr>\n",
       "      <th>1398</th>\n",
       "      <td>1398</td>\n",
       "      <td>7.000000</td>\n",
       "      <td>0.0</td>\n",
       "      <td>0.000436</td>\n",
       "      <td>0.998621</td>\n",
       "      <td>0.998394</td>\n",
       "      <td>1.997015</td>\n",
       "      <td>0.499943</td>\n",
       "      <td>0.500057</td>\n",
       "      <td>0.00005</td>\n",
       "      <td>0.000287</td>\n",
       "      <td>0.000337</td>\n",
       "      <td>0.851580</td>\n",
       "      <td>0.148420</td>\n",
       "    </tr>\n",
       "    <tr>\n",
       "      <th>1397</th>\n",
       "      <td>1397</td>\n",
       "      <td>6.989986</td>\n",
       "      <td>0.0</td>\n",
       "      <td>0.000444</td>\n",
       "      <td>0.998621</td>\n",
       "      <td>0.998389</td>\n",
       "      <td>1.997011</td>\n",
       "      <td>0.499942</td>\n",
       "      <td>0.500058</td>\n",
       "      <td>0.00005</td>\n",
       "      <td>0.000291</td>\n",
       "      <td>0.000341</td>\n",
       "      <td>0.853511</td>\n",
       "      <td>0.146489</td>\n",
       "    </tr>\n",
       "    <tr>\n",
       "      <th>1396</th>\n",
       "      <td>1396</td>\n",
       "      <td>6.979971</td>\n",
       "      <td>0.0</td>\n",
       "      <td>0.000452</td>\n",
       "      <td>0.998621</td>\n",
       "      <td>0.998385</td>\n",
       "      <td>1.997006</td>\n",
       "      <td>0.499941</td>\n",
       "      <td>0.500059</td>\n",
       "      <td>0.00005</td>\n",
       "      <td>0.000296</td>\n",
       "      <td>0.000346</td>\n",
       "      <td>0.855425</td>\n",
       "      <td>0.144575</td>\n",
       "    </tr>\n",
       "    <tr>\n",
       "      <th>1395</th>\n",
       "      <td>1395</td>\n",
       "      <td>6.969957</td>\n",
       "      <td>0.0</td>\n",
       "      <td>0.000460</td>\n",
       "      <td>0.998621</td>\n",
       "      <td>0.998380</td>\n",
       "      <td>1.997002</td>\n",
       "      <td>0.499940</td>\n",
       "      <td>0.500060</td>\n",
       "      <td>0.00005</td>\n",
       "      <td>0.000300</td>\n",
       "      <td>0.000350</td>\n",
       "      <td>0.857322</td>\n",
       "      <td>0.142678</td>\n",
       "    </tr>\n",
       "    <tr>\n",
       "      <th>1394</th>\n",
       "      <td>1394</td>\n",
       "      <td>6.959943</td>\n",
       "      <td>0.0</td>\n",
       "      <td>0.000468</td>\n",
       "      <td>0.998621</td>\n",
       "      <td>0.998376</td>\n",
       "      <td>1.996997</td>\n",
       "      <td>0.499938</td>\n",
       "      <td>0.500062</td>\n",
       "      <td>0.00005</td>\n",
       "      <td>0.000305</td>\n",
       "      <td>0.000355</td>\n",
       "      <td>0.859202</td>\n",
       "      <td>0.140798</td>\n",
       "    </tr>\n",
       "  </tbody>\n",
       "</table>\n",
       "</div>"
      ],
      "text/plain": [
       "      index     theta    m         w     m_sum     w_sum       all    w_part  \\\n",
       "1398   1398  7.000000  0.0  0.000436  0.998621  0.998394  1.997015  0.499943   \n",
       "1397   1397  6.989986  0.0  0.000444  0.998621  0.998389  1.997011  0.499942   \n",
       "1396   1396  6.979971  0.0  0.000452  0.998621  0.998385  1.997006  0.499941   \n",
       "1395   1395  6.969957  0.0  0.000460  0.998621  0.998380  1.997002  0.499940   \n",
       "1394   1394  6.959943  0.0  0.000468  0.998621  0.998376  1.996997  0.499938   \n",
       "\n",
       "        m_part  m_sum_inv  w_sum_inv   all_inv  w_part_inv  m_part_inv  \n",
       "1398  0.500057    0.00005   0.000287  0.000337    0.851580    0.148420  \n",
       "1397  0.500058    0.00005   0.000291  0.000341    0.853511    0.146489  \n",
       "1396  0.500059    0.00005   0.000296  0.000346    0.855425    0.144575  \n",
       "1395  0.500060    0.00005   0.000300  0.000350    0.857322    0.142678  \n",
       "1394  0.500062    0.00005   0.000305  0.000355    0.859202    0.140798  "
      ]
     },
     "execution_count": 73,
     "metadata": {},
     "output_type": "execute_result"
    }
   ],
   "source": [
    "q.head()"
   ]
  },
  {
   "cell_type": "code",
   "execution_count": 74,
   "metadata": {
    "collapsed": false
   },
   "outputs": [],
   "source": [
    "q['m_kernel']= q[['theta']].applymap(lambda x: q[abs(q['theta']-x) <= 0.5]['m'].mean())"
   ]
  },
  {
   "cell_type": "code",
   "execution_count": 75,
   "metadata": {
    "collapsed": false
   },
   "outputs": [
    {
     "data": {
      "text/plain": [
       "m_kernel    [Line2D(m_kernel)]\n",
       "theta          [Line2D(theta)]\n",
       "m                  [Line2D(m)]\n",
       "dtype: object"
      ]
     },
     "execution_count": 75,
     "metadata": {},
     "output_type": "execute_result"
    },
    {
     "data": {
      "image/png": "[encoded data removed]",
      "text/plain": [
       "<matplotlib.figure.Figure at 0xbbe0017f0>"
      ]
     },
     "metadata": {},
     "output_type": "display_data"
    }
   ],
   "source": [
    "q[['m_kernel','theta','m']].apply(lambda x: plt.plot(q.reset_index()['index'],x))"
   ]
  },
  {
   "cell_type": "markdown",
   "metadata": {},
   "source": [
    "# Create set of runs exploring variance only"
   ]
  },
  {
   "cell_type": "code",
   "execution_count": 76,
   "metadata": {
    "collapsed": false
   },
   "outputs": [
    {
     "name": "stderr",
     "output_type": "stream",
     "text": [
      "C:\\Users\\edwardsd\\Anaconda2\\envs\\py36\\lib\\site-packages\\pandas\\indexes\\api.py:71: RuntimeWarning: '<' not supported between instances of 'str' and 'int', sort order is undefined for incomparable objects\n",
      "  result = result.union(other)\n",
      "C:\\Users\\edwardsd\\Anaconda2\\envs\\py36\\lib\\site-packages\\ipykernel\\__main__.py:15: SettingWithCopyWarning: \n",
      "A value is trying to be set on a copy of a slice from a DataFrame\n",
      "\n",
      "See the caveats in the documentation: http://pandas.pydata.org/pandas-docs/stable/indexing.html#indexing-view-versus-copy\n"
     ]
    },
    {
     "data": {
      "text/plain": [
       "<matplotlib.figure.Figure at 0xbbe1a2ef0>"
      ]
     },
     "metadata": {},
     "output_type": "display_data"
    },
    {
     "data": {
      "image/png": "[encoded data removed]",
      "text/plain": [
       "<matplotlib.figure.Figure at 0xbbf678be0>"
      ]
     },
     "metadata": {},
     "output_type": "display_data"
    },
    {
     "data": {
      "image/png": "[encoded data removed]",
      "text/plain": [
       "<matplotlib.figure.Figure at 0xbbe1e96d8>"
      ]
     },
     "metadata": {},
     "output_type": "display_data"
    },
    {
     "data": {
      "image/png": "[encoded data removed]",
      "text/plain": [
       "<matplotlib.figure.Figure at 0xbbf5a5208>"
      ]
     },
     "metadata": {},
     "output_type": "display_data"
    },
    {
     "data": {
      "image/png": "[encoded data removed]",
      "text/plain": [
       "<matplotlib.figure.Figure at 0xbbdfb4208>"
      ]
     },
     "metadata": {},
     "output_type": "display_data"
    },
    {
     "data": {
      "image/png": "[encoded data removed]",
      "text/plain": [
       "<matplotlib.figure.Figure at 0xbbe13cb38>"
      ]
     },
     "metadata": {},
     "output_type": "display_data"
    },
    {
     "data": {
      "text/html": [
       "<div>\n",
       "<table border=\"1\" class=\"dataframe\">\n",
       "  <thead>\n",
       "    <tr style=\"text-align: right;\">\n",
       "      <th></th>\n",
       "      <th>m_mu</th>\n",
       "      <th>m_sigma</th>\n",
       "      <th>m_total</th>\n",
       "      <th>m_wing</th>\n",
       "      <th>name</th>\n",
       "      <th>step</th>\n",
       "      <th>theta</th>\n",
       "      <th>w_mu</th>\n",
       "      <th>w_sigma</th>\n",
       "      <th>w_total</th>\n",
       "      <th>w_wing</th>\n",
       "    </tr>\n",
       "    <tr>\n",
       "      <th>name</th>\n",
       "      <th></th>\n",
       "      <th></th>\n",
       "      <th></th>\n",
       "      <th></th>\n",
       "      <th></th>\n",
       "      <th></th>\n",
       "      <th></th>\n",
       "      <th></th>\n",
       "      <th></th>\n",
       "      <th></th>\n",
       "      <th></th>\n",
       "    </tr>\n",
       "  </thead>\n",
       "  <tbody>\n",
       "    <tr>\n",
       "      <th>213</th>\n",
       "      <td>0.031212</td>\n",
       "      <td>0.010590</td>\n",
       "      <td>0.9999</td>\n",
       "      <td>0.00005</td>\n",
       "      <td>213</td>\n",
       "      <td>0.01</td>\n",
       "      <td>-7.0</td>\n",
       "      <td>0.0</td>\n",
       "      <td>1.0</td>\n",
       "      <td>0.9999</td>\n",
       "      <td>0.00005</td>\n",
       "    </tr>\n",
       "    <tr>\n",
       "      <th>295</th>\n",
       "      <td>0.070191</td>\n",
       "      <td>0.363180</td>\n",
       "      <td>0.9999</td>\n",
       "      <td>0.00005</td>\n",
       "      <td>295</td>\n",
       "      <td>0.01</td>\n",
       "      <td>-7.0</td>\n",
       "      <td>0.0</td>\n",
       "      <td>1.0</td>\n",
       "      <td>0.9999</td>\n",
       "      <td>0.00005</td>\n",
       "    </tr>\n",
       "    <tr>\n",
       "      <th>173</th>\n",
       "      <td>0.093378</td>\n",
       "      <td>0.557750</td>\n",
       "      <td>0.9999</td>\n",
       "      <td>0.00005</td>\n",
       "      <td>173</td>\n",
       "      <td>0.01</td>\n",
       "      <td>-7.0</td>\n",
       "      <td>0.0</td>\n",
       "      <td>1.0</td>\n",
       "      <td>0.9999</td>\n",
       "      <td>0.00005</td>\n",
       "    </tr>\n",
       "    <tr>\n",
       "      <th>204</th>\n",
       "      <td>0.026588</td>\n",
       "      <td>0.669877</td>\n",
       "      <td>0.9999</td>\n",
       "      <td>0.00005</td>\n",
       "      <td>204</td>\n",
       "      <td>0.01</td>\n",
       "      <td>-7.0</td>\n",
       "      <td>0.0</td>\n",
       "      <td>1.0</td>\n",
       "      <td>0.9999</td>\n",
       "      <td>0.00005</td>\n",
       "    </tr>\n",
       "    <tr>\n",
       "      <th>345</th>\n",
       "      <td>0.040598</td>\n",
       "      <td>0.907563</td>\n",
       "      <td>0.9999</td>\n",
       "      <td>0.00005</td>\n",
       "      <td>345</td>\n",
       "      <td>0.01</td>\n",
       "      <td>-7.0</td>\n",
       "      <td>0.0</td>\n",
       "      <td>1.0</td>\n",
       "      <td>0.9999</td>\n",
       "      <td>0.00005</td>\n",
       "    </tr>\n",
       "  </tbody>\n",
       "</table>\n",
       "</div>"
      ],
      "text/plain": [
       "          m_mu   m_sigma  m_total   m_wing  name  step  theta  w_mu  w_sigma  \\\n",
       "name                                                                           \n",
       "213   0.031212  0.010590   0.9999  0.00005   213  0.01   -7.0   0.0      1.0   \n",
       "295   0.070191  0.363180   0.9999  0.00005   295  0.01   -7.0   0.0      1.0   \n",
       "173   0.093378  0.557750   0.9999  0.00005   173  0.01   -7.0   0.0      1.0   \n",
       "204   0.026588  0.669877   0.9999  0.00005   204  0.01   -7.0   0.0      1.0   \n",
       "345   0.040598  0.907563   0.9999  0.00005   345  0.01   -7.0   0.0      1.0   \n",
       "\n",
       "      w_total   w_wing  \n",
       "name                    \n",
       "213    0.9999  0.00005  \n",
       "295    0.9999  0.00005  \n",
       "173    0.9999  0.00005  \n",
       "204    0.9999  0.00005  \n",
       "345    0.9999  0.00005  "
      ]
     },
     "execution_count": 76,
     "metadata": {},
     "output_type": "execute_result"
    }
   ],
   "source": [
    "cols= ['w_mu', 'w_sigma', 'm_mu', 'm_sigma', 'theta', 'step']\n",
    "rx= pd.DataFrame([])\n",
    "#rx= pd.DataFrame()\n",
    "\n",
    "#rx= rx.append([[0.,2.,0.,1.,4.,.1]])\n",
    "#rx= rx.append([[0.,1.,0.,.05,-7.,.01]])\n",
    "#rx= rx.append([[0.,2.,0.,.35,4.,.1]])\n",
    "#rx= rx.append([[0.,1.,0.,.35,7.,.05]])\n",
    "#rx= rx.append([[0.,1.,0.,.35,7.,.01]])\n",
    "#rx= rx.append([[0.,1.,0.,.35,7.,.005]])\n",
    "#rx= rx.append([[0.,1.,0.,.35,7.,.001]])\n",
    "#rx= rx.append([[0.,1.,0.,.999,-10.,.01]])\n",
    "#rx= rx.append([[0.,1.,0.,1.001,-10.,.1]])\n",
    "#rx= rx.append([[0.,2.,0.,5.,4.,.1]])\n",
    "\n",
    "pointMass= [0.,2.,0.,.01,10.,.0001]\n",
    "uniformSpread= [0.,2.,0.,100,10.,.0001]\n",
    "identicalDist= [0.,2.,0.,2.,10.,.0001]\n",
    "handyConditions= pd.DataFrame([identicalDist,pointMass,uniformSpread], columns=cols)\n",
    "rx= rx.append(handyConditions)\n",
    "\n",
    "theta=8\n",
    "ss=  [[0.,2.,0.,.35,theta,s] for s in np.linspace(.001,.1,5)]\n",
    "gt=  [[0.,2.,0.,s,theta,.10] for s in np.linspace(2.1,3.0,8+1)]\n",
    "gt2= [[0.,2.,0.,s,theta,.10] for s in np.linspace(3.05,5.0,8+1)]\n",
    "gt3= [[0.,2.,0.,s,theta,.10] for s in np.linspace(5.5,90.,8+1)]\n",
    "lt=  [[0.,2.,0.,s,theta,.10] for s in np.linspace(0.3,0.9,4+1)]\n",
    "lt2= [[0.,2.,0.,s,theta,.10] for s in np.linspace(1.0,1.9,8+1)]\n",
    "\n",
    "#rx= rx.append(gt[0:])\n",
    "#rx= rx.append(gt2[0:])\n",
    "#rx= rx.append(gt3[0:])\n",
    "#rx= rx.append(lt[0:])\n",
    "#rx= rx.append(lt2[0:])\n",
    "#rx= rx.append(ss[0:])\n",
    "\n",
    "rx.columns= cols\n",
    "rx.reset_index(inplace=True)\n",
    "rx= rx[cols]\n",
    "\n",
    "#########\n",
    "rx= simResultsFrame\n",
    "\n",
    "#########\n",
    "iStep= (int(simResultsFrame.shape[0]/12))+1\n",
    "rx= rx[0::iStep]\n",
    "\n",
    "rx= rx.append(pointMass)\n",
    "rx= rx.append(uniformSpread)\n",
    "rx= rx.append(identicalDist)\n",
    "\n",
    "plotOrder= list(rx.sort_values(by=['m_sigma','step']).reset_index()['index'])\n",
    "\n",
    "\n",
    "z,c= runAll(simResultsFrame[0::iStep],True)\n",
    "t=z\n",
    "plot=True\n",
    "if plot:\n",
    "    a,b= plotProportion(t,'m_part')\n",
    "    plt.title('m_part_inv')\n",
    "    plt.legend(a,b,bbox_to_anchor=(1.05, 1), loc=2, borderaxespad=0.)\n",
    "    plt.show()\n",
    "\n",
    "    if False:\n",
    "        a,b= plotProportion(t,'m_part_inv')\n",
    "        plt.title('m_part')\n",
    "        plt.legend(a,b,bbox_to_anchor=(1.05, 1), loc=2, borderaxespad=0.)\n",
    "        plt.show()\n",
    "    \n",
    "    if 'm_part_kern' in t.columns:\n",
    "        a,b= plotProportion(t,'m_part_kern')\n",
    "        plt.title('m_part_kern')\n",
    "        plt.legend(a,b,bbox_to_anchor=(1.05, 1), loc=2, borderaxespad=0.)\n",
    "        plt.show()\n",
    "\n",
    "    a,b= plotProportion(t,'m_sum')\n",
    "    plt.title('m_sum')\n",
    "    plt.legend(a,b,bbox_to_anchor=(1.05, 1), loc=2, borderaxespad=0.)\n",
    "    plt.show()\n",
    "\n",
    "    if False:\n",
    "        a,b= plotProportion(t,'m_sum_inv')\n",
    "        plt.title('m_sum_inv')\n",
    "        plt.legend(a,b,bbox_to_anchor=(1.05, 1), loc=2, borderaxespad=0.)\n",
    "        plt.show()\n",
    "\n",
    "    a,b= plotProportion(t,'m')\n",
    "    plt.title('m')\n",
    "    plt.legend(a,b,bbox_to_anchor=(1.05, 1), loc=2, borderaxespad=0.)\n",
    "    plt.show()\n",
    "    #plt.legend(a,rx['index'].unique())\n",
    "    #plt.legend(a,rx.index)\n",
    "\n",
    "c.head()"
   ]
  },
  {
   "cell_type": "code",
   "execution_count": 77,
   "metadata": {
    "collapsed": false
   },
   "outputs": [
    {
     "data": {
      "text/plain": [
       "(10, 11)"
      ]
     },
     "execution_count": 77,
     "metadata": {},
     "output_type": "execute_result"
    }
   ],
   "source": [
    "c.shape"
   ]
  },
  {
   "cell_type": "code",
   "execution_count": 78,
   "metadata": {
    "collapsed": false
   },
   "outputs": [
    {
     "name": "stdout",
     "output_type": "stream",
     "text": [
      "[ 0.03   0.245  0.46   0.675  0.89   1.105  1.32   1.535  1.75 ]\n",
      "[-3.506557897319982, -1.40649706843741, -0.7765287894989964, -0.3930425881096072, -0.11653381625595151, 0.09984533496971612, 0.27763173659827955, 0.4285303810391604, 0.5596157879354227]\n",
      "[ 0.03  0.05  0.08  0.14  0.23  0.38  0.63  1.05  1.75]\n"
     ]
    }
   ],
   "source": [
    "start= .03\n",
    "end= 1.75\n",
    "lt= [[0.,2.,0.,s,4.,.05] for s in np.linspace(start,end,8+1)]\n",
    "\n",
    "interval= np.linspace(start,end,8+1)\n",
    "print(interval)\n",
    "interval_range= (end-start)\n",
    "loginterval= list(map(log,interval))\n",
    "loginterval_max= max(loginterval)\n",
    "loginterval_min= min(loginterval)\n",
    "loginterval_range= loginterval_max-loginterval_min\n",
    "\n",
    "print(loginterval)\n",
    "\n",
    "start= log(start,10)\n",
    "end= log(end,10)\n",
    "lt= [[0.,2.,0.,s,4.,.05] for s in np.logspace(start,end,8+1)]\n",
    "print(np.logspace(start,end,8+1).round(2))"
   ]
  },
  {
   "cell_type": "markdown",
   "metadata": {
    "collapsed": true
   },
   "source": [
    "```\n",
    "z.to_csv('../bigInterval.csv')\n",
    "rx.to_csv('../muSigmaPairs.csv')\n",
    "```"
   ]
  },
  {
   "cell_type": "markdown",
   "metadata": {},
   "source": [
    "```\n",
    "#def computeRunData(m_mu,m_sigma,w_mu,w_sigma,frame,step):\n",
    "#    return m_total,m_wing,pdfM,w_total,w_wing,pdfW,d\n",
    "```"
   ]
  },
  {
   "cell_type": "markdown",
   "metadata": {},
   "source": [
    "z,c= runAll(rx,True)\n",
    "c.set_index(c['name']).head()"
   ]
  },
  {
   "cell_type": "code",
   "execution_count": 79,
   "metadata": {
    "collapsed": false
   },
   "outputs": [
    {
     "data": {
      "text/html": [
       "<div>\n",
       "<table border=\"1\" class=\"dataframe\">\n",
       "  <thead>\n",
       "    <tr style=\"text-align: right;\">\n",
       "      <th></th>\n",
       "      <th>index</th>\n",
       "      <th>theta</th>\n",
       "      <th>m</th>\n",
       "      <th>w</th>\n",
       "      <th>m_sum</th>\n",
       "      <th>w_sum</th>\n",
       "      <th>all</th>\n",
       "      <th>w_part</th>\n",
       "      <th>m_part</th>\n",
       "      <th>m_sum_inv</th>\n",
       "      <th>w_sum_inv</th>\n",
       "      <th>all_inv</th>\n",
       "      <th>w_part_inv</th>\n",
       "      <th>m_part_inv</th>\n",
       "      <th>name</th>\n",
       "    </tr>\n",
       "  </thead>\n",
       "  <tbody>\n",
       "    <tr>\n",
       "      <th>1398</th>\n",
       "      <td>1398</td>\n",
       "      <td>7.000000</td>\n",
       "      <td>0.0</td>\n",
       "      <td>9.134720e-12</td>\n",
       "      <td>0.998621</td>\n",
       "      <td>0.998621</td>\n",
       "      <td>1.997243</td>\n",
       "      <td>0.5</td>\n",
       "      <td>0.5</td>\n",
       "      <td>0.00005</td>\n",
       "      <td>0.00005</td>\n",
       "      <td>0.0001</td>\n",
       "      <td>0.5</td>\n",
       "      <td>0.5</td>\n",
       "      <td>213</td>\n",
       "    </tr>\n",
       "    <tr>\n",
       "      <th>1397</th>\n",
       "      <td>1397</td>\n",
       "      <td>6.989986</td>\n",
       "      <td>0.0</td>\n",
       "      <td>9.797552e-12</td>\n",
       "      <td>0.998621</td>\n",
       "      <td>0.998621</td>\n",
       "      <td>1.997243</td>\n",
       "      <td>0.5</td>\n",
       "      <td>0.5</td>\n",
       "      <td>0.00005</td>\n",
       "      <td>0.00005</td>\n",
       "      <td>0.0001</td>\n",
       "      <td>0.5</td>\n",
       "      <td>0.5</td>\n",
       "      <td>213</td>\n",
       "    </tr>\n",
       "    <tr>\n",
       "      <th>1396</th>\n",
       "      <td>1396</td>\n",
       "      <td>6.979971</td>\n",
       "      <td>0.0</td>\n",
       "      <td>1.050743e-11</td>\n",
       "      <td>0.998621</td>\n",
       "      <td>0.998621</td>\n",
       "      <td>1.997243</td>\n",
       "      <td>0.5</td>\n",
       "      <td>0.5</td>\n",
       "      <td>0.00005</td>\n",
       "      <td>0.00005</td>\n",
       "      <td>0.0001</td>\n",
       "      <td>0.5</td>\n",
       "      <td>0.5</td>\n",
       "      <td>213</td>\n",
       "    </tr>\n",
       "    <tr>\n",
       "      <th>1395</th>\n",
       "      <td>1395</td>\n",
       "      <td>6.969957</td>\n",
       "      <td>0.0</td>\n",
       "      <td>1.126760e-11</td>\n",
       "      <td>0.998621</td>\n",
       "      <td>0.998621</td>\n",
       "      <td>1.997243</td>\n",
       "      <td>0.5</td>\n",
       "      <td>0.5</td>\n",
       "      <td>0.00005</td>\n",
       "      <td>0.00005</td>\n",
       "      <td>0.0001</td>\n",
       "      <td>0.5</td>\n",
       "      <td>0.5</td>\n",
       "      <td>213</td>\n",
       "    </tr>\n",
       "    <tr>\n",
       "      <th>1394</th>\n",
       "      <td>1394</td>\n",
       "      <td>6.959943</td>\n",
       "      <td>0.0</td>\n",
       "      <td>1.208157e-11</td>\n",
       "      <td>0.998621</td>\n",
       "      <td>0.998621</td>\n",
       "      <td>1.997243</td>\n",
       "      <td>0.5</td>\n",
       "      <td>0.5</td>\n",
       "      <td>0.00005</td>\n",
       "      <td>0.00005</td>\n",
       "      <td>0.0001</td>\n",
       "      <td>0.5</td>\n",
       "      <td>0.5</td>\n",
       "      <td>213</td>\n",
       "    </tr>\n",
       "  </tbody>\n",
       "</table>\n",
       "</div>"
      ],
      "text/plain": [
       "      index     theta    m             w     m_sum     w_sum       all  \\\n",
       "1398   1398  7.000000  0.0  9.134720e-12  0.998621  0.998621  1.997243   \n",
       "1397   1397  6.989986  0.0  9.797552e-12  0.998621  0.998621  1.997243   \n",
       "1396   1396  6.979971  0.0  1.050743e-11  0.998621  0.998621  1.997243   \n",
       "1395   1395  6.969957  0.0  1.126760e-11  0.998621  0.998621  1.997243   \n",
       "1394   1394  6.959943  0.0  1.208157e-11  0.998621  0.998621  1.997243   \n",
       "\n",
       "      w_part  m_part  m_sum_inv  w_sum_inv  all_inv  w_part_inv  m_part_inv  \\\n",
       "1398     0.5     0.5    0.00005    0.00005   0.0001         0.5         0.5   \n",
       "1397     0.5     0.5    0.00005    0.00005   0.0001         0.5         0.5   \n",
       "1396     0.5     0.5    0.00005    0.00005   0.0001         0.5         0.5   \n",
       "1395     0.5     0.5    0.00005    0.00005   0.0001         0.5         0.5   \n",
       "1394     0.5     0.5    0.00005    0.00005   0.0001         0.5         0.5   \n",
       "\n",
       "      name  \n",
       "1398   213  \n",
       "1397   213  \n",
       "1396   213  \n",
       "1395   213  \n",
       "1394   213  "
      ]
     },
     "execution_count": 79,
     "metadata": {},
     "output_type": "execute_result"
    }
   ],
   "source": [
    "z.head()"
   ]
  },
  {
   "cell_type": "code",
   "execution_count": 80,
   "metadata": {
    "collapsed": false
   },
   "outputs": [
    {
     "data": {
      "text/html": [
       "<div>\n",
       "<table border=\"1\" class=\"dataframe\">\n",
       "  <thead>\n",
       "    <tr style=\"text-align: right;\">\n",
       "      <th></th>\n",
       "      <th>m</th>\n",
       "      <th>w</th>\n",
       "      <th>m</th>\n",
       "      <th>w</th>\n",
       "    </tr>\n",
       "    <tr>\n",
       "      <th>name</th>\n",
       "      <th></th>\n",
       "      <th></th>\n",
       "      <th></th>\n",
       "      <th></th>\n",
       "    </tr>\n",
       "  </thead>\n",
       "  <tbody>\n",
       "    <tr>\n",
       "      <th>14</th>\n",
       "      <td>2.348909e-08</td>\n",
       "      <td>9.134720e-12</td>\n",
       "      <td>1.205789e-08</td>\n",
       "      <td>9.134720e-12</td>\n",
       "    </tr>\n",
       "    <tr>\n",
       "      <th>153</th>\n",
       "      <td>1.047693e-04</td>\n",
       "      <td>9.134720e-12</td>\n",
       "      <td>1.236860e-04</td>\n",
       "      <td>9.134720e-12</td>\n",
       "    </tr>\n",
       "    <tr>\n",
       "      <th>173</th>\n",
       "      <td>3.608757e-34</td>\n",
       "      <td>9.134720e-12</td>\n",
       "      <td>5.398815e-36</td>\n",
       "      <td>9.134720e-12</td>\n",
       "    </tr>\n",
       "    <tr>\n",
       "      <th>204</th>\n",
       "      <td>1.750247e-24</td>\n",
       "      <td>9.134720e-12</td>\n",
       "      <td>7.635600e-25</td>\n",
       "      <td>9.134720e-12</td>\n",
       "    </tr>\n",
       "    <tr>\n",
       "      <th>213</th>\n",
       "      <td>0.000000e+00</td>\n",
       "      <td>9.134720e-12</td>\n",
       "      <td>0.000000e+00</td>\n",
       "      <td>9.134720e-12</td>\n",
       "    </tr>\n",
       "    <tr>\n",
       "      <th>225</th>\n",
       "      <td>5.371038e-06</td>\n",
       "      <td>9.134720e-12</td>\n",
       "      <td>3.249773e-06</td>\n",
       "      <td>9.134720e-12</td>\n",
       "    </tr>\n",
       "    <tr>\n",
       "      <th>233</th>\n",
       "      <td>7.137239e-07</td>\n",
       "      <td>9.134720e-12</td>\n",
       "      <td>1.054530e-06</td>\n",
       "      <td>9.134720e-12</td>\n",
       "    </tr>\n",
       "    <tr>\n",
       "      <th>295</th>\n",
       "      <td>9.579624e-80</td>\n",
       "      <td>9.134720e-12</td>\n",
       "      <td>5.569290e-83</td>\n",
       "      <td>9.134720e-12</td>\n",
       "    </tr>\n",
       "    <tr>\n",
       "      <th>345</th>\n",
       "      <td>7.488299e-14</td>\n",
       "      <td>9.134720e-12</td>\n",
       "      <td>3.755802e-14</td>\n",
       "      <td>9.134720e-12</td>\n",
       "    </tr>\n",
       "    <tr>\n",
       "      <th>373</th>\n",
       "      <td>8.578494e-10</td>\n",
       "      <td>9.134720e-12</td>\n",
       "      <td>4.156048e-10</td>\n",
       "      <td>9.134720e-12</td>\n",
       "    </tr>\n",
       "  </tbody>\n",
       "</table>\n",
       "</div>"
      ],
      "text/plain": [
       "                 m             w             m             w\n",
       "name                                                        \n",
       "14    2.348909e-08  9.134720e-12  1.205789e-08  9.134720e-12\n",
       "153   1.047693e-04  9.134720e-12  1.236860e-04  9.134720e-12\n",
       "173   3.608757e-34  9.134720e-12  5.398815e-36  9.134720e-12\n",
       "204   1.750247e-24  9.134720e-12  7.635600e-25  9.134720e-12\n",
       "213   0.000000e+00  9.134720e-12  0.000000e+00  9.134720e-12\n",
       "225   5.371038e-06  9.134720e-12  3.249773e-06  9.134720e-12\n",
       "233   7.137239e-07  9.134720e-12  1.054530e-06  9.134720e-12\n",
       "295   9.579624e-80  9.134720e-12  5.569290e-83  9.134720e-12\n",
       "345   7.488299e-14  9.134720e-12  3.755802e-14  9.134720e-12\n",
       "373   8.578494e-10  9.134720e-12  4.156048e-10  9.134720e-12"
      ]
     },
     "execution_count": 80,
     "metadata": {},
     "output_type": "execute_result"
    }
   ],
   "source": [
    "z.sort_values(by=['name','theta'])\n",
    "pd.concat([z.groupby('name')['m','w'].first(),\n",
    "z.groupby('name')['m','w'].last()],axis=1)"
   ]
  },
  {
   "cell_type": "markdown",
   "metadata": {},
   "source": [
    "z,c= runAll(rx,True)"
   ]
  },
  {
   "cell_type": "code",
   "execution_count": 81,
   "metadata": {
    "collapsed": false
   },
   "outputs": [
    {
     "name": "stdout",
     "output_type": "stream",
     "text": [
      "Index(['max_m_sum', 'max_m_sum_inv', 'max_w_sum', 'max_w_sum_inv', 'min_m_sum',\n",
      "       'min_m_sum_inv', 'min_w_sum', 'min_w_sum_inv'],\n",
      "      dtype='object')\n",
      "        m_wing   w_wing  max_m_sum  max_w_sum  min_m_sum  min_w_sum  \\\n",
      "name                                                                  \n",
      "14    0.000050  0.00005   0.998671   0.998671   1.000000        1.0   \n",
      "153   0.000104  0.00005   0.998681   0.998671   0.999999        1.0   \n",
      "173   0.000050  0.00005   0.998671   0.998671   1.000000        1.0   \n",
      "204   0.000050  0.00005   0.998671   0.998671   1.000000        1.0   \n",
      "213   0.000050  0.00005   0.998671   0.998671   1.000000        1.0   \n",
      "\n",
      "      max_m_sum_inv  max_w_sum_inv  min_m_sum_inv  min_w_sum_inv  \n",
      "name                                                              \n",
      "14         0.998671       0.998671       1.000000            1.0  \n",
      "153        0.998681       0.998671       0.999999            1.0  \n",
      "173        0.998671       0.998671       1.000000            1.0  \n",
      "204        0.998671       0.998671       1.000000            1.0  \n",
      "213        0.998671       0.998671       1.000000            1.0  \n"
     ]
    },
    {
     "data": {
      "text/html": [
       "<div>\n",
       "<table border=\"1\" class=\"dataframe\">\n",
       "  <thead>\n",
       "    <tr style=\"text-align: right;\">\n",
       "      <th></th>\n",
       "      <th>total_m</th>\n",
       "      <th>total_w</th>\n",
       "      <th>m_mu</th>\n",
       "      <th>m_sigma</th>\n",
       "      <th>m_total</th>\n",
       "      <th>m_wing</th>\n",
       "      <th>name</th>\n",
       "      <th>step</th>\n",
       "      <th>theta</th>\n",
       "      <th>w_mu</th>\n",
       "      <th>...</th>\n",
       "      <th>w_wing</th>\n",
       "      <th>N</th>\n",
       "      <th>max_m_sum</th>\n",
       "      <th>max_m_sum_inv</th>\n",
       "      <th>max_w_sum</th>\n",
       "      <th>max_w_sum_inv</th>\n",
       "      <th>min_m_sum</th>\n",
       "      <th>min_m_sum_inv</th>\n",
       "      <th>min_w_sum</th>\n",
       "      <th>min_w_sum_inv</th>\n",
       "    </tr>\n",
       "    <tr>\n",
       "      <th>name</th>\n",
       "      <th></th>\n",
       "      <th></th>\n",
       "      <th></th>\n",
       "      <th></th>\n",
       "      <th></th>\n",
       "      <th></th>\n",
       "      <th></th>\n",
       "      <th></th>\n",
       "      <th></th>\n",
       "      <th></th>\n",
       "      <th></th>\n",
       "      <th></th>\n",
       "      <th></th>\n",
       "      <th></th>\n",
       "      <th></th>\n",
       "      <th></th>\n",
       "      <th></th>\n",
       "      <th></th>\n",
       "      <th></th>\n",
       "      <th></th>\n",
       "      <th></th>\n",
       "    </tr>\n",
       "  </thead>\n",
       "  <tbody>\n",
       "    <tr>\n",
       "      <th>14</th>\n",
       "      <td>0.998571</td>\n",
       "      <td>0.998571</td>\n",
       "      <td>0.069499</td>\n",
       "      <td>1.207952</td>\n",
       "      <td>0.9999</td>\n",
       "      <td>0.000050</td>\n",
       "      <td>14</td>\n",
       "      <td>0.01</td>\n",
       "      <td>-7.0</td>\n",
       "      <td>0.0</td>\n",
       "      <td>...</td>\n",
       "      <td>0.00005</td>\n",
       "      <td>1399</td>\n",
       "      <td>0.998671</td>\n",
       "      <td>0.998671</td>\n",
       "      <td>0.998671</td>\n",
       "      <td>0.998671</td>\n",
       "      <td>1.000000</td>\n",
       "      <td>1.000000</td>\n",
       "      <td>1.0</td>\n",
       "      <td>1.0</td>\n",
       "    </tr>\n",
       "    <tr>\n",
       "      <th>153</th>\n",
       "      <td>0.998473</td>\n",
       "      <td>0.998571</td>\n",
       "      <td>-0.038348</td>\n",
       "      <td>1.798463</td>\n",
       "      <td>0.9999</td>\n",
       "      <td>0.000104</td>\n",
       "      <td>153</td>\n",
       "      <td>0.01</td>\n",
       "      <td>-7.0</td>\n",
       "      <td>0.0</td>\n",
       "      <td>...</td>\n",
       "      <td>0.00005</td>\n",
       "      <td>1399</td>\n",
       "      <td>0.998681</td>\n",
       "      <td>0.998681</td>\n",
       "      <td>0.998671</td>\n",
       "      <td>0.998671</td>\n",
       "      <td>0.999999</td>\n",
       "      <td>0.999999</td>\n",
       "      <td>1.0</td>\n",
       "      <td>1.0</td>\n",
       "    </tr>\n",
       "    <tr>\n",
       "      <th>173</th>\n",
       "      <td>0.998571</td>\n",
       "      <td>0.998571</td>\n",
       "      <td>0.093378</td>\n",
       "      <td>0.557750</td>\n",
       "      <td>0.9999</td>\n",
       "      <td>0.000050</td>\n",
       "      <td>173</td>\n",
       "      <td>0.01</td>\n",
       "      <td>-7.0</td>\n",
       "      <td>0.0</td>\n",
       "      <td>...</td>\n",
       "      <td>0.00005</td>\n",
       "      <td>1399</td>\n",
       "      <td>0.998671</td>\n",
       "      <td>0.998671</td>\n",
       "      <td>0.998671</td>\n",
       "      <td>0.998671</td>\n",
       "      <td>1.000000</td>\n",
       "      <td>1.000000</td>\n",
       "      <td>1.0</td>\n",
       "      <td>1.0</td>\n",
       "    </tr>\n",
       "    <tr>\n",
       "      <th>204</th>\n",
       "      <td>0.998571</td>\n",
       "      <td>0.998571</td>\n",
       "      <td>0.026588</td>\n",
       "      <td>0.669877</td>\n",
       "      <td>0.9999</td>\n",
       "      <td>0.000050</td>\n",
       "      <td>204</td>\n",
       "      <td>0.01</td>\n",
       "      <td>-7.0</td>\n",
       "      <td>0.0</td>\n",
       "      <td>...</td>\n",
       "      <td>0.00005</td>\n",
       "      <td>1399</td>\n",
       "      <td>0.998671</td>\n",
       "      <td>0.998671</td>\n",
       "      <td>0.998671</td>\n",
       "      <td>0.998671</td>\n",
       "      <td>1.000000</td>\n",
       "      <td>1.000000</td>\n",
       "      <td>1.0</td>\n",
       "      <td>1.0</td>\n",
       "    </tr>\n",
       "  </tbody>\n",
       "</table>\n",
       "<p>4 rows × 22 columns</p>\n",
       "</div>"
      ],
      "text/plain": [
       "       total_m   total_w      m_mu   m_sigma  m_total    m_wing  name  step  \\\n",
       "name                                                                          \n",
       "14    0.998571  0.998571  0.069499  1.207952   0.9999  0.000050    14  0.01   \n",
       "153   0.998473  0.998571 -0.038348  1.798463   0.9999  0.000104   153  0.01   \n",
       "173   0.998571  0.998571  0.093378  0.557750   0.9999  0.000050   173  0.01   \n",
       "204   0.998571  0.998571  0.026588  0.669877   0.9999  0.000050   204  0.01   \n",
       "\n",
       "      theta  w_mu      ...         w_wing     N  max_m_sum  max_m_sum_inv  \\\n",
       "name                   ...                                                  \n",
       "14     -7.0   0.0      ...        0.00005  1399   0.998671       0.998671   \n",
       "153    -7.0   0.0      ...        0.00005  1399   0.998681       0.998681   \n",
       "173    -7.0   0.0      ...        0.00005  1399   0.998671       0.998671   \n",
       "204    -7.0   0.0      ...        0.00005  1399   0.998671       0.998671   \n",
       "\n",
       "      max_w_sum  max_w_sum_inv  min_m_sum  min_m_sum_inv  min_w_sum  \\\n",
       "name                                                                  \n",
       "14     0.998671       0.998671   1.000000       1.000000        1.0   \n",
       "153    0.998671       0.998671   0.999999       0.999999        1.0   \n",
       "173    0.998671       0.998671   1.000000       1.000000        1.0   \n",
       "204    0.998671       0.998671   1.000000       1.000000        1.0   \n",
       "\n",
       "      min_w_sum_inv  \n",
       "name                 \n",
       "14              1.0  \n",
       "153             1.0  \n",
       "173             1.0  \n",
       "204             1.0  \n",
       "\n",
       "[4 rows x 22 columns]"
      ]
     },
     "execution_count": 81,
     "metadata": {},
     "output_type": "execute_result"
    }
   ],
   "source": [
    "\n",
    "\n",
    "allCols= list(c.columns)\n",
    "allCols+= ['N']\n",
    "\n",
    "#Frequency\n",
    "agg2= z.groupby('name')['w'].count()\n",
    "agg2.name= 'N'\n",
    "\n",
    "#Density\n",
    "dCols= ['m','w']\n",
    "agg= z.groupby('name')['m','w'].sum()\n",
    "agg.columns= ['total_'+d for d in dCols] #['total_m','total_w']\n",
    "allCols+= (list(agg.columns))\n",
    "\n",
    "#Distribution\n",
    "dCols= ['m_sum','m_sum_inv','w_sum','w_sum_inv']\n",
    "agg3= z.groupby('name')[dCols].max()\n",
    "agg3.columns= ['max_'+d for d in dCols]\n",
    "allCols+= (list(agg3.columns))\n",
    "\n",
    "agg4= z.groupby('name')[dCols].min()\n",
    "agg4.columns= ['min_'+d for d in dCols]\n",
    "allCols+= (list(agg4.columns))\n",
    "\n",
    "aggNX= pd.concat([agg3,agg4], axis=1)\n",
    "aggNX_orig= aggNX.copy()\n",
    "#print(\"********\")\n",
    "##mCols= list(filter(lambda x: x.find('_m_')!=-1,list(aggNX.columns)))\n",
    "#print(mCols)\n",
    "#print(\"********\")\n",
    "#print(aggNX[mCols].apply(lambda x: x+c['m_wing']).head(40))\n",
    "\n",
    "aggNX['max_m_sum']= aggNX['max_m_sum']+c['m_wing']\n",
    "aggNX['max_w_sum']= aggNX['max_w_sum']+c['w_wing']\n",
    "aggNX['min_m_sum']= 1-(aggNX['min_m_sum']-c['m_wing'])\n",
    "aggNX['min_w_sum']= 1-(aggNX['min_w_sum']-1.*c['w_wing'])\n",
    "#\n",
    "aggNX['max_m_sum_inv']= 0+(aggNX['max_m_sum_inv']+c['m_wing'])\n",
    "aggNX['max_w_sum_inv']= 0+(aggNX['max_w_sum_inv']+c['w_wing'])\n",
    "aggNX['min_m_sum_inv']= 1-(aggNX['min_m_sum_inv']-c['m_wing'])\n",
    "aggNX['min_w_sum_inv']= 1-(aggNX['min_w_sum_inv']-c['w_wing'])\n",
    "print(aggNX.columns)\n",
    "#cols= ['max_m_sum', 'max_m_sum_inv', 'max_w_sum', 'max_w_sum_inv', 'min_m_sum', 'min_m_sum_inv', 'min_w_sum', 'min_w_sum_inv']\n",
    "cols= ['max_m_sum', 'max_w_sum', 'min_m_sum', 'min_w_sum',\n",
    "       'max_m_sum_inv', 'max_w_sum_inv', 'min_m_sum_inv', 'min_w_sum_inv']\n",
    "#print(aggNX[cols].head(40))\n",
    "print(pd.concat([c[['m_wing','w_wing']],aggNX[cols]], axis=1).head(5))\n",
    "#0.5*step*pdf(mu,sigma)(theta)\n",
    "\n",
    "aggConfig= pd.concat([c,agg2,aggNX], axis=1)\n",
    "#print(aggConfig.columns)\n",
    "#print(aggConfig.head(4))\n",
    "\n",
    "agg= agg.apply(lambda x: aggConfig['step']*x)\n",
    "aggResult= pd.concat([agg,aggConfig], axis=1)\n",
    "aggResult.columns\n",
    "\n",
    "#aggResult[allCols].head()\n",
    "aggResult.head(4)\n",
    "#c.head(4)"
   ]
  },
  {
   "cell_type": "code",
   "execution_count": 82,
   "metadata": {
    "collapsed": false
   },
   "outputs": [
    {
     "data": {
      "text/plain": [
       "name\n",
       "213    0.000000e+00\n",
       "295    4.789812e-82\n",
       "173    1.804378e-36\n",
       "204    8.751234e-27\n",
       "345    3.744149e-16\n",
       "373    4.289247e-12\n",
       "14     1.174454e-10\n",
       "233    3.568619e-09\n",
       "225    2.685519e-08\n",
       "153    5.238463e-07\n",
       "dtype: float64"
      ]
     },
     "execution_count": 82,
     "metadata": {},
     "output_type": "execute_result"
    }
   ],
   "source": [
    "c.apply(lambda x: 0.5*x.step*pdf(x.m_mu,x.m_sigma)(-x.theta), axis='columns')"
   ]
  },
  {
   "cell_type": "code",
   "execution_count": 83,
   "metadata": {
    "collapsed": false
   },
   "outputs": [
    {
     "data": {
      "text/html": [
       "<div>\n",
       "<table border=\"1\" class=\"dataframe\">\n",
       "  <thead>\n",
       "    <tr style=\"text-align: right;\">\n",
       "      <th></th>\n",
       "      <th>total_m</th>\n",
       "      <th>total_w</th>\n",
       "    </tr>\n",
       "    <tr>\n",
       "      <th>name</th>\n",
       "      <th></th>\n",
       "      <th></th>\n",
       "    </tr>\n",
       "  </thead>\n",
       "  <tbody>\n",
       "    <tr>\n",
       "      <th>14</th>\n",
       "      <td>0.009986</td>\n",
       "      <td>0.009986</td>\n",
       "    </tr>\n",
       "    <tr>\n",
       "      <th>153</th>\n",
       "      <td>0.009985</td>\n",
       "      <td>0.009986</td>\n",
       "    </tr>\n",
       "  </tbody>\n",
       "</table>\n",
       "</div>"
      ],
      "text/plain": [
       "       total_m   total_w\n",
       "name                    \n",
       "14    0.009986  0.009986\n",
       "153   0.009985  0.009986"
      ]
     },
     "execution_count": 83,
     "metadata": {},
     "output_type": "execute_result"
    }
   ],
   "source": [
    "agg.apply(lambda x: aggConfig['step']*x).head(2)"
   ]
  },
  {
   "cell_type": "markdown",
   "metadata": {},
   "source": [
    "## Analyze the data created by running the simulation(s)"
   ]
  },
  {
   "cell_type": "markdown",
   "metadata": {},
   "source": [
    "###### Find the local maximum for each curve"
   ]
  },
  {
   "cell_type": "code",
   "execution_count": 86,
   "metadata": {
    "collapsed": false
   },
   "outputs": [
    {
     "name": "stdout",
     "output_type": "stream",
     "text": [
      "Empty DataFrame\n",
      "Columns: [name]\n",
      "Index: []\n"
     ]
    },
    {
     "ename": "KeyError",
     "evalue": "\"['index' 'm_part_inv'] not in index\"",
     "output_type": "error",
     "traceback": [
      "\u001b[0;31m---------------------------------------------------------------------------\u001b[0m",
      "\u001b[0;31mKeyError\u001b[0m                                  Traceback (most recent call last)",
      "\u001b[0;32m<ipython-input-86-ebf52f5f42d1>\u001b[0m in \u001b[0;36m<module>\u001b[0;34m()\u001b[0m\n\u001b[0;32m----> 1\u001b[0;31m \u001b[0mfindOptima\u001b[0m\u001b[1;33m(\u001b[0m\u001b[0mz\u001b[0m\u001b[1;33m,\u001b[0m\u001b[1;34m'max'\u001b[0m\u001b[1;33m,\u001b[0m\u001b[1;34m'm'\u001b[0m\u001b[1;33m,\u001b[0m\u001b[1;34m'part_inv'\u001b[0m\u001b[1;33m,\u001b[0m\u001b[1;36m0.5\u001b[0m\u001b[1;33m)\u001b[0m\u001b[1;33m.\u001b[0m\u001b[0mhead\u001b[0m\u001b[1;33m(\u001b[0m\u001b[1;36m2\u001b[0m\u001b[1;33m)\u001b[0m\u001b[1;33m\u001b[0m\u001b[0m\n\u001b[0m",
      "\u001b[0;32m<ipython-input-85-a9f7de288977>\u001b[0m in \u001b[0;36mfindOptima\u001b[0;34m(z, func, pop, col, pVal)\u001b[0m\n\u001b[1;32m     17\u001b[0m     \u001b[0mresultFrame\u001b[0m\u001b[1;33m.\u001b[0m\u001b[0mreset_index\u001b[0m\u001b[1;33m(\u001b[0m\u001b[0minplace\u001b[0m\u001b[1;33m=\u001b[0m\u001b[1;32mTrue\u001b[0m\u001b[1;33m)\u001b[0m\u001b[1;33m\u001b[0m\u001b[0m\n\u001b[1;32m     18\u001b[0m     \u001b[0mprint\u001b[0m\u001b[1;33m(\u001b[0m\u001b[0mresultFrame\u001b[0m\u001b[1;33m.\u001b[0m\u001b[0mhead\u001b[0m\u001b[1;33m(\u001b[0m\u001b[1;36m5\u001b[0m\u001b[1;33m)\u001b[0m\u001b[1;33m)\u001b[0m\u001b[1;33m\u001b[0m\u001b[0m\n\u001b[0;32m---> 19\u001b[0;31m     \u001b[0mresultFrame\u001b[0m\u001b[1;33m=\u001b[0m \u001b[0mresultFrame\u001b[0m\u001b[1;33m[\u001b[0m\u001b[1;33m[\u001b[0m\u001b[1;34m'index'\u001b[0m\u001b[1;33m,\u001b[0m\u001b[0minvestCol\u001b[0m\u001b[1;33m]\u001b[0m\u001b[1;33m]\u001b[0m\u001b[1;33m\u001b[0m\u001b[0m\n\u001b[0m\u001b[1;32m     20\u001b[0m     \u001b[0mresultFrame\u001b[0m\u001b[1;33m.\u001b[0m\u001b[0mcolumns\u001b[0m\u001b[1;33m=\u001b[0m\u001b[1;33m[\u001b[0m\u001b[1;34m'name'\u001b[0m\u001b[1;33m,\u001b[0m\u001b[1;34m'index'\u001b[0m\u001b[1;33m]\u001b[0m\u001b[1;33m\u001b[0m\u001b[0m\n\u001b[1;32m     21\u001b[0m     \u001b[0mresultFrame\u001b[0m\u001b[1;33m=\u001b[0m \u001b[0mresultFrame\u001b[0m\u001b[1;33m.\u001b[0m\u001b[0mmerge\u001b[0m\u001b[1;33m(\u001b[0m\u001b[0mz\u001b[0m\u001b[1;33m)\u001b[0m\u001b[1;33m[\u001b[0m\u001b[1;33m:\u001b[0m\u001b[1;33m]\u001b[0m\u001b[1;33m\u001b[0m\u001b[0m\n",
      "\u001b[0;32mC:\\Users\\edwardsd\\Anaconda2\\envs\\py36\\lib\\site-packages\\pandas\\core\\frame.py\u001b[0m in \u001b[0;36m__getitem__\u001b[0;34m(self, key)\u001b[0m\n\u001b[1;32m   2051\u001b[0m         \u001b[1;32mif\u001b[0m \u001b[0misinstance\u001b[0m\u001b[1;33m(\u001b[0m\u001b[0mkey\u001b[0m\u001b[1;33m,\u001b[0m \u001b[1;33m(\u001b[0m\u001b[0mSeries\u001b[0m\u001b[1;33m,\u001b[0m \u001b[0mnp\u001b[0m\u001b[1;33m.\u001b[0m\u001b[0mndarray\u001b[0m\u001b[1;33m,\u001b[0m \u001b[0mIndex\u001b[0m\u001b[1;33m,\u001b[0m \u001b[0mlist\u001b[0m\u001b[1;33m)\u001b[0m\u001b[1;33m)\u001b[0m\u001b[1;33m:\u001b[0m\u001b[1;33m\u001b[0m\u001b[0m\n\u001b[1;32m   2052\u001b[0m             \u001b[1;31m# either boolean or fancy integer index\u001b[0m\u001b[1;33m\u001b[0m\u001b[1;33m\u001b[0m\u001b[0m\n\u001b[0;32m-> 2053\u001b[0;31m             \u001b[1;32mreturn\u001b[0m \u001b[0mself\u001b[0m\u001b[1;33m.\u001b[0m\u001b[0m_getitem_array\u001b[0m\u001b[1;33m(\u001b[0m\u001b[0mkey\u001b[0m\u001b[1;33m)\u001b[0m\u001b[1;33m\u001b[0m\u001b[0m\n\u001b[0m\u001b[1;32m   2054\u001b[0m         \u001b[1;32melif\u001b[0m \u001b[0misinstance\u001b[0m\u001b[1;33m(\u001b[0m\u001b[0mkey\u001b[0m\u001b[1;33m,\u001b[0m \u001b[0mDataFrame\u001b[0m\u001b[1;33m)\u001b[0m\u001b[1;33m:\u001b[0m\u001b[1;33m\u001b[0m\u001b[0m\n\u001b[1;32m   2055\u001b[0m             \u001b[1;32mreturn\u001b[0m \u001b[0mself\u001b[0m\u001b[1;33m.\u001b[0m\u001b[0m_getitem_frame\u001b[0m\u001b[1;33m(\u001b[0m\u001b[0mkey\u001b[0m\u001b[1;33m)\u001b[0m\u001b[1;33m\u001b[0m\u001b[0m\n",
      "\u001b[0;32mC:\\Users\\edwardsd\\Anaconda2\\envs\\py36\\lib\\site-packages\\pandas\\core\\frame.py\u001b[0m in \u001b[0;36m_getitem_array\u001b[0;34m(self, key)\u001b[0m\n\u001b[1;32m   2095\u001b[0m             \u001b[1;32mreturn\u001b[0m \u001b[0mself\u001b[0m\u001b[1;33m.\u001b[0m\u001b[0mtake\u001b[0m\u001b[1;33m(\u001b[0m\u001b[0mindexer\u001b[0m\u001b[1;33m,\u001b[0m \u001b[0maxis\u001b[0m\u001b[1;33m=\u001b[0m\u001b[1;36m0\u001b[0m\u001b[1;33m,\u001b[0m \u001b[0mconvert\u001b[0m\u001b[1;33m=\u001b[0m\u001b[1;32mFalse\u001b[0m\u001b[1;33m)\u001b[0m\u001b[1;33m\u001b[0m\u001b[0m\n\u001b[1;32m   2096\u001b[0m         \u001b[1;32melse\u001b[0m\u001b[1;33m:\u001b[0m\u001b[1;33m\u001b[0m\u001b[0m\n\u001b[0;32m-> 2097\u001b[0;31m             \u001b[0mindexer\u001b[0m \u001b[1;33m=\u001b[0m \u001b[0mself\u001b[0m\u001b[1;33m.\u001b[0m\u001b[0mix\u001b[0m\u001b[1;33m.\u001b[0m\u001b[0m_convert_to_indexer\u001b[0m\u001b[1;33m(\u001b[0m\u001b[0mkey\u001b[0m\u001b[1;33m,\u001b[0m \u001b[0maxis\u001b[0m\u001b[1;33m=\u001b[0m\u001b[1;36m1\u001b[0m\u001b[1;33m)\u001b[0m\u001b[1;33m\u001b[0m\u001b[0m\n\u001b[0m\u001b[1;32m   2098\u001b[0m             \u001b[1;32mreturn\u001b[0m \u001b[0mself\u001b[0m\u001b[1;33m.\u001b[0m\u001b[0mtake\u001b[0m\u001b[1;33m(\u001b[0m\u001b[0mindexer\u001b[0m\u001b[1;33m,\u001b[0m \u001b[0maxis\u001b[0m\u001b[1;33m=\u001b[0m\u001b[1;36m1\u001b[0m\u001b[1;33m,\u001b[0m \u001b[0mconvert\u001b[0m\u001b[1;33m=\u001b[0m\u001b[1;32mTrue\u001b[0m\u001b[1;33m)\u001b[0m\u001b[1;33m\u001b[0m\u001b[0m\n\u001b[1;32m   2099\u001b[0m \u001b[1;33m\u001b[0m\u001b[0m\n",
      "\u001b[0;32mC:\\Users\\edwardsd\\Anaconda2\\envs\\py36\\lib\\site-packages\\pandas\\core\\indexing.py\u001b[0m in \u001b[0;36m_convert_to_indexer\u001b[0;34m(self, obj, axis, is_setter)\u001b[0m\n\u001b[1;32m   1228\u001b[0m                 \u001b[0mmask\u001b[0m \u001b[1;33m=\u001b[0m \u001b[0mcheck\u001b[0m \u001b[1;33m==\u001b[0m \u001b[1;33m-\u001b[0m\u001b[1;36m1\u001b[0m\u001b[1;33m\u001b[0m\u001b[0m\n\u001b[1;32m   1229\u001b[0m                 \u001b[1;32mif\u001b[0m \u001b[0mmask\u001b[0m\u001b[1;33m.\u001b[0m\u001b[0many\u001b[0m\u001b[1;33m(\u001b[0m\u001b[1;33m)\u001b[0m\u001b[1;33m:\u001b[0m\u001b[1;33m\u001b[0m\u001b[0m\n\u001b[0;32m-> 1230\u001b[0;31m                     \u001b[1;32mraise\u001b[0m \u001b[0mKeyError\u001b[0m\u001b[1;33m(\u001b[0m\u001b[1;34m'%s not in index'\u001b[0m \u001b[1;33m%\u001b[0m \u001b[0mobjarr\u001b[0m\u001b[1;33m[\u001b[0m\u001b[0mmask\u001b[0m\u001b[1;33m]\u001b[0m\u001b[1;33m)\u001b[0m\u001b[1;33m\u001b[0m\u001b[0m\n\u001b[0m\u001b[1;32m   1231\u001b[0m \u001b[1;33m\u001b[0m\u001b[0m\n\u001b[1;32m   1232\u001b[0m                 \u001b[1;32mreturn\u001b[0m \u001b[0m_values_from_object\u001b[0m\u001b[1;33m(\u001b[0m\u001b[0mindexer\u001b[0m\u001b[1;33m)\u001b[0m\u001b[1;33m\u001b[0m\u001b[0m\n",
      "\u001b[0;31mKeyError\u001b[0m: \"['index' 'm_part_inv'] not in index\""
     ]
    }
   ],
   "source": [
    "findOptima(z,'max','m','part_inv',0.5).head(2)"
   ]
  },
  {
   "cell_type": "markdown",
   "metadata": {
    "collapsed": false
   },
   "source": [
    "```\n",
    "yX= z[(z['m']>0.05) & (z['m']<0.95)].groupby('name',as_index=False)['name','m_part_inv'].idxmax()\n",
    "yX.reset_index(inplace=True)\n",
    "yX= yX[['index','m_part_inv']]\n",
    "yX.columns=['name','index']\n",
    "yX= yX.merge(z)[:]\n",
    "yX= yX[['name','index','theta']]\n",
    "yX.head()\n",
    "```"
   ]
  },
  {
   "cell_type": "markdown",
   "metadata": {},
   "source": [
    "###### Find the local minimum for each curve"
   ]
  },
  {
   "cell_type": "code",
   "execution_count": null,
   "metadata": {
    "collapsed": false
   },
   "outputs": [],
   "source": [
    "findOptima(z,'min','m','part_inv',0.05).head(2)"
   ]
  },
  {
   "cell_type": "markdown",
   "metadata": {
    "collapsed": false
   },
   "source": [
    "```\n",
    "yN= z.groupby('name',as_index=False)['name','m_part_inv'].idxmin()\n",
    "yN.reset_index(inplace=True)\n",
    "yN= yN[['index','m_part_inv']]\n",
    "yN.columns=['name','index']\n",
    "yN= yN.merge(z)[:]\n",
    "yN= yN[['name','index','theta']]\n",
    "yN.head()\n",
    "```"
   ]
  },
  {
   "cell_type": "markdown",
   "metadata": {},
   "source": [
    "#### Plot subsets of the results"
   ]
  },
  {
   "cell_type": "code",
   "execution_count": null,
   "metadata": {
    "collapsed": false
   },
   "outputs": [],
   "source": [
    "e= 0\n",
    "#t= y[['name','index']].merge(z, on='name')\n",
    "#t= t[(t['index_x']-100)<=t['index_y']]\n",
    "t=z\n",
    "#t= t[(t['m_part_inv']>=0.55) & (t['m_part_inv']<=0.95)]\n",
    "##t= t[(t['theta']-e)<=0.2) & (t['theta']<=0.0235)]\n",
    "#t= t[abs(t['theta']-e)<=0.02]\n",
    "#t= t[t['name']==2].sort_values(by='m_sum')\n",
    "t[['name','index','theta','m','m_sum','m_sum_inv','m_part','m_part_inv']].head()"
   ]
  },
  {
   "cell_type": "code",
   "execution_count": null,
   "metadata": {
    "collapsed": false
   },
   "outputs": [],
   "source": [
    "#& (t['theta']>0.5) & (t['theta']<2.0)\\\n",
    "temp= t[((t['name']==1) | (t['name']==2)) \\\n",
    "        & (t['theta']>2.5) & (t['theta']<3.5)\\\n",
    "       ][['index','theta','name','m_part_inv','w_part_inv','all_inv']]"
   ]
  },
  {
   "cell_type": "code",
   "execution_count": null,
   "metadata": {
    "collapsed": false
   },
   "outputs": [],
   "source": [
    "t1= temp[temp['name']==1][::2].set_index(round(temp[temp['name']==1][::2]['theta'],2))\n",
    "t1= t1.groupby(level=0).first()\n",
    "t2= temp[temp['name']==2].set_index(round(temp[temp['name']==2]['theta'],2))\n",
    "t2= t2.groupby(level=0).first()\n",
    "print(t1.head(4))\n",
    "print(t2.head(4))"
   ]
  },
  {
   "cell_type": "code",
   "execution_count": null,
   "metadata": {
    "collapsed": false
   },
   "outputs": [],
   "source": [
    "pd.concat([t1,t2],axis=1)[::20]"
   ]
  },
  {
   "cell_type": "code",
   "execution_count": null,
   "metadata": {
    "collapsed": false
   },
   "outputs": [],
   "source": [
    "t=z\n",
    "#t= t[t['name']!=0]\n",
    "#t= t[t['theta'].between(.85,4)]\n",
    "\n",
    "a,b = plotProportion(t,'all_inv')\n",
    "#plt.legend(a,b)\n",
    "plt.legend(a,b,bbox_to_anchor=(1.05, 1), loc=2, borderaxespad=0.)\n",
    "plt.show()\n",
    "\n",
    "a,b = plotProportion(t,'m_sum_inv')\n",
    "#plt.legend(a,b)\n",
    "plt.legend(a,b,bbox_to_anchor=(1.05, 1), loc=2, borderaxespad=0.)\n",
    "plt.show()\n",
    "\n",
    "a,b = plotProportion(t,'m_part_inv')\n",
    "#plt.legend(a,b)\n",
    "plt.legend(a,b,bbox_to_anchor=(1.05, 1), loc=2, borderaxespad=0.)\n",
    "plt.show()\n",
    "#_,_ = plotProportion(t,'m_part_kern')\n",
    "#plt.show()\n",
    "\n",
    "c.head(6)"
   ]
  },
  {
   "cell_type": "code",
   "execution_count": null,
   "metadata": {
    "collapsed": false
   },
   "outputs": [],
   "source": [
    "pdf(0,.00001)(0)"
   ]
  },
  {
   "cell_type": "markdown",
   "metadata": {},
   "source": [
    "# Investigate a single specific run (point-mass at mean)"
   ]
  },
  {
   "cell_type": "code",
   "execution_count": 87,
   "metadata": {
    "collapsed": false
   },
   "outputs": [
    {
     "data": {
      "image/png": "[encoded data removed]",
      "text/plain": [
       "<matplotlib.figure.Figure at 0xbbdd69780>"
      ]
     },
     "metadata": {},
     "output_type": "display_data"
    },
    {
     "data": {
      "image/png": "[encoded data removed]",
      "text/plain": [
       "<matplotlib.figure.Figure at 0xbbf87b898>"
      ]
     },
     "metadata": {},
     "output_type": "display_data"
    },
    {
     "data": {
      "image/png": "[encoded data removed]",
      "text/plain": [
       "<matplotlib.figure.Figure at 0xbbf896f98>"
      ]
     },
     "metadata": {},
     "output_type": "display_data"
    },
    {
     "data": {
      "image/png": "[encoded data removed]",
      "text/plain": [
       "<matplotlib.figure.Figure at 0xbbdf47d68>"
      ]
     },
     "metadata": {},
     "output_type": "display_data"
    },
    {
     "data": {
      "text/html": [
       "<div>\n",
       "<table border=\"1\" class=\"dataframe\">\n",
       "  <thead>\n",
       "    <tr style=\"text-align: right;\">\n",
       "      <th></th>\n",
       "      <th>index</th>\n",
       "      <th>theta</th>\n",
       "      <th>m</th>\n",
       "      <th>w</th>\n",
       "      <th>m_sum</th>\n",
       "      <th>w_sum</th>\n",
       "      <th>all</th>\n",
       "      <th>w_part</th>\n",
       "      <th>m_part</th>\n",
       "      <th>m_sum_inv</th>\n",
       "      <th>w_sum_inv</th>\n",
       "      <th>all_inv</th>\n",
       "      <th>w_part_inv</th>\n",
       "      <th>m_part_inv</th>\n",
       "    </tr>\n",
       "  </thead>\n",
       "  <tbody>\n",
       "    <tr>\n",
       "      <th>13998</th>\n",
       "      <td>13998</td>\n",
       "      <td>7.000000</td>\n",
       "      <td>0.0</td>\n",
       "      <td>9.134720e-12</td>\n",
       "      <td>0.999907</td>\n",
       "      <td>0.999907</td>\n",
       "      <td>1.999814</td>\n",
       "      <td>0.5</td>\n",
       "      <td>0.5</td>\n",
       "      <td>0.00005</td>\n",
       "      <td>0.00005</td>\n",
       "      <td>0.0001</td>\n",
       "      <td>0.500013</td>\n",
       "      <td>0.499987</td>\n",
       "    </tr>\n",
       "    <tr>\n",
       "      <th>13997</th>\n",
       "      <td>13997</td>\n",
       "      <td>6.999000</td>\n",
       "      <td>0.0</td>\n",
       "      <td>9.198892e-12</td>\n",
       "      <td>0.999907</td>\n",
       "      <td>0.999907</td>\n",
       "      <td>1.999814</td>\n",
       "      <td>0.5</td>\n",
       "      <td>0.5</td>\n",
       "      <td>0.00005</td>\n",
       "      <td>0.00005</td>\n",
       "      <td>0.0001</td>\n",
       "      <td>0.500013</td>\n",
       "      <td>0.499987</td>\n",
       "    </tr>\n",
       "    <tr>\n",
       "      <th>13996</th>\n",
       "      <td>13996</td>\n",
       "      <td>6.998000</td>\n",
       "      <td>0.0</td>\n",
       "      <td>9.263506e-12</td>\n",
       "      <td>0.999907</td>\n",
       "      <td>0.999907</td>\n",
       "      <td>1.999814</td>\n",
       "      <td>0.5</td>\n",
       "      <td>0.5</td>\n",
       "      <td>0.00005</td>\n",
       "      <td>0.00005</td>\n",
       "      <td>0.0001</td>\n",
       "      <td>0.500013</td>\n",
       "      <td>0.499987</td>\n",
       "    </tr>\n",
       "    <tr>\n",
       "      <th>13995</th>\n",
       "      <td>13995</td>\n",
       "      <td>6.997000</td>\n",
       "      <td>0.0</td>\n",
       "      <td>9.328564e-12</td>\n",
       "      <td>0.999907</td>\n",
       "      <td>0.999907</td>\n",
       "      <td>1.999814</td>\n",
       "      <td>0.5</td>\n",
       "      <td>0.5</td>\n",
       "      <td>0.00005</td>\n",
       "      <td>0.00005</td>\n",
       "      <td>0.0001</td>\n",
       "      <td>0.500013</td>\n",
       "      <td>0.499987</td>\n",
       "    </tr>\n",
       "    <tr>\n",
       "      <th>13994</th>\n",
       "      <td>13994</td>\n",
       "      <td>6.995999</td>\n",
       "      <td>0.0</td>\n",
       "      <td>9.394069e-12</td>\n",
       "      <td>0.999907</td>\n",
       "      <td>0.999907</td>\n",
       "      <td>1.999814</td>\n",
       "      <td>0.5</td>\n",
       "      <td>0.5</td>\n",
       "      <td>0.00005</td>\n",
       "      <td>0.00005</td>\n",
       "      <td>0.0001</td>\n",
       "      <td>0.500013</td>\n",
       "      <td>0.499987</td>\n",
       "    </tr>\n",
       "  </tbody>\n",
       "</table>\n",
       "</div>"
      ],
      "text/plain": [
       "       index     theta    m             w     m_sum     w_sum       all  \\\n",
       "13998  13998  7.000000  0.0  9.134720e-12  0.999907  0.999907  1.999814   \n",
       "13997  13997  6.999000  0.0  9.198892e-12  0.999907  0.999907  1.999814   \n",
       "13996  13996  6.998000  0.0  9.263506e-12  0.999907  0.999907  1.999814   \n",
       "13995  13995  6.997000  0.0  9.328564e-12  0.999907  0.999907  1.999814   \n",
       "13994  13994  6.995999  0.0  9.394069e-12  0.999907  0.999907  1.999814   \n",
       "\n",
       "       w_part  m_part  m_sum_inv  w_sum_inv  all_inv  w_part_inv  m_part_inv  \n",
       "13998     0.5     0.5    0.00005    0.00005   0.0001    0.500013    0.499987  \n",
       "13997     0.5     0.5    0.00005    0.00005   0.0001    0.500013    0.499987  \n",
       "13996     0.5     0.5    0.00005    0.00005   0.0001    0.500013    0.499987  \n",
       "13995     0.5     0.5    0.00005    0.00005   0.0001    0.500013    0.499987  \n",
       "13994     0.5     0.5    0.00005    0.00005   0.0001    0.500013    0.499987  "
      ]
     },
     "execution_count": 87,
     "metadata": {},
     "output_type": "execute_result"
    }
   ],
   "source": [
    "#r= analyzeConditions(0,.001,0,1,thetaIndex(-7,.001),.001,True)\n",
    "r,c1= analyzeConditions(0,.001,0,1,7,.001,True)\n",
    "r.head()"
   ]
  },
  {
   "cell_type": "code",
   "execution_count": 180,
   "metadata": {
    "collapsed": false
   },
   "outputs": [
    {
     "data": {
      "image/png": "[encoded data removed]",
      "text/plain": [
       "<matplotlib.figure.Figure at 0xbbf943a58>"
      ]
     },
     "metadata": {},
     "output_type": "display_data"
    },
    {
     "data": {
      "image/png": "[encoded data removed]",
      "text/plain": [
       "<matplotlib.figure.Figure at 0xbbe1615f8>"
      ]
     },
     "metadata": {},
     "output_type": "display_data"
    },
    {
     "data": {
      "image/png": "[encoded data removed]",
      "text/plain": [
       "<matplotlib.figure.Figure at 0xbbdec8c88>"
      ]
     },
     "metadata": {},
     "output_type": "display_data"
    },
    {
     "data": {
      "image/png": "[encoded data removed]",
      "text/plain": [
       "<matplotlib.figure.Figure at 0xbbe062cc0>"
      ]
     },
     "metadata": {},
     "output_type": "display_data"
    },
    {
     "data": {
      "text/html": [
       "<div>\n",
       "<table border=\"1\" class=\"dataframe\">\n",
       "  <thead>\n",
       "    <tr style=\"text-align: right;\">\n",
       "      <th></th>\n",
       "      <th>index</th>\n",
       "      <th>theta</th>\n",
       "      <th>m</th>\n",
       "      <th>w</th>\n",
       "      <th>m_sum</th>\n",
       "      <th>w_sum</th>\n",
       "      <th>all</th>\n",
       "      <th>w_part</th>\n",
       "      <th>m_part</th>\n",
       "      <th>m_sum_inv</th>\n",
       "      <th>w_sum_inv</th>\n",
       "      <th>all_inv</th>\n",
       "      <th>w_part_inv</th>\n",
       "      <th>m_part_inv</th>\n",
       "    </tr>\n",
       "  </thead>\n",
       "  <tbody>\n",
       "    <tr>\n",
       "      <th>0</th>\n",
       "      <td>0</td>\n",
       "      <td>-7.000000</td>\n",
       "      <td>9.134720e-12</td>\n",
       "      <td>0.000076</td>\n",
       "      <td>0.00005</td>\n",
       "      <td>0.000082</td>\n",
       "      <td>0.000132</td>\n",
       "      <td>0.620434</td>\n",
       "      <td>0.379566</td>\n",
       "      <td>0.999907</td>\n",
       "      <td>0.999876</td>\n",
       "      <td>1.999783</td>\n",
       "      <td>0.499992</td>\n",
       "      <td>0.500008</td>\n",
       "    </tr>\n",
       "    <tr>\n",
       "      <th>1</th>\n",
       "      <td>1</td>\n",
       "      <td>-6.999000</td>\n",
       "      <td>9.198892e-12</td>\n",
       "      <td>0.000077</td>\n",
       "      <td>0.00005</td>\n",
       "      <td>0.000082</td>\n",
       "      <td>0.000132</td>\n",
       "      <td>0.620654</td>\n",
       "      <td>0.379346</td>\n",
       "      <td>0.999907</td>\n",
       "      <td>0.999875</td>\n",
       "      <td>1.999783</td>\n",
       "      <td>0.499992</td>\n",
       "      <td>0.500008</td>\n",
       "    </tr>\n",
       "    <tr>\n",
       "      <th>2</th>\n",
       "      <td>2</td>\n",
       "      <td>-6.998000</td>\n",
       "      <td>9.263506e-12</td>\n",
       "      <td>0.000077</td>\n",
       "      <td>0.00005</td>\n",
       "      <td>0.000082</td>\n",
       "      <td>0.000132</td>\n",
       "      <td>0.620875</td>\n",
       "      <td>0.379125</td>\n",
       "      <td>0.999907</td>\n",
       "      <td>0.999875</td>\n",
       "      <td>1.999783</td>\n",
       "      <td>0.499992</td>\n",
       "      <td>0.500008</td>\n",
       "    </tr>\n",
       "    <tr>\n",
       "      <th>3</th>\n",
       "      <td>3</td>\n",
       "      <td>-6.997000</td>\n",
       "      <td>9.328564e-12</td>\n",
       "      <td>0.000077</td>\n",
       "      <td>0.00005</td>\n",
       "      <td>0.000082</td>\n",
       "      <td>0.000132</td>\n",
       "      <td>0.621097</td>\n",
       "      <td>0.378903</td>\n",
       "      <td>0.999907</td>\n",
       "      <td>0.999875</td>\n",
       "      <td>1.999782</td>\n",
       "      <td>0.499992</td>\n",
       "      <td>0.500008</td>\n",
       "    </tr>\n",
       "    <tr>\n",
       "      <th>4</th>\n",
       "      <td>4</td>\n",
       "      <td>-6.995999</td>\n",
       "      <td>9.394069e-12</td>\n",
       "      <td>0.000077</td>\n",
       "      <td>0.00005</td>\n",
       "      <td>0.000082</td>\n",
       "      <td>0.000132</td>\n",
       "      <td>0.621318</td>\n",
       "      <td>0.378682</td>\n",
       "      <td>0.999907</td>\n",
       "      <td>0.999875</td>\n",
       "      <td>1.999782</td>\n",
       "      <td>0.499992</td>\n",
       "      <td>0.500008</td>\n",
       "    </tr>\n",
       "  </tbody>\n",
       "</table>\n",
       "</div>"
      ],
      "text/plain": [
       "   index     theta             m         w    m_sum     w_sum       all  \\\n",
       "0      0 -7.000000  9.134720e-12  0.000076  0.00005  0.000082  0.000132   \n",
       "1      1 -6.999000  9.198892e-12  0.000077  0.00005  0.000082  0.000132   \n",
       "2      2 -6.998000  9.263506e-12  0.000077  0.00005  0.000082  0.000132   \n",
       "3      3 -6.997000  9.328564e-12  0.000077  0.00005  0.000082  0.000132   \n",
       "4      4 -6.995999  9.394069e-12  0.000077  0.00005  0.000082  0.000132   \n",
       "\n",
       "     w_part    m_part  m_sum_inv  w_sum_inv   all_inv  w_part_inv  m_part_inv  \n",
       "0  0.620434  0.379566   0.999907   0.999876  1.999783    0.499992    0.500008  \n",
       "1  0.620654  0.379346   0.999907   0.999875  1.999783    0.499992    0.500008  \n",
       "2  0.620875  0.379125   0.999907   0.999875  1.999783    0.499992    0.500008  \n",
       "3  0.621097  0.378903   0.999907   0.999875  1.999782    0.499992    0.500008  \n",
       "4  0.621318  0.378682   0.999907   0.999875  1.999782    0.499992    0.500008  "
      ]
     },
     "execution_count": 180,
     "metadata": {},
     "output_type": "execute_result"
    }
   ],
   "source": [
    "#r= analyzeConditions(0,2,0,1,thetaIndex(-7,.001),.001,True)\n",
    "r,c2= analyzeConditions(0,1,0,1.75,7,.001,True)\n",
    "r.head()"
   ]
  },
  {
   "cell_type": "code",
   "execution_count": 181,
   "metadata": {
    "collapsed": false
   },
   "outputs": [
    {
     "data": {
      "text/plain": [
       "6.5089298471210171"
      ]
     },
     "execution_count": 181,
     "metadata": {},
     "output_type": "execute_result"
    }
   ],
   "source": [
    "#abs(r.apply(lambda x: max(r['w_part_inv'],r['m_part_inv']), axis='columns')-0.75).idxmin()['theta']\n",
    "r.ix[abs(r.apply(lambda x: max(x['w_part_inv'],x['m_part_inv']), axis='columns')-0.75).idxmin()]['theta']"
   ]
  },
  {
   "cell_type": "code",
   "execution_count": 195,
   "metadata": {
    "collapsed": false
   },
   "outputs": [
    {
     "data": {
      "image/png": "[encoded data removed]",
      "text/plain": [
       "<matplotlib.figure.Figure at 0xbbe340748>"
      ]
     },
     "metadata": {},
     "output_type": "display_data"
    }
   ],
   "source": [
    "r.sort_values(by='theta',ascending=True,inplace=True)\n",
    "r['r75']= abs(r.apply(lambda x: max(x['w_part_inv'],x['m_part_inv']), axis='columns')-0.75)\n",
    "plt.plot(r['theta'],r75)\n",
    "ax= plt.gca()\n",
    "ax.set_yscale(\"log\", nonposy='clip')"
   ]
  },
  {
   "cell_type": "code",
   "execution_count": 171,
   "metadata": {
    "collapsed": false
   },
   "outputs": [
    {
     "data": {
      "text/plain": [
       "4"
      ]
     },
     "execution_count": 171,
     "metadata": {},
     "output_type": "execute_result"
    }
   ],
   "source": [
    "c2['m_sigma']*2+c2['m_mu']"
   ]
  },
  {
   "cell_type": "code",
   "execution_count": 197,
   "metadata": {
    "collapsed": false
   },
   "outputs": [
    {
     "data": {
      "text/html": [
       "<div>\n",
       "<table border=\"1\" class=\"dataframe\">\n",
       "  <thead>\n",
       "    <tr style=\"text-align: right;\">\n",
       "      <th></th>\n",
       "      <th>index</th>\n",
       "      <th>theta</th>\n",
       "      <th>r75</th>\n",
       "    </tr>\n",
       "  </thead>\n",
       "  <tbody>\n",
       "    <tr>\n",
       "      <th>13507</th>\n",
       "      <td>13507</td>\n",
       "      <td>6.508930</td>\n",
       "      <td>0.000030</td>\n",
       "    </tr>\n",
       "    <tr>\n",
       "      <th>8521</th>\n",
       "      <td>8521</td>\n",
       "      <td>1.522217</td>\n",
       "      <td>0.000051</td>\n",
       "    </tr>\n",
       "    <tr>\n",
       "      <th>8520</th>\n",
       "      <td>8520</td>\n",
       "      <td>1.521217</td>\n",
       "      <td>0.000163</td>\n",
       "    </tr>\n",
       "    <tr>\n",
       "      <th>13506</th>\n",
       "      <td>13506</td>\n",
       "      <td>6.507930</td>\n",
       "      <td>0.000252</td>\n",
       "    </tr>\n",
       "    <tr>\n",
       "      <th>8522</th>\n",
       "      <td>8522</td>\n",
       "      <td>1.523218</td>\n",
       "      <td>0.000266</td>\n",
       "    </tr>\n",
       "    <tr>\n",
       "      <th>13508</th>\n",
       "      <td>13508</td>\n",
       "      <td>6.509930</td>\n",
       "      <td>0.000313</td>\n",
       "    </tr>\n",
       "    <tr>\n",
       "      <th>8519</th>\n",
       "      <td>8519</td>\n",
       "      <td>1.520217</td>\n",
       "      <td>0.000378</td>\n",
       "    </tr>\n",
       "    <tr>\n",
       "      <th>8523</th>\n",
       "      <td>8523</td>\n",
       "      <td>1.524218</td>\n",
       "      <td>0.000480</td>\n",
       "    </tr>\n",
       "    <tr>\n",
       "      <th>13505</th>\n",
       "      <td>13505</td>\n",
       "      <td>6.506930</td>\n",
       "      <td>0.000535</td>\n",
       "    </tr>\n",
       "    <tr>\n",
       "      <th>8518</th>\n",
       "      <td>8518</td>\n",
       "      <td>1.519217</td>\n",
       "      <td>0.000592</td>\n",
       "    </tr>\n",
       "    <tr>\n",
       "      <th>13509</th>\n",
       "      <td>13509</td>\n",
       "      <td>6.510930</td>\n",
       "      <td>0.000596</td>\n",
       "    </tr>\n",
       "    <tr>\n",
       "      <th>8524</th>\n",
       "      <td>8524</td>\n",
       "      <td>1.525218</td>\n",
       "      <td>0.000694</td>\n",
       "    </tr>\n",
       "    <tr>\n",
       "      <th>8517</th>\n",
       "      <td>8517</td>\n",
       "      <td>1.518217</td>\n",
       "      <td>0.000806</td>\n",
       "    </tr>\n",
       "    <tr>\n",
       "      <th>13504</th>\n",
       "      <td>13504</td>\n",
       "      <td>6.505929</td>\n",
       "      <td>0.000818</td>\n",
       "    </tr>\n",
       "    <tr>\n",
       "      <th>13510</th>\n",
       "      <td>13510</td>\n",
       "      <td>6.511930</td>\n",
       "      <td>0.000879</td>\n",
       "    </tr>\n",
       "    <tr>\n",
       "      <th>8525</th>\n",
       "      <td>8525</td>\n",
       "      <td>1.526218</td>\n",
       "      <td>0.000909</td>\n",
       "    </tr>\n",
       "    <tr>\n",
       "      <th>8516</th>\n",
       "      <td>8516</td>\n",
       "      <td>1.517217</td>\n",
       "      <td>0.001021</td>\n",
       "    </tr>\n",
       "    <tr>\n",
       "      <th>13503</th>\n",
       "      <td>13503</td>\n",
       "      <td>6.504929</td>\n",
       "      <td>0.001100</td>\n",
       "    </tr>\n",
       "    <tr>\n",
       "      <th>8526</th>\n",
       "      <td>8526</td>\n",
       "      <td>1.527218</td>\n",
       "      <td>0.001123</td>\n",
       "    </tr>\n",
       "    <tr>\n",
       "      <th>13511</th>\n",
       "      <td>13511</td>\n",
       "      <td>6.512930</td>\n",
       "      <td>0.001162</td>\n",
       "    </tr>\n",
       "    <tr>\n",
       "      <th>8515</th>\n",
       "      <td>8515</td>\n",
       "      <td>1.516217</td>\n",
       "      <td>0.001235</td>\n",
       "    </tr>\n",
       "    <tr>\n",
       "      <th>8527</th>\n",
       "      <td>8527</td>\n",
       "      <td>1.528218</td>\n",
       "      <td>0.001337</td>\n",
       "    </tr>\n",
       "    <tr>\n",
       "      <th>13502</th>\n",
       "      <td>13502</td>\n",
       "      <td>6.503929</td>\n",
       "      <td>0.001383</td>\n",
       "    </tr>\n",
       "    <tr>\n",
       "      <th>13512</th>\n",
       "      <td>13512</td>\n",
       "      <td>6.513931</td>\n",
       "      <td>0.001444</td>\n",
       "    </tr>\n",
       "    <tr>\n",
       "      <th>8514</th>\n",
       "      <td>8514</td>\n",
       "      <td>1.515216</td>\n",
       "      <td>0.001450</td>\n",
       "    </tr>\n",
       "    <tr>\n",
       "      <th>8528</th>\n",
       "      <td>8528</td>\n",
       "      <td>1.529218</td>\n",
       "      <td>0.001552</td>\n",
       "    </tr>\n",
       "    <tr>\n",
       "      <th>8513</th>\n",
       "      <td>8513</td>\n",
       "      <td>1.514216</td>\n",
       "      <td>0.001664</td>\n",
       "    </tr>\n",
       "    <tr>\n",
       "      <th>13501</th>\n",
       "      <td>13501</td>\n",
       "      <td>6.502929</td>\n",
       "      <td>0.001665</td>\n",
       "    </tr>\n",
       "    <tr>\n",
       "      <th>13513</th>\n",
       "      <td>13513</td>\n",
       "      <td>6.514931</td>\n",
       "      <td>0.001727</td>\n",
       "    </tr>\n",
       "    <tr>\n",
       "      <th>8529</th>\n",
       "      <td>8529</td>\n",
       "      <td>1.530219</td>\n",
       "      <td>0.001766</td>\n",
       "    </tr>\n",
       "    <tr>\n",
       "      <th>...</th>\n",
       "      <td>...</td>\n",
       "      <td>...</td>\n",
       "      <td>...</td>\n",
       "    </tr>\n",
       "    <tr>\n",
       "      <th>8559</th>\n",
       "      <td>8559</td>\n",
       "      <td>1.560223</td>\n",
       "      <td>0.008188</td>\n",
       "    </tr>\n",
       "    <tr>\n",
       "      <th>13536</th>\n",
       "      <td>13536</td>\n",
       "      <td>6.537934</td>\n",
       "      <td>0.008243</td>\n",
       "    </tr>\n",
       "    <tr>\n",
       "      <th>8482</th>\n",
       "      <td>8482</td>\n",
       "      <td>1.483212</td>\n",
       "      <td>0.008317</td>\n",
       "    </tr>\n",
       "    <tr>\n",
       "      <th>8560</th>\n",
       "      <td>8560</td>\n",
       "      <td>1.561223</td>\n",
       "      <td>0.008402</td>\n",
       "    </tr>\n",
       "    <tr>\n",
       "      <th>13477</th>\n",
       "      <td>13477</td>\n",
       "      <td>6.478926</td>\n",
       "      <td>0.008431</td>\n",
       "    </tr>\n",
       "    <tr>\n",
       "      <th>13537</th>\n",
       "      <td>13537</td>\n",
       "      <td>6.538934</td>\n",
       "      <td>0.008526</td>\n",
       "    </tr>\n",
       "    <tr>\n",
       "      <th>8481</th>\n",
       "      <td>8481</td>\n",
       "      <td>1.482212</td>\n",
       "      <td>0.008532</td>\n",
       "    </tr>\n",
       "    <tr>\n",
       "      <th>8561</th>\n",
       "      <td>8561</td>\n",
       "      <td>1.562223</td>\n",
       "      <td>0.008616</td>\n",
       "    </tr>\n",
       "    <tr>\n",
       "      <th>13476</th>\n",
       "      <td>13476</td>\n",
       "      <td>6.477925</td>\n",
       "      <td>0.008712</td>\n",
       "    </tr>\n",
       "    <tr>\n",
       "      <th>8480</th>\n",
       "      <td>8480</td>\n",
       "      <td>1.481212</td>\n",
       "      <td>0.008746</td>\n",
       "    </tr>\n",
       "    <tr>\n",
       "      <th>13538</th>\n",
       "      <td>13538</td>\n",
       "      <td>6.539934</td>\n",
       "      <td>0.008810</td>\n",
       "    </tr>\n",
       "    <tr>\n",
       "      <th>8562</th>\n",
       "      <td>8562</td>\n",
       "      <td>1.563223</td>\n",
       "      <td>0.008830</td>\n",
       "    </tr>\n",
       "    <tr>\n",
       "      <th>8479</th>\n",
       "      <td>8479</td>\n",
       "      <td>1.480211</td>\n",
       "      <td>0.008961</td>\n",
       "    </tr>\n",
       "    <tr>\n",
       "      <th>13475</th>\n",
       "      <td>13475</td>\n",
       "      <td>6.476925</td>\n",
       "      <td>0.008993</td>\n",
       "    </tr>\n",
       "    <tr>\n",
       "      <th>8563</th>\n",
       "      <td>8563</td>\n",
       "      <td>1.564223</td>\n",
       "      <td>0.009043</td>\n",
       "    </tr>\n",
       "    <tr>\n",
       "      <th>13539</th>\n",
       "      <td>13539</td>\n",
       "      <td>6.540934</td>\n",
       "      <td>0.009093</td>\n",
       "    </tr>\n",
       "    <tr>\n",
       "      <th>8478</th>\n",
       "      <td>8478</td>\n",
       "      <td>1.479211</td>\n",
       "      <td>0.009176</td>\n",
       "    </tr>\n",
       "    <tr>\n",
       "      <th>8564</th>\n",
       "      <td>8564</td>\n",
       "      <td>1.565224</td>\n",
       "      <td>0.009257</td>\n",
       "    </tr>\n",
       "    <tr>\n",
       "      <th>13474</th>\n",
       "      <td>13474</td>\n",
       "      <td>6.475925</td>\n",
       "      <td>0.009274</td>\n",
       "    </tr>\n",
       "    <tr>\n",
       "      <th>13540</th>\n",
       "      <td>13540</td>\n",
       "      <td>6.541935</td>\n",
       "      <td>0.009377</td>\n",
       "    </tr>\n",
       "    <tr>\n",
       "      <th>8477</th>\n",
       "      <td>8477</td>\n",
       "      <td>1.478211</td>\n",
       "      <td>0.009390</td>\n",
       "    </tr>\n",
       "    <tr>\n",
       "      <th>8565</th>\n",
       "      <td>8565</td>\n",
       "      <td>1.566224</td>\n",
       "      <td>0.009471</td>\n",
       "    </tr>\n",
       "    <tr>\n",
       "      <th>13473</th>\n",
       "      <td>13473</td>\n",
       "      <td>6.474925</td>\n",
       "      <td>0.009555</td>\n",
       "    </tr>\n",
       "    <tr>\n",
       "      <th>8476</th>\n",
       "      <td>8476</td>\n",
       "      <td>1.477211</td>\n",
       "      <td>0.009605</td>\n",
       "    </tr>\n",
       "    <tr>\n",
       "      <th>13541</th>\n",
       "      <td>13541</td>\n",
       "      <td>6.542935</td>\n",
       "      <td>0.009660</td>\n",
       "    </tr>\n",
       "    <tr>\n",
       "      <th>8566</th>\n",
       "      <td>8566</td>\n",
       "      <td>1.567224</td>\n",
       "      <td>0.009684</td>\n",
       "    </tr>\n",
       "    <tr>\n",
       "      <th>8475</th>\n",
       "      <td>8475</td>\n",
       "      <td>1.476211</td>\n",
       "      <td>0.009820</td>\n",
       "    </tr>\n",
       "    <tr>\n",
       "      <th>13472</th>\n",
       "      <td>13472</td>\n",
       "      <td>6.473925</td>\n",
       "      <td>0.009836</td>\n",
       "    </tr>\n",
       "    <tr>\n",
       "      <th>8567</th>\n",
       "      <td>8567</td>\n",
       "      <td>1.568224</td>\n",
       "      <td>0.009898</td>\n",
       "    </tr>\n",
       "    <tr>\n",
       "      <th>13542</th>\n",
       "      <td>13542</td>\n",
       "      <td>6.543935</td>\n",
       "      <td>0.009944</td>\n",
       "    </tr>\n",
       "  </tbody>\n",
       "</table>\n",
       "<p>164 rows × 3 columns</p>\n",
       "</div>"
      ],
      "text/plain": [
       "       index     theta       r75\n",
       "13507  13507  6.508930  0.000030\n",
       "8521    8521  1.522217  0.000051\n",
       "8520    8520  1.521217  0.000163\n",
       "13506  13506  6.507930  0.000252\n",
       "8522    8522  1.523218  0.000266\n",
       "13508  13508  6.509930  0.000313\n",
       "8519    8519  1.520217  0.000378\n",
       "8523    8523  1.524218  0.000480\n",
       "13505  13505  6.506930  0.000535\n",
       "8518    8518  1.519217  0.000592\n",
       "13509  13509  6.510930  0.000596\n",
       "8524    8524  1.525218  0.000694\n",
       "8517    8517  1.518217  0.000806\n",
       "13504  13504  6.505929  0.000818\n",
       "13510  13510  6.511930  0.000879\n",
       "8525    8525  1.526218  0.000909\n",
       "8516    8516  1.517217  0.001021\n",
       "13503  13503  6.504929  0.001100\n",
       "8526    8526  1.527218  0.001123\n",
       "13511  13511  6.512930  0.001162\n",
       "8515    8515  1.516217  0.001235\n",
       "8527    8527  1.528218  0.001337\n",
       "13502  13502  6.503929  0.001383\n",
       "13512  13512  6.513931  0.001444\n",
       "8514    8514  1.515216  0.001450\n",
       "8528    8528  1.529218  0.001552\n",
       "8513    8513  1.514216  0.001664\n",
       "13501  13501  6.502929  0.001665\n",
       "13513  13513  6.514931  0.001727\n",
       "8529    8529  1.530219  0.001766\n",
       "...      ...       ...       ...\n",
       "8559    8559  1.560223  0.008188\n",
       "13536  13536  6.537934  0.008243\n",
       "8482    8482  1.483212  0.008317\n",
       "8560    8560  1.561223  0.008402\n",
       "13477  13477  6.478926  0.008431\n",
       "13537  13537  6.538934  0.008526\n",
       "8481    8481  1.482212  0.008532\n",
       "8561    8561  1.562223  0.008616\n",
       "13476  13476  6.477925  0.008712\n",
       "8480    8480  1.481212  0.008746\n",
       "13538  13538  6.539934  0.008810\n",
       "8562    8562  1.563223  0.008830\n",
       "8479    8479  1.480211  0.008961\n",
       "13475  13475  6.476925  0.008993\n",
       "8563    8563  1.564223  0.009043\n",
       "13539  13539  6.540934  0.009093\n",
       "8478    8478  1.479211  0.009176\n",
       "8564    8564  1.565224  0.009257\n",
       "13474  13474  6.475925  0.009274\n",
       "13540  13540  6.541935  0.009377\n",
       "8477    8477  1.478211  0.009390\n",
       "8565    8565  1.566224  0.009471\n",
       "13473  13473  6.474925  0.009555\n",
       "8476    8476  1.477211  0.009605\n",
       "13541  13541  6.542935  0.009660\n",
       "8566    8566  1.567224  0.009684\n",
       "8475    8475  1.476211  0.009820\n",
       "13472  13472  6.473925  0.009836\n",
       "8567    8567  1.568224  0.009898\n",
       "13542  13542  6.543935  0.009944\n",
       "\n",
       "[164 rows x 3 columns]"
      ]
     },
     "execution_count": 197,
     "metadata": {},
     "output_type": "execute_result"
    }
   ],
   "source": [
    "r[r['r75']<=0.01].sort_values(by='r75')[['index','theta','r75']]"
   ]
  },
  {
   "cell_type": "code",
   "execution_count": null,
   "metadata": {
    "collapsed": true
   },
   "outputs": [],
   "source": []
  }
 ],
 "metadata": {
  "kernelspec": {
   "display_name": "py36",
   "language": "python",
   "name": "py36"
  },
  "language_info": {
   "codemirror_mode": {
    "name": "ipython",
    "version": 3
   },
   "file_extension": ".py",
   "mimetype": "text/x-python",
   "name": "python",
   "nbconvert_exporter": "python",
   "pygments_lexer": "ipython3",
   "version": "3.6.0"
  }
 },
 "nbformat": 4,
 "nbformat_minor": 0
}
