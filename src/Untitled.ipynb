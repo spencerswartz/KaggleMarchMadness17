{
 "cells": [
  {
   "cell_type": "code",
   "execution_count": 1,
   "metadata": {
    "collapsed": false
   },
   "outputs": [],
   "source": [
    "import numpy as np\n",
    "import csv\n",
    "import pandas as pd\n",
    "import random\n",
    "from math import sqrt, pi, exp\n",
    "import math\n",
    "\n",
    "import matplotlib.pyplot as plt\n",
    "%matplotlib inline"
   ]
  },
  {
   "cell_type": "code",
   "execution_count": 2,
   "metadata": {
    "collapsed": false
   },
   "outputs": [
    {
     "name": "stderr",
     "output_type": "stream",
     "text": [
      "C:\\Users\\edwardsd\\Anaconda2\\envs\\py36\\lib\\site-packages\\ipykernel\\__main__.py:5: DeprecationWarning: object of type <class 'float'> cannot be safely interpreted as an integer.\n"
     ]
    }
   ],
   "source": [
    "start= -10\n",
    "stop= 10\n",
    "step = .001\n",
    "nSteps= (stop-start)/step\n",
    "x= np.linspace(start, stop, nSteps)"
   ]
  },
  {
   "cell_type": "code",
   "execution_count": 3,
   "metadata": {
    "collapsed": false
   },
   "outputs": [
    {
     "data": {
      "text/html": [
       "<div>\n",
       "<table border=\"1\" class=\"dataframe\">\n",
       "  <thead>\n",
       "    <tr style=\"text-align: right;\">\n",
       "      <th></th>\n",
       "      <th>index</th>\n",
       "      <th>theta</th>\n",
       "    </tr>\n",
       "  </thead>\n",
       "  <tbody>\n",
       "    <tr>\n",
       "      <th>0</th>\n",
       "      <td>0</td>\n",
       "      <td>-10.000</td>\n",
       "    </tr>\n",
       "    <tr>\n",
       "      <th>1</th>\n",
       "      <td>1</td>\n",
       "      <td>-9.999</td>\n",
       "    </tr>\n",
       "    <tr>\n",
       "      <th>2</th>\n",
       "      <td>2</td>\n",
       "      <td>-9.998</td>\n",
       "    </tr>\n",
       "    <tr>\n",
       "      <th>3</th>\n",
       "      <td>3</td>\n",
       "      <td>-9.997</td>\n",
       "    </tr>\n",
       "    <tr>\n",
       "      <th>4</th>\n",
       "      <td>4</td>\n",
       "      <td>-9.996</td>\n",
       "    </tr>\n",
       "  </tbody>\n",
       "</table>\n",
       "</div>"
      ],
      "text/plain": [
       "   index   theta\n",
       "0      0 -10.000\n",
       "1      1  -9.999\n",
       "2      2  -9.998\n",
       "3      3  -9.997\n",
       "4      4  -9.996"
      ]
     },
     "execution_count": 3,
     "metadata": {},
     "output_type": "execute_result"
    }
   ],
   "source": [
    "q= pd.DataFrame({'theta':x})\n",
    "q.reset_index(inplace=True)\n",
    "q.head()"
   ]
  },
  {
   "cell_type": "code",
   "execution_count": 4,
   "metadata": {
    "collapsed": false
   },
   "outputs": [
    {
     "data": {
      "text/plain": [
       "(20000, 20000.0)"
      ]
     },
     "execution_count": 4,
     "metadata": {},
     "output_type": "execute_result"
    }
   ],
   "source": [
    "len(x), nSteps"
   ]
  },
  {
   "cell_type": "code",
   "execution_count": 5,
   "metadata": {
    "collapsed": false
   },
   "outputs": [],
   "source": [
    "f= open('./interval.csv', 'w', newline='')\n",
    "o= csv.writer(f)\n",
    "o.writerow(('index','theta'))\n",
    "for n,i in enumerate(x):\n",
    "    o.writerow((n,i))\n",
    "f.close()"
   ]
  },
  {
   "cell_type": "code",
   "execution_count": 6,
   "metadata": {
    "collapsed": false
   },
   "outputs": [],
   "source": [
    "#frame= pd.read_csv('./interval.csv')\n",
    "frame = q.copy()"
   ]
  },
  {
   "cell_type": "code",
   "execution_count": 7,
   "metadata": {
    "collapsed": false
   },
   "outputs": [
    {
     "data": {
      "text/html": [
       "<div>\n",
       "<table border=\"1\" class=\"dataframe\">\n",
       "  <thead>\n",
       "    <tr style=\"text-align: right;\">\n",
       "      <th></th>\n",
       "      <th>index</th>\n",
       "      <th>theta</th>\n",
       "    </tr>\n",
       "  </thead>\n",
       "  <tbody>\n",
       "    <tr>\n",
       "      <th>0</th>\n",
       "      <td>0</td>\n",
       "      <td>-10.000</td>\n",
       "    </tr>\n",
       "    <tr>\n",
       "      <th>1</th>\n",
       "      <td>1</td>\n",
       "      <td>-9.999</td>\n",
       "    </tr>\n",
       "    <tr>\n",
       "      <th>2</th>\n",
       "      <td>2</td>\n",
       "      <td>-9.998</td>\n",
       "    </tr>\n",
       "    <tr>\n",
       "      <th>3</th>\n",
       "      <td>3</td>\n",
       "      <td>-9.997</td>\n",
       "    </tr>\n",
       "    <tr>\n",
       "      <th>4</th>\n",
       "      <td>4</td>\n",
       "      <td>-9.996</td>\n",
       "    </tr>\n",
       "  </tbody>\n",
       "</table>\n",
       "</div>"
      ],
      "text/plain": [
       "   index   theta\n",
       "0      0 -10.000\n",
       "1      1  -9.999\n",
       "2      2  -9.998\n",
       "3      3  -9.997\n",
       "4      4  -9.996"
      ]
     },
     "execution_count": 7,
     "metadata": {},
     "output_type": "execute_result"
    }
   ],
   "source": [
    "frame.head(5)"
   ]
  },
  {
   "cell_type": "code",
   "execution_count": 8,
   "metadata": {
    "collapsed": true
   },
   "outputs": [],
   "source": [
    "def pdf(mu=0, sigma=1):\n",
    "    s2= sigma*sigma\n",
    "    return lambda x: 1/sqrt(2*pi*(s2)) * exp(-(x-mu)**2/(2*s2))"
   ]
  },
  {
   "cell_type": "markdown",
   "metadata": {
    "collapsed": true
   },
   "source": [
    "```\n",
    "def plot(sigma, data=frame):\n",
    "    d= data.copy()\n",
    "    a= d.applymap(pdf(sigma))[['theta']].rename(columns={'theta': 'm'})\n",
    "    plotData= a.join(d)\n",
    "    plt.plot(plotData['theta'],plotData['m'])\n",
    "    return plotData\n",
    "```"
   ]
  },
  {
   "cell_type": "code",
   "execution_count": 9,
   "metadata": {
    "collapsed": true
   },
   "outputs": [],
   "source": [
    "m_mu,m_sigma= 0.5, 1.5\n",
    "pdfM= pdf(m_mu,m_sigma)\n",
    "\n",
    "w_mu,w_sigma= 0, 1\n",
    "pdfW= pdf(w_mu,w_sigma)"
   ]
  },
  {
   "cell_type": "markdown",
   "metadata": {
    "collapsed": true
   },
   "source": [
    "```\n",
    "m= frame.applymap(pdf(2))[['theta']].rename(columns={'theta': 'm'})\n",
    "w= frame.applymap(pdf(1))[['theta']].rename(columns={'theta': 'w'})\n",
    "```"
   ]
  },
  {
   "cell_type": "code",
   "execution_count": 10,
   "metadata": {
    "collapsed": false
   },
   "outputs": [],
   "source": [
    "frame['m']= frame.applymap(pdfM)[['theta']]\n",
    "m= frame['m']\n",
    "\n",
    "frame['w']= frame.applymap(pdfW)[['theta']]\n",
    "w= frame['w']"
   ]
  },
  {
   "cell_type": "code",
   "execution_count": 11,
   "metadata": {
    "collapsed": false
   },
   "outputs": [
    {
     "name": "stdout",
     "output_type": "stream",
     "text": [
      "0.999949999879\n",
      "0.99995\n"
     ]
    }
   ],
   "source": [
    "print(frame['m'].sum()*step)\n",
    "print(frame['w'].sum()*step)"
   ]
  },
  {
   "cell_type": "code",
   "execution_count": 12,
   "metadata": {
    "collapsed": true
   },
   "outputs": [],
   "source": [
    "m_total= frame['m'].sum()*step\n",
    "m_wing= (1-m_total)/2\n",
    "\n",
    "w_total= frame['w'].sum()*step\n",
    "w_wing= (1-w_total)/2"
   ]
  },
  {
   "cell_type": "code",
   "execution_count": 13,
   "metadata": {
    "collapsed": false
   },
   "outputs": [
    {
     "name": "stdout",
     "output_type": "stream",
     "text": [
      "1.0\n",
      "1.0\n"
     ]
    }
   ],
   "source": [
    "print(frame['m'].sum()*step+2*m_wing)\n",
    "print(frame['w'].sum()*step+2*w_wing)"
   ]
  },
  {
   "cell_type": "code",
   "execution_count": 14,
   "metadata": {
    "collapsed": false
   },
   "outputs": [
    {
     "name": "stdout",
     "output_type": "stream",
     "text": [
      "0.5\n",
      "0.5\n"
     ]
    }
   ],
   "source": [
    "print(w_wing+frame[frame['theta']>=w_mu]['w'].sum()*step)\n",
    "print(w_wing+frame[frame['theta']<=w_mu]['w'].sum()*step)"
   ]
  },
  {
   "cell_type": "code",
   "execution_count": 15,
   "metadata": {
    "collapsed": false
   },
   "outputs": [
    {
     "name": "stdout",
     "output_type": "stream",
     "text": [
      "0.499993350842\n",
      "0.500006649037\n"
     ]
    }
   ],
   "source": [
    "print(w_wing+frame[frame['theta']>=m_mu]['m'].sum()*step)\n",
    "print(w_wing+frame[frame['theta']<=m_mu]['m'].sum()*step)"
   ]
  },
  {
   "cell_type": "code",
   "execution_count": 16,
   "metadata": {
    "collapsed": false
   },
   "outputs": [
    {
     "name": "stdout",
     "output_type": "stream",
     "text": [
      "0.158660212852\n",
      "0.158660212852\n"
     ]
    }
   ],
   "source": [
    "print(w_wing+frame[frame['theta']<=-w_sigma]['w'].sum()*step)\n",
    "print(w_wing+frame[frame['theta']>=w_sigma]['w'].sum()*step)"
   ]
  },
  {
   "cell_type": "code",
   "execution_count": 17,
   "metadata": {
    "collapsed": false
   },
   "outputs": [
    {
     "name": "stdout",
     "output_type": "stream",
     "text": [
      "0.15866425113\n",
      "0.158656185724\n"
     ]
    }
   ],
   "source": [
    "print(w_wing+frame[frame['theta']<=(-m_sigma+m_mu)]['m'].sum()*step)\n",
    "print(w_wing+frame[frame['theta']>=(m_sigma+m_mu)]['m'].sum()*step)"
   ]
  },
  {
   "cell_type": "code",
   "execution_count": 18,
   "metadata": {
    "collapsed": false
   },
   "outputs": [
    {
     "data": {
      "text/html": [
       "<div>\n",
       "<table border=\"1\" class=\"dataframe\">\n",
       "  <thead>\n",
       "    <tr style=\"text-align: right;\">\n",
       "      <th></th>\n",
       "      <th>index</th>\n",
       "      <th>theta</th>\n",
       "      <th>m</th>\n",
       "      <th>w</th>\n",
       "    </tr>\n",
       "  </thead>\n",
       "  <tbody>\n",
       "    <tr>\n",
       "      <th>0</th>\n",
       "      <td>0</td>\n",
       "      <td>-10.000</td>\n",
       "      <td>6.089814e-12</td>\n",
       "      <td>7.694599e-23</td>\n",
       "    </tr>\n",
       "    <tr>\n",
       "      <th>1</th>\n",
       "      <td>1</td>\n",
       "      <td>-9.999</td>\n",
       "      <td>6.118299e-12</td>\n",
       "      <td>7.771931e-23</td>\n",
       "    </tr>\n",
       "    <tr>\n",
       "      <th>2</th>\n",
       "      <td>2</td>\n",
       "      <td>-9.998</td>\n",
       "      <td>6.146915e-12</td>\n",
       "      <td>7.850032e-23</td>\n",
       "    </tr>\n",
       "    <tr>\n",
       "      <th>3</th>\n",
       "      <td>3</td>\n",
       "      <td>-9.997</td>\n",
       "      <td>6.175663e-12</td>\n",
       "      <td>7.928910e-23</td>\n",
       "    </tr>\n",
       "    <tr>\n",
       "      <th>4</th>\n",
       "      <td>4</td>\n",
       "      <td>-9.996</td>\n",
       "      <td>6.204541e-12</td>\n",
       "      <td>8.008573e-23</td>\n",
       "    </tr>\n",
       "  </tbody>\n",
       "</table>\n",
       "</div>"
      ],
      "text/plain": [
       "   index   theta             m             w\n",
       "0      0 -10.000  6.089814e-12  7.694599e-23\n",
       "1      1  -9.999  6.118299e-12  7.771931e-23\n",
       "2      2  -9.998  6.146915e-12  7.850032e-23\n",
       "3      3  -9.997  6.175663e-12  7.928910e-23\n",
       "4      4  -9.996  6.204541e-12  8.008573e-23"
      ]
     },
     "execution_count": 18,
     "metadata": {},
     "output_type": "execute_result"
    }
   ],
   "source": [
    "frame.head(5)"
   ]
  },
  {
   "cell_type": "code",
   "execution_count": 19,
   "metadata": {
    "collapsed": false
   },
   "outputs": [
    {
     "data": {
      "text/plain": [
       "0.24197072451914337"
      ]
     },
     "execution_count": 19,
     "metadata": {},
     "output_type": "execute_result"
    }
   ],
   "source": [
    "pdfW(w_sigma+w_mu)"
   ]
  },
  {
   "cell_type": "code",
   "execution_count": 20,
   "metadata": {
    "collapsed": false
   },
   "outputs": [
    {
     "data": {
      "text/html": [
       "<div>\n",
       "<table border=\"1\" class=\"dataframe\">\n",
       "  <thead>\n",
       "    <tr style=\"text-align: right;\">\n",
       "      <th></th>\n",
       "      <th>index</th>\n",
       "      <th>theta</th>\n",
       "      <th>m</th>\n",
       "      <th>w</th>\n",
       "    </tr>\n",
       "  </thead>\n",
       "  <tbody>\n",
       "    <tr>\n",
       "      <th>10998</th>\n",
       "      <td>10998</td>\n",
       "      <td>0.99855</td>\n",
       "      <td>0.251670</td>\n",
       "      <td>0.242322</td>\n",
       "    </tr>\n",
       "    <tr>\n",
       "      <th>10999</th>\n",
       "      <td>10999</td>\n",
       "      <td>0.99955</td>\n",
       "      <td>0.251614</td>\n",
       "      <td>0.242080</td>\n",
       "    </tr>\n",
       "    <tr>\n",
       "      <th>11000</th>\n",
       "      <td>11000</td>\n",
       "      <td>1.00055</td>\n",
       "      <td>0.251558</td>\n",
       "      <td>0.241838</td>\n",
       "    </tr>\n",
       "  </tbody>\n",
       "</table>\n",
       "</div>"
      ],
      "text/plain": [
       "       index    theta         m         w\n",
       "10998  10998  0.99855  0.251670  0.242322\n",
       "10999  10999  0.99955  0.251614  0.242080\n",
       "11000  11000  1.00055  0.251558  0.241838"
      ]
     },
     "execution_count": 20,
     "metadata": {},
     "output_type": "execute_result"
    }
   ],
   "source": [
    "closest= abs(frame['theta']-w_sigma).idxmin()\n",
    "frame.iloc[closest-1:closest+2]"
   ]
  },
  {
   "cell_type": "code",
   "execution_count": 21,
   "metadata": {
    "collapsed": false
   },
   "outputs": [
    {
     "data": {
      "image/png": "[encoded data removed]",
      "text/plain": [
       "<matplotlib.figure.Figure at 0x3adef74278>"
      ]
     },
     "metadata": {},
     "output_type": "display_data"
    }
   ],
   "source": [
    "plt.plot(frame['theta'], frame['m'], '-')\n",
    "plt.plot(frame['theta'], frame['w'], '-')\n",
    "\n",
    "axis= [start,stop,0,max(frame['m'].max(),frame['w'].max())]\n",
    "\n",
    "w_atMu= pdfW(w_mu)\n",
    "m_atMu= pdfM(m_mu)\n",
    "\n",
    "w_atSigma= pdfW(w_sigma+w_mu)\n",
    "m_atSigma= pdfM(m_sigma+m_mu)\n",
    "\n",
    "plt.axvline(x=w_mu, ymax=w_atMu/axis[3], color='C1', linestyle='dashed')\n",
    "plt.axvline(x=m_mu, ymax=m_atMu/axis[3], color='C0', linestyle='dashed')\n",
    "\n",
    "plt.axvline(x=(w_sigma+w_mu), ymax=w_atSigma/axis[3], color='C1')\n",
    "plt.axvline(x=(m_sigma+m_mu), ymax=m_atSigma/axis[3], color='C0')\n",
    "\n",
    "plt.axis(axis)\n",
    "plt.legend()\n",
    "plt.show()"
   ]
  },
  {
   "cell_type": "code",
   "execution_count": 22,
   "metadata": {
    "collapsed": false
   },
   "outputs": [
    {
     "name": "stdout",
     "output_type": "stream",
     "text": [
      "0.252488936783\n",
      "0.158660212852\n"
     ]
    }
   ],
   "source": [
    "print(frame[frame['theta']>=m_sigma]['m'].sum()*step+m_wing)\n",
    "print(frame[frame['theta']>=w_sigma]['w'].sum()*step+w_wing)"
   ]
  },
  {
   "cell_type": "code",
   "execution_count": 23,
   "metadata": {
    "collapsed": false
   },
   "outputs": [
    {
     "data": {
      "image/png": "[encoded data removed]",
      "text/plain": [
       "<matplotlib.figure.Figure at 0x3adb4dc3c8>"
      ]
     },
     "metadata": {},
     "output_type": "display_data"
    }
   ],
   "source": [
    "frame['m_sum']= frame['m'].cumsum()*step+m_wing\n",
    "frame['w_sum']= frame['w'].cumsum()*step+w_wing\n",
    "\n",
    "plt.plot(frame['theta'],frame['w_sum'])\n",
    "plt.plot(frame['theta'],frame['m_sum'])\n",
    "plt.legend()\n",
    "plt.show()"
   ]
  },
  {
   "cell_type": "code",
   "execution_count": 24,
   "metadata": {
    "collapsed": false
   },
   "outputs": [
    {
     "data": {
      "image/png": "[encoded data removed]",
      "text/plain": [
       "<matplotlib.figure.Figure at 0x3adf0c8d30>"
      ]
     },
     "metadata": {},
     "output_type": "display_data"
    }
   ],
   "source": [
    "frame['m_sum_inv']= 1-frame['m_sum']\n",
    "frame['w_sum_inv']= 1-frame['w_sum']\n",
    "\n",
    "plt.plot(frame['theta'],frame['w_sum_inv'])\n",
    "plt.plot(frame['theta'],frame['m_sum_inv'])\n",
    "plt.legend()\n",
    "plt.show()"
   ]
  },
  {
   "cell_type": "code",
   "execution_count": 25,
   "metadata": {
    "collapsed": false
   },
   "outputs": [
    {
     "data": {
      "image/png": "[encoded data removed]",
      "text/plain": [
       "<matplotlib.figure.Figure at 0x3adb496d68>"
      ]
     },
     "metadata": {},
     "output_type": "display_data"
    }
   ],
   "source": [
    "plt.plot(frame['theta'],frame['m'])\n",
    "plt.plot(frame['theta'],frame['m_sum'])\n",
    "plt.title(\"men\")\n",
    "plt.legend()\n",
    "plt.show()"
   ]
  },
  {
   "cell_type": "code",
   "execution_count": 26,
   "metadata": {
    "collapsed": false
   },
   "outputs": [
    {
     "data": {
      "image/png": "[encoded data removed]",
      "text/plain": [
       "<matplotlib.figure.Figure at 0x3ae01e0e48>"
      ]
     },
     "metadata": {},
     "output_type": "display_data"
    }
   ],
   "source": [
    "plt.plot(frame['theta'],frame['w'])\n",
    "plt.plot(frame['theta'],frame['w_sum'])\n",
    "plt.title(\"women\")\n",
    "plt.legend()\n",
    "plt.show()"
   ]
  },
  {
   "cell_type": "code",
   "execution_count": 27,
   "metadata": {
    "collapsed": true
   },
   "outputs": [],
   "source": [
    "frame['all']= frame['w_sum']+frame['m_sum']\n",
    "frame['w_part']= frame['w_sum']/frame['all']\n",
    "frame['m_part']= frame['m_sum']/frame['all']"
   ]
  },
  {
   "cell_type": "code",
   "execution_count": 28,
   "metadata": {
    "collapsed": false
   },
   "outputs": [
    {
     "data": {
      "text/plain": [
       "<matplotlib.legend.Legend at 0x3ae030cfd0>"
      ]
     },
     "execution_count": 28,
     "metadata": {},
     "output_type": "execute_result"
    },
    {
     "data": {
      "image/png": "[encoded data removed]",
      "text/plain": [
       "<matplotlib.figure.Figure at 0x3adb4d40b8>"
      ]
     },
     "metadata": {},
     "output_type": "display_data"
    }
   ],
   "source": [
    "plt.plot(frame['theta'],frame['w_part'])\n",
    "plt.plot(frame['theta'],frame['m_part'])\n",
    "plt.legend()"
   ]
  },
  {
   "cell_type": "code",
   "execution_count": 29,
   "metadata": {
    "collapsed": true
   },
   "outputs": [],
   "source": [
    "frame['all_inv']= frame['w_sum_inv']+frame['m_sum_inv']\n",
    "frame['w_part_inv']= frame['w_sum_inv']/frame['all_inv']\n",
    "frame['m_part_inv']= frame['m_sum_inv']/frame['all_inv']"
   ]
  },
  {
   "cell_type": "code",
   "execution_count": 30,
   "metadata": {
    "collapsed": false
   },
   "outputs": [
    {
     "data": {
      "image/png": "[encoded data removed]",
      "text/plain": [
       "<matplotlib.figure.Figure at 0x3ae0334320>"
      ]
     },
     "metadata": {},
     "output_type": "display_data"
    }
   ],
   "source": [
    "plt.plot(frame['theta'],frame['w_part_inv'])\n",
    "plt.plot(frame['theta'],frame['m_part_inv'])\n",
    "plt.legend()\n",
    "plt.show()"
   ]
  },
  {
   "cell_type": "code",
   "execution_count": 31,
   "metadata": {
    "collapsed": true
   },
   "outputs": [],
   "source": [
    "frame.to_csv('../intervalAnalysis.csv')"
   ]
  },
  {
   "cell_type": "code",
   "execution_count": 32,
   "metadata": {
    "collapsed": false
   },
   "outputs": [],
   "source": [
    "def plot1():\n",
    "########################\n",
    "    plt.figure(1)\n",
    "    plt.plot(frame['theta'], frame['m'], '-')\n",
    "    plt.plot(frame['theta'], frame['w'], '-')\n",
    "\n",
    "    axis= [start,stop,0,max(frame['m'].max(),frame['w'].max())]\n",
    "\n",
    "    w_atMu= pdfW(w_mu)\n",
    "    m_atMu= pdfM(m_mu)\n",
    "\n",
    "    w_atSigma= pdfW(w_sigma+w_mu)\n",
    "    m_atSigma= pdfM(m_sigma+m_mu)\n",
    "\n",
    "    plt.axvline(x=w_mu, ymax=w_atMu/axis[3], color='C1', linestyle='dashed')\n",
    "    plt.axvline(x=m_mu, ymax=m_atMu/axis[3], color='C0', linestyle='dashed')\n",
    "\n",
    "    plt.axvline(x=(w_sigma+w_mu), ymax=w_atSigma/axis[3], color='C1')\n",
    "    plt.axvline(x=(m_sigma+m_mu), ymax=m_atSigma/axis[3], color='C0')\n",
    "\n",
    "    plt.axis(axis)\n",
    "    plt.title(\"Distribution\")\n",
    "    plt.legend()\n",
    "    plt.show()\n",
    "    ########################\n",
    "    pass"
   ]
  },
  {
   "cell_type": "code",
   "execution_count": 33,
   "metadata": {
    "collapsed": false
   },
   "outputs": [],
   "source": [
    "def plot2():\n",
    "########################\n",
    "    f, (ax1,ax2)= plt.subplots(2,1,sharex=True)\n",
    "    frame['m_sum']= frame['m'].cumsum()*step+m_wing\n",
    "    frame['w_sum']= frame['w'].cumsum()*step+w_wing\n",
    "\n",
    "    ax1.plot(frame['theta'],frame['w_sum'])\n",
    "    ax1.plot(frame['theta'],frame['m_sum'])\n",
    "    plt.xticks([])\n",
    "    ax1.legend()\n",
    "    ax1.set_title('CDF')\n",
    "\n",
    "    frame['m_sum_inv']= 1-frame['m_sum']\n",
    "    frame['w_sum_inv']= 1-frame['w_sum']\n",
    "\n",
    "    #plt.subplot(122)\n",
    "    ax2.plot(frame['theta'],frame['w_sum_inv'])\n",
    "    ax2.plot(frame['theta'],frame['m_sum_inv'])\n",
    "    ax2.legend()\n",
    "    ax2.set_title(\"Inverted-CDF\")\n",
    "    ########################\n",
    "\n",
    "    plt.show()"
   ]
  },
  {
   "cell_type": "code",
   "execution_count": 34,
   "metadata": {
    "collapsed": false
   },
   "outputs": [],
   "source": [
    "def plot3():\n",
    "########################\n",
    "    plt.figure(3)\n",
    "    plt.subplot(211)\n",
    "    plt.plot(frame['theta'],frame['w'])\n",
    "    plt.plot(frame['theta'],frame['m'])\n",
    "    \n",
    "    plt.title(\"Density\")\n",
    "    plt.xticks([])\n",
    "    plt.legend()\n",
    "    #plt.show()\n",
    "\n",
    "    plt.subplot(212)\n",
    "    \n",
    "    plt.plot(frame['theta'],frame['w_sum'])\n",
    "    plt.plot(frame['theta'],frame['m_sum'])\n",
    "    plt.title(\"Distribution\")\n",
    "    plt.legend()\n",
    "    plt.show()\n",
    "    ########################"
   ]
  },
  {
   "cell_type": "code",
   "execution_count": 35,
   "metadata": {
    "collapsed": false
   },
   "outputs": [],
   "source": [
    "def plot4():\n",
    "########################\n",
    "    frame['all']= frame['w_sum']+frame['m_sum']\n",
    "    frame['w_part']= frame['w_sum']/frame['all']\n",
    "    frame['m_part']= frame['m_sum']/frame['all']\n",
    "\n",
    "    plt.figure(4)\n",
    "    #f, (ax1, ax2)= plt.subplots(2, sharey=True)\n",
    "    plt.subplot(211)\n",
    "    plt.plot(frame['theta'],frame['w_part'])\n",
    "    plt.plot(frame['theta'],frame['m_part'])\n",
    "    plt.xticks([])\n",
    "    plt.title(\"Integrate from Left\")\n",
    "    plt.legend()\n",
    "    #plt.show()\n",
    "    ########################\n",
    "\n",
    "    ########################\n",
    "    frame['all_inv']= frame['w_sum_inv']+frame['m_sum_inv']\n",
    "    frame['w_part_inv']= frame['w_sum_inv']/frame['all_inv']\n",
    "    frame['m_part_inv']= frame['m_sum_inv']/frame['all_inv']\n",
    "\n",
    "    #plt.figure(5)\n",
    "    plt.subplot(212)\n",
    "    plt.plot(frame['theta'],frame['w_part_inv'])\n",
    "    plt.plot(frame['theta'],frame['m_part_inv'])\n",
    "    plt.title(\"Integrate from Right\")\n",
    "    plt.legend()\n",
    "    plt.show()\n",
    "    ########################\n",
    "    pass"
   ]
  },
  {
   "cell_type": "code",
   "execution_count": 36,
   "metadata": {
    "collapsed": true
   },
   "outputs": [],
   "source": [
    "def thetaIndex(theta=-7,step=.001):\n",
    "    start= -abs(theta)\n",
    "    stop= abs(theta)\n",
    "    step = abs(step)\n",
    "    nSteps= (stop-start)/step\n",
    "\n",
    "    x= np.linspace(start, stop, nSteps)\n",
    "    frame= pd.DataFrame({'theta':x})\n",
    "    frame.reset_index(inplace=True)\n",
    "    return frame"
   ]
  },
  {
   "cell_type": "code",
   "execution_count": 37,
   "metadata": {
    "collapsed": false
   },
   "outputs": [],
   "source": [
    "def plotSamples(results):\n",
    "    plt.figure(1)\n",
    "    f, (ax1, ax2)= plt.subplots(2, sharex= True)\n",
    "    ax1.plot(results['dMu'],results['m_mu'])\n",
    "    ax1.plot(results['dMu'],results['w_mu'])\n",
    "    #ax1.ylabel('mu')\n",
    "    #ax1.xlabel('dMu')\n",
    "    #ax1.xticks([])\n",
    "    ax1.legend()\n",
    "    #plt.show()\n",
    "\n",
    "    #plt.subplots(212)\n",
    "    results.sort_values(by='dSigma', inplace=True)\n",
    "    ax2.plot(results['dSigma'],results['m_sigma'])\n",
    "    ax2.plot(results['dSigma'],results['w_sigma'])\n",
    "    #ax2.ylabel('sigma')\n",
    "    #ax2.xlabel('dSigma')\n",
    "    #ax2.xlabel('d')\n",
    "    ax2.legend()\n",
    "    plt.show()\n",
    "\n",
    "    plt.figure(1)\n",
    "    plt.plot(results['dMu'],results['dSigma'],'.')\n",
    "    plt.xlabel('dMu')\n",
    "    plt.ylabel('dSigma')\n",
    "    plt.show()\n",
    "    pass"
   ]
  },
  {
   "cell_type": "code",
   "execution_count": 38,
   "metadata": {
    "collapsed": true
   },
   "outputs": [],
   "source": [
    "def simResults():\n",
    "    results= []#None\n",
    "    random.seed(42)\n",
    "    for i in range(420):\n",
    "        #print(i)\n",
    "\n",
    "        dMu= random.random()\n",
    "        dSigma= random.random()\n",
    "        dSigma_pctChange= math.copysign(abs(dSigma-0.5)+0.5,dSigma-0.5)\n",
    "\n",
    "        #m_mu= w_mu+(dMu-0.5)\n",
    "        m_mu= w_mu+(dMu/2)\n",
    "        m_sigma= w_sigma*(1+dSigma_pctChange)\n",
    "\n",
    "        row= [w_mu,w_sigma,dMu,dSigma,dSigma_pctChange,m_mu,m_sigma]\n",
    "        #print(row)\n",
    "        if type(results)!=type(None):\n",
    "            results.append(row)\n",
    "        else:\n",
    "            results= pd.DataFrame(row)\n",
    "\n",
    "    results= pd.DataFrame(results, columns=['w_mu','w_sigma','dMu','dSigma','dSigma_pctChange','m_mu','m_sigma'])\n",
    "    #results.head()\n",
    "    return results"
   ]
  },
  {
   "cell_type": "code",
   "execution_count": 68,
   "metadata": {
    "collapsed": false
   },
   "outputs": [
    {
     "name": "stdout",
     "output_type": "stream",
     "text": [
      "   w_mu  w_sigma       dMu    dSigma  dSigma_pctChange      m_mu   m_sigma\n",
      "0   0.0      1.0  0.639427  0.025011         -0.974989  0.319713  0.025011\n",
      "1   0.0      1.0  0.275029  0.223211         -0.776789  0.137515  0.223211\n",
      "2   0.0      1.0  0.736471  0.676699          0.676699  0.368236  1.676699\n",
      "3   0.0      1.0  0.892180  0.086939         -0.913061  0.446090  0.086939\n",
      "4   0.0      1.0  0.421922  0.029797         -0.970203  0.210961  0.029797\n"
     ]
    },
    {
     "data": {
      "text/plain": [
       "<matplotlib.figure.Figure at 0x3ae0b5d9b0>"
      ]
     },
     "metadata": {},
     "output_type": "display_data"
    },
    {
     "data": {
      "image/png": "[encoded data removed]",
      "text/plain": [
       "<matplotlib.figure.Figure at 0x3ae0a7b0b8>"
      ]
     },
     "metadata": {},
     "output_type": "display_data"
    },
    {
     "data": {
      "image/png": "[encoded data removed]",
      "text/plain": [
       "<matplotlib.figure.Figure at 0x3ae0359358>"
      ]
     },
     "metadata": {},
     "output_type": "display_data"
    }
   ],
   "source": [
    "results= simResults()\n",
    "print(results.head())\n",
    "\n",
    "plotSamples(results)"
   ]
  },
  {
   "cell_type": "code",
   "execution_count": 40,
   "metadata": {
    "collapsed": false
   },
   "outputs": [
    {
     "name": "stderr",
     "output_type": "stream",
     "text": [
      "C:\\Users\\edwardsd\\Anaconda2\\envs\\py36\\lib\\site-packages\\ipykernel\\__main__.py:6: DeprecationWarning: object of type <class 'float'> cannot be safely interpreted as an integer.\n"
     ]
    }
   ],
   "source": [
    "start= -10\n",
    "stop= 10\n",
    "step = .001\n",
    "nSteps= (stop-start)/step\n",
    "\n",
    "x= np.linspace(start, stop, nSteps)\n",
    "frame= pd.DataFrame({'theta':x})\n",
    "frame.reset_index(inplace=True)"
   ]
  },
  {
   "cell_type": "markdown",
   "metadata": {},
   "source": [
    "# Start"
   ]
  },
  {
   "cell_type": "code",
   "execution_count": 41,
   "metadata": {
    "collapsed": false
   },
   "outputs": [
    {
     "name": "stderr",
     "output_type": "stream",
     "text": [
      "C:\\Users\\edwardsd\\Anaconda2\\envs\\py36\\lib\\site-packages\\ipykernel\\__main__.py:7: DeprecationWarning: object of type <class 'float'> cannot be safely interpreted as an integer.\n"
     ]
    }
   ],
   "source": [
    "frame= thetaIndex(-10,.001)"
   ]
  },
  {
   "cell_type": "markdown",
   "metadata": {},
   "source": [
    "```\n",
    "m_mu,m_sigma= 0.5, 1.5\n",
    "w_mu,w_sigma= 0, 1\n",
    "```"
   ]
  },
  {
   "cell_type": "code",
   "execution_count": 42,
   "metadata": {
    "collapsed": true
   },
   "outputs": [],
   "source": [
    "baseMu= 0\n",
    "baseSigma= 1"
   ]
  },
  {
   "cell_type": "code",
   "execution_count": 43,
   "metadata": {
    "collapsed": true
   },
   "outputs": [],
   "source": [
    "w_mu= baseMu\n",
    "w_sigma= baseSigma"
   ]
  },
  {
   "cell_type": "code",
   "execution_count": 44,
   "metadata": {
    "collapsed": false
   },
   "outputs": [],
   "source": [
    "random.seed(42)\n",
    "dMu= random.random()\n",
    "dSigma= random.random()\n",
    "dSigma_pctChange= math.copysign(abs(dSigma-0.5),dSigma-0.5)"
   ]
  },
  {
   "cell_type": "code",
   "execution_count": 45,
   "metadata": {
    "collapsed": true
   },
   "outputs": [],
   "source": [
    "m_mu= w_mu+dMu\n",
    "m_sigma= w_sigma*(1+dSigma_pctChange)"
   ]
  },
  {
   "cell_type": "code",
   "execution_count": 46,
   "metadata": {
    "collapsed": false
   },
   "outputs": [
    {
     "name": "stdout",
     "output_type": "stream",
     "text": [
      "0.6394267984578837 0.5250107552226669\n",
      "0 1\n"
     ]
    }
   ],
   "source": [
    "print(m_mu,m_sigma)\n",
    "print(w_mu,w_sigma)"
   ]
  },
  {
   "cell_type": "code",
   "execution_count": 47,
   "metadata": {
    "collapsed": false
   },
   "outputs": [],
   "source": [
    "baseMu= 0\n",
    "baseSigma= 1\n",
    "w_mu= baseMu\n",
    "w_sigma= baseSigma"
   ]
  },
  {
   "cell_type": "markdown",
   "metadata": {},
   "source": [
    "# Start Simulation Here"
   ]
  },
  {
   "cell_type": "code",
   "execution_count": 58,
   "metadata": {
    "collapsed": false
   },
   "outputs": [],
   "source": [
    "selectedResult= results.iloc[random.randint(0,len(results))]"
   ]
  },
  {
   "cell_type": "code",
   "execution_count": 61,
   "metadata": {
    "collapsed": false
   },
   "outputs": [],
   "source": [
    "w_mu= selectedResult.w_mu\n",
    "w_sigma= selectedResult.w_sigma\n",
    "m_mu= selectedResult.m_mu\n",
    "m_sigma= selectedResult.m_sigma"
   ]
  },
  {
   "cell_type": "code",
   "execution_count": 62,
   "metadata": {
    "collapsed": true
   },
   "outputs": [],
   "source": [
    "pdfM= pdf(m_mu,m_sigma)\n",
    "pdfW= pdf(w_mu,w_sigma)"
   ]
  },
  {
   "cell_type": "code",
   "execution_count": 63,
   "metadata": {
    "collapsed": true
   },
   "outputs": [],
   "source": [
    "frame['m']= frame.applymap(pdfM)[['theta']]\n",
    "frame['w']= frame.applymap(pdfW)[['theta']]"
   ]
  },
  {
   "cell_type": "code",
   "execution_count": 64,
   "metadata": {
    "collapsed": true
   },
   "outputs": [],
   "source": [
    "m= frame['m']\n",
    "w= frame['w']"
   ]
  },
  {
   "cell_type": "code",
   "execution_count": 65,
   "metadata": {
    "collapsed": true
   },
   "outputs": [],
   "source": [
    "m_total= frame['m'].sum()*step\n",
    "w_total= frame['w'].sum()*step"
   ]
  },
  {
   "cell_type": "code",
   "execution_count": 66,
   "metadata": {
    "collapsed": true
   },
   "outputs": [],
   "source": [
    "m_wing= (1-m_total)/2\n",
    "w_wing= (1-w_total)/2"
   ]
  },
  {
   "cell_type": "code",
   "execution_count": 67,
   "metadata": {
    "collapsed": false
   },
   "outputs": [
    {
     "data": {
      "image/png": "[encoded data removed]",
      "text/plain": [
       "<matplotlib.figure.Figure at 0x3adef555f8>"
      ]
     },
     "metadata": {},
     "output_type": "display_data"
    },
    {
     "data": {
      "image/png": "[encoded data removed]",
      "text/plain": [
       "<matplotlib.figure.Figure at 0x3ae04ced68>"
      ]
     },
     "metadata": {},
     "output_type": "display_data"
    },
    {
     "data": {
      "image/png": "[encoded data removed]",
      "text/plain": [
       "<matplotlib.figure.Figure at 0x3ae08fd908>"
      ]
     },
     "metadata": {},
     "output_type": "display_data"
    },
    {
     "data": {
      "image/png": "[encoded data removed]",
      "text/plain": [
       "<matplotlib.figure.Figure at 0x3ae0acb0f0>"
      ]
     },
     "metadata": {},
     "output_type": "display_data"
    }
   ],
   "source": [
    "plot1(), plot2(), plot3(), plot4()\n",
    "pass"
   ]
  },
  {
   "cell_type": "code",
   "execution_count": null,
   "metadata": {
    "collapsed": true
   },
   "outputs": [],
   "source": []
  }
 ],
 "metadata": {
  "kernelspec": {
   "display_name": "py36",
   "language": "python",
   "name": "py36"
  },
  "language_info": {
   "codemirror_mode": {
    "name": "ipython",
    "version": 3
   },
   "file_extension": ".py",
   "mimetype": "text/x-python",
   "name": "python",
   "nbconvert_exporter": "python",
   "pygments_lexer": "ipython3",
   "version": "3.6.0"
  }
 },
 "nbformat": 4,
 "nbformat_minor": 0
}
