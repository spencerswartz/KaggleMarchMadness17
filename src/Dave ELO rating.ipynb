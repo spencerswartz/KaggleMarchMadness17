{
 "cells": [
  {
   "cell_type": "code",
   "execution_count": 1,
   "metadata": {
    "collapsed": false
   },
   "outputs": [],
   "source": [
    "#import graphlab\n",
    "import pandas as pd\n",
    "import numpy as np\n",
    "import glob\n",
    "import math\n",
    "import random\n",
    "import matplotlib.pyplot as plt\n",
    "%matplotlib inline"
   ]
  },
  {
   "cell_type": "code",
   "execution_count": 2,
   "metadata": {
    "collapsed": false
   },
   "outputs": [
    {
     "data": {
      "text/plain": [
       "['../data\\\\RegularSeasonCompactResults.csv',\n",
       " '../data\\\\RegularSeasonDetailedResults.csv',\n",
       " '../data\\\\sample_submission.csv',\n",
       " '../data\\\\Seasons.csv',\n",
       " '../data\\\\Teams.csv',\n",
       " '../data\\\\TourneyCompactResults.csv',\n",
       " '../data\\\\TourneyDetailedResults.csv',\n",
       " '../data\\\\TourneySeeds.csv',\n",
       " '../data\\\\TourneySlots.csv']"
      ]
     },
     "execution_count": 2,
     "metadata": {},
     "output_type": "execute_result"
    }
   ],
   "source": [
    "fileList= glob.glob(\"../data/*.*\")\n",
    "fileList"
   ]
  },
  {
   "cell_type": "code",
   "execution_count": 3,
   "metadata": {
    "collapsed": true
   },
   "outputs": [],
   "source": [
    "def calcExp(rating_1,rating_2):\n",
    "    return (1.0 / (1.0 + pow(10, ((rating_2 - rating_1) / 400))))\n",
    "\n",
    "def modifyRating(rating, expected, actual, kfactor):\n",
    "    calc = (kfactor * (actual - expected))\n",
    "    return calc"
   ]
  },
  {
   "cell_type": "code",
   "execution_count": 4,
   "metadata": {
    "collapsed": false
   },
   "outputs": [],
   "source": [
    "def getTeamFrame(i):\n",
    "    qq= seasonTeams_orig.set_index(np.repeat(i,len(seasonTeams_orig)), append=True)\n",
    "    qq['rating']= np.NAN\n",
    "    qq.index.names= ['Team_Id','round']\n",
    "    qq.head(4)\n",
    "    return qq"
   ]
  },
  {
   "cell_type": "markdown",
   "metadata": {},
   "source": [
    "# Read in Tournament Seeds"
   ]
  },
  {
   "cell_type": "code",
   "execution_count": 5,
   "metadata": {
    "collapsed": false
   },
   "outputs": [],
   "source": [
    "#column_type_hints=[long,long,long,long,long,long,str,long]\n",
    "#tSeed= graphlab.SFrame.read_csv(fileList[7], verbose=False)\n",
    "tSeed= pd.read_csv(fileList[7], verbose=False)"
   ]
  },
  {
   "cell_type": "markdown",
   "metadata": {},
   "source": [
    "# Read in the `Compact Tournament` Game Data"
   ]
  },
  {
   "cell_type": "code",
   "execution_count": 6,
   "metadata": {
    "collapsed": false
   },
   "outputs": [],
   "source": [
    "column_type_hints=[long,long,long,long,long,long,str,long]\n",
    "#tscr= graphlab.SFrame.read_csv(fileList[5], verbose=False)\n",
    "tscr= pd.read_csv(fileList[5], verbose=False)"
   ]
  },
  {
   "cell_type": "markdown",
   "metadata": {},
   "source": [
    "# Read in the Compact Game Data"
   ]
  },
  {
   "cell_type": "code",
   "execution_count": 7,
   "metadata": {
    "collapsed": false
   },
   "outputs": [],
   "source": [
    "column_type_hints=[long,long,long,long,long,long,str,long]\n",
    "#rscr= graphlab.SFrame.read_csv(fileList[0], verbose=False)\n",
    "rscr= pd.read_csv(fileList[0], verbose=False)"
   ]
  },
  {
   "cell_type": "code",
   "execution_count": 8,
   "metadata": {
    "collapsed": false
   },
   "outputs": [],
   "source": [
    "column_type_hints=[long,str]\n",
    "#teams= graphlab.SFrame.read_csv(fileList[4], verbose=False)\n",
    "teams= pd.read_csv(fileList[4], verbose=False)"
   ]
  },
  {
   "cell_type": "code",
   "execution_count": 9,
   "metadata": {
    "collapsed": false
   },
   "outputs": [
    {
     "data": {
      "text/html": [
       "<div>\n",
       "<table border=\"1\" class=\"dataframe\">\n",
       "  <thead>\n",
       "    <tr style=\"text-align: right;\">\n",
       "      <th></th>\n",
       "      <th>Team_Id</th>\n",
       "      <th>Team_Name</th>\n",
       "    </tr>\n",
       "  </thead>\n",
       "  <tbody>\n",
       "    <tr>\n",
       "      <th>0</th>\n",
       "      <td>1101</td>\n",
       "      <td>Abilene Chr</td>\n",
       "    </tr>\n",
       "    <tr>\n",
       "      <th>1</th>\n",
       "      <td>1102</td>\n",
       "      <td>Air Force</td>\n",
       "    </tr>\n",
       "  </tbody>\n",
       "</table>\n",
       "</div>"
      ],
      "text/plain": [
       "   Team_Id    Team_Name\n",
       "0     1101  Abilene Chr\n",
       "1     1102    Air Force"
      ]
     },
     "execution_count": 9,
     "metadata": {},
     "output_type": "execute_result"
    }
   ],
   "source": [
    "teams.head(2)"
   ]
  },
  {
   "cell_type": "markdown",
   "metadata": {},
   "source": [
    "# Select a season to analyze"
   ]
  },
  {
   "cell_type": "code",
   "execution_count": 10,
   "metadata": {
    "collapsed": true
   },
   "outputs": [],
   "source": [
    "selectedSeason=1985"
   ]
  },
  {
   "cell_type": "markdown",
   "metadata": {},
   "source": [
    "### Filter the `GAMES` data to the selected Season"
   ]
  },
  {
   "cell_type": "code",
   "execution_count": 11,
   "metadata": {
    "collapsed": false
   },
   "outputs": [
    {
     "data": {
      "text/html": [
       "<div>\n",
       "<table border=\"1\" class=\"dataframe\">\n",
       "  <thead>\n",
       "    <tr style=\"text-align: right;\">\n",
       "      <th></th>\n",
       "      <th>gameID</th>\n",
       "      <th>Season</th>\n",
       "      <th>Daynum</th>\n",
       "      <th>Wteam</th>\n",
       "      <th>Wscore</th>\n",
       "      <th>Lteam</th>\n",
       "      <th>Lscore</th>\n",
       "      <th>Wloc</th>\n",
       "      <th>Numot</th>\n",
       "    </tr>\n",
       "  </thead>\n",
       "  <tbody>\n",
       "    <tr>\n",
       "      <th>0</th>\n",
       "      <td>0</td>\n",
       "      <td>1985</td>\n",
       "      <td>20</td>\n",
       "      <td>1228</td>\n",
       "      <td>81</td>\n",
       "      <td>1328</td>\n",
       "      <td>64</td>\n",
       "      <td>N</td>\n",
       "      <td>0</td>\n",
       "    </tr>\n",
       "    <tr>\n",
       "      <th>1</th>\n",
       "      <td>1</td>\n",
       "      <td>1985</td>\n",
       "      <td>25</td>\n",
       "      <td>1106</td>\n",
       "      <td>77</td>\n",
       "      <td>1354</td>\n",
       "      <td>70</td>\n",
       "      <td>H</td>\n",
       "      <td>0</td>\n",
       "    </tr>\n",
       "    <tr>\n",
       "      <th>2</th>\n",
       "      <td>2</td>\n",
       "      <td>1985</td>\n",
       "      <td>25</td>\n",
       "      <td>1112</td>\n",
       "      <td>63</td>\n",
       "      <td>1223</td>\n",
       "      <td>56</td>\n",
       "      <td>H</td>\n",
       "      <td>0</td>\n",
       "    </tr>\n",
       "    <tr>\n",
       "      <th>3</th>\n",
       "      <td>3</td>\n",
       "      <td>1985</td>\n",
       "      <td>25</td>\n",
       "      <td>1165</td>\n",
       "      <td>70</td>\n",
       "      <td>1432</td>\n",
       "      <td>54</td>\n",
       "      <td>H</td>\n",
       "      <td>0</td>\n",
       "    </tr>\n",
       "  </tbody>\n",
       "</table>\n",
       "</div>"
      ],
      "text/plain": [
       "   gameID  Season  Daynum  Wteam  Wscore  Lteam  Lscore Wloc  Numot\n",
       "0       0    1985      20   1228      81   1328      64    N      0\n",
       "1       1    1985      25   1106      77   1354      70    H      0\n",
       "2       2    1985      25   1112      63   1223      56    H      0\n",
       "3       3    1985      25   1165      70   1432      54    H      0"
      ]
     },
     "execution_count": 11,
     "metadata": {},
     "output_type": "execute_result"
    }
   ],
   "source": [
    "seasonData= rscr[rscr['Season']==selectedSeason]\n",
    "seasonData.sort_values(by=['Daynum','Wteam'])\n",
    "seasonData.reset_index(inplace=True)\n",
    "seasonData= seasonData.rename(columns={'index':'gameID'})\n",
    "seasonData.head(4)"
   ]
  },
  {
   "cell_type": "markdown",
   "metadata": {},
   "source": [
    "### Filter the `TEAMS` data to the selected Season"
   ]
  },
  {
   "cell_type": "code",
   "execution_count": 12,
   "metadata": {
    "collapsed": false
   },
   "outputs": [
    {
     "data": {
      "text/html": [
       "<div>\n",
       "<table border=\"1\" class=\"dataframe\">\n",
       "  <thead>\n",
       "    <tr style=\"text-align: right;\">\n",
       "      <th></th>\n",
       "      <th>Team_Id</th>\n",
       "      <th>Team_Name</th>\n",
       "    </tr>\n",
       "    <tr>\n",
       "      <th>Team_Id</th>\n",
       "      <th></th>\n",
       "      <th></th>\n",
       "    </tr>\n",
       "  </thead>\n",
       "  <tbody>\n",
       "    <tr>\n",
       "      <th>1102</th>\n",
       "      <td>1102</td>\n",
       "      <td>Air Force</td>\n",
       "    </tr>\n",
       "    <tr>\n",
       "      <th>1103</th>\n",
       "      <td>1103</td>\n",
       "      <td>Akron</td>\n",
       "    </tr>\n",
       "  </tbody>\n",
       "</table>\n",
       "</div>"
      ],
      "text/plain": [
       "         Team_Id  Team_Name\n",
       "Team_Id                    \n",
       "1102        1102  Air Force\n",
       "1103        1103      Akron"
      ]
     },
     "execution_count": 12,
     "metadata": {},
     "output_type": "execute_result"
    }
   ],
   "source": [
    "w= seasonData['Wteam'].unique()\n",
    "l= seasonData['Lteam'].unique()\n",
    "seasonTeams= np.append(w,l)\n",
    "seasonTeams= pd.Series(list(set(seasonTeams)), name='team')\n",
    "seasonTeams= seasonTeams.to_frame()\n",
    "seasonTeams= teams.merge(seasonTeams, left_on='Team_Id', right_on='team')[teams.columns]\n",
    "seasonTeams.set_index('Team_Id', drop=False, inplace=True)\n",
    "seasonTeams_orig= seasonTeams.copy()\n",
    "seasonTeams.head(2)"
   ]
  },
  {
   "cell_type": "markdown",
   "metadata": {},
   "source": [
    "### Create a `TALL` version of the games data"
   ]
  },
  {
   "cell_type": "code",
   "execution_count": 13,
   "metadata": {
    "collapsed": false
   },
   "outputs": [
    {
     "data": {
      "text/html": [
       "<div>\n",
       "<table border=\"1\" class=\"dataframe\">\n",
       "  <thead>\n",
       "    <tr style=\"text-align: right;\">\n",
       "      <th></th>\n",
       "      <th></th>\n",
       "      <th>teamGameID</th>\n",
       "      <th>gameID</th>\n",
       "      <th>Season</th>\n",
       "      <th>Daynum</th>\n",
       "      <th>team</th>\n",
       "      <th>outcome</th>\n",
       "    </tr>\n",
       "    <tr>\n",
       "      <th>gameID</th>\n",
       "      <th>outcome</th>\n",
       "      <th></th>\n",
       "      <th></th>\n",
       "      <th></th>\n",
       "      <th></th>\n",
       "      <th></th>\n",
       "      <th></th>\n",
       "    </tr>\n",
       "  </thead>\n",
       "  <tbody>\n",
       "    <tr>\n",
       "      <th rowspan=\"2\" valign=\"top\">0</th>\n",
       "      <th>1</th>\n",
       "      <td>0</td>\n",
       "      <td>0</td>\n",
       "      <td>1985</td>\n",
       "      <td>20</td>\n",
       "      <td>1228</td>\n",
       "      <td>1</td>\n",
       "    </tr>\n",
       "    <tr>\n",
       "      <th>0</th>\n",
       "      <td>1</td>\n",
       "      <td>0</td>\n",
       "      <td>1985</td>\n",
       "      <td>20</td>\n",
       "      <td>1328</td>\n",
       "      <td>0</td>\n",
       "    </tr>\n",
       "    <tr>\n",
       "      <th rowspan=\"2\" valign=\"top\">1</th>\n",
       "      <th>1</th>\n",
       "      <td>2</td>\n",
       "      <td>1</td>\n",
       "      <td>1985</td>\n",
       "      <td>25</td>\n",
       "      <td>1106</td>\n",
       "      <td>1</td>\n",
       "    </tr>\n",
       "    <tr>\n",
       "      <th>0</th>\n",
       "      <td>3</td>\n",
       "      <td>1</td>\n",
       "      <td>1985</td>\n",
       "      <td>25</td>\n",
       "      <td>1354</td>\n",
       "      <td>0</td>\n",
       "    </tr>\n",
       "  </tbody>\n",
       "</table>\n",
       "</div>"
      ],
      "text/plain": [
       "                teamGameID  gameID  Season  Daynum  team  outcome\n",
       "gameID outcome                                                   \n",
       "0      1                 0       0    1985      20  1228        1\n",
       "       0                 1       0    1985      20  1328        0\n",
       "1      1                 2       1    1985      25  1106        1\n",
       "       0                 3       1    1985      25  1354        0"
      ]
     },
     "execution_count": 13,
     "metadata": {},
     "output_type": "execute_result"
    }
   ],
   "source": [
    "w= seasonData[['gameID','Season','Daynum','Wteam']].rename(columns={'Wteam':'team'})\n",
    "w['outcome']= 1\n",
    "l= seasonData[['gameID','Season','Daynum','Lteam']].rename(columns={'Lteam':'team'})\n",
    "l['outcome']= 0\n",
    "\n",
    "seasonDataTeam= w.append(l).sort_values(by=['gameID','team']).reset_index(drop=True).reset_index().rename(columns={'index':'teamGameID'})\n",
    "seasonDataTeam= seasonDataTeam.set_index(['gameID','outcome'],drop=False)\n",
    "seasonDataTeam_orig= seasonDataTeam.copy()\n",
    "seasonDataTeam.head(4)"
   ]
  },
  {
   "cell_type": "code",
   "execution_count": 14,
   "metadata": {
    "collapsed": false
   },
   "outputs": [],
   "source": [
    "seasonTeams['rating']= 0.\n",
    "seasonData.sort_values(by=['Daynum','Wteam'], inplace=True)\n",
    "for i in range(12):\n",
    "    seasonTeams['games']= 0\n",
    "    seasonTeams['wins']= 0\n",
    "    \n",
    "    #store last round\n",
    "    seasonTeams['rating_'+str(i)]= seasonTeams['rating']\n",
    "\n",
    "    #Shrinkage\n",
    "    seasonTeams['rating']= (seasonTeams['rating']-0)/2+0\n",
    "    \n",
    "\n",
    "\n",
    "    for loc in range(len(seasonData)):\n",
    "\n",
    "        x= seasonData.iloc[loc]\n",
    "\n",
    "        rA= seasonTeams.ix[x['Wteam']]['rating']\n",
    "        rB= seasonTeams.ix[x['Lteam']]['rating']\n",
    "        eA= calcExp(rA,rB)\n",
    "        eB= 1-eA\n",
    "        rA_n= modifyRating(rA, eA, 1, max(50-10*i,5))\n",
    "        rB_n= modifyRating(rB, eB, 0, max(50-10*i,5))\n",
    "        if rA_n != -rB_n:\n",
    "            print(rA,rB,eA,eB,rA_n,rB_n)\n",
    "\n",
    "        seasonTeams.loc[x['Wteam'],('rating')]+= rA_n\n",
    "        seasonTeams.loc[x['Wteam'],('games')]+= 1\n",
    "        seasonTeams.loc[x['Wteam'],('wins')]+= 1\n",
    "        seasonDataTeam.loc[(x['gameID'],1),('rating_pre')]= rA\n",
    "        seasonDataTeam.loc[(x['gameID'],1),('rating_post')]= rA+rA_n\n",
    "        \n",
    "        seasonTeams.loc[x['Lteam'],('rating')]+= rB_n\n",
    "        seasonTeams.loc[x['Lteam'],('games')]+= 1\n",
    "        seasonDataTeam.loc[(x['gameID'],0),('rating_pre')]= rB\n",
    "        seasonDataTeam.loc[(x['gameID'],0),('rating_post')]= rB+rB_n"
   ]
  },
  {
   "cell_type": "code",
   "execution_count": 15,
   "metadata": {
    "collapsed": false
   },
   "outputs": [
    {
     "data": {
      "text/html": [
       "<div>\n",
       "<table border=\"1\" class=\"dataframe\">\n",
       "  <thead>\n",
       "    <tr style=\"text-align: right;\">\n",
       "      <th></th>\n",
       "      <th>Team_Id</th>\n",
       "      <th>Team_Name</th>\n",
       "      <th>rating</th>\n",
       "      <th>games</th>\n",
       "      <th>wins</th>\n",
       "      <th>rating_0</th>\n",
       "      <th>rating_1</th>\n",
       "      <th>rating_2</th>\n",
       "      <th>rating_3</th>\n",
       "      <th>rating_4</th>\n",
       "      <th>rating_5</th>\n",
       "      <th>rating_6</th>\n",
       "      <th>rating_7</th>\n",
       "      <th>rating_8</th>\n",
       "      <th>rating_9</th>\n",
       "      <th>rating_10</th>\n",
       "      <th>rating_11</th>\n",
       "    </tr>\n",
       "    <tr>\n",
       "      <th>Team_Id</th>\n",
       "      <th></th>\n",
       "      <th></th>\n",
       "      <th></th>\n",
       "      <th></th>\n",
       "      <th></th>\n",
       "      <th></th>\n",
       "      <th></th>\n",
       "      <th></th>\n",
       "      <th></th>\n",
       "      <th></th>\n",
       "      <th></th>\n",
       "      <th></th>\n",
       "      <th></th>\n",
       "      <th></th>\n",
       "      <th></th>\n",
       "      <th></th>\n",
       "      <th></th>\n",
       "    </tr>\n",
       "  </thead>\n",
       "  <tbody>\n",
       "    <tr>\n",
       "      <th>1385</th>\n",
       "      <td>1385</td>\n",
       "      <td>St John's</td>\n",
       "      <td>96.603366</td>\n",
       "      <td>30</td>\n",
       "      <td>27</td>\n",
       "      <td>0.0</td>\n",
       "      <td>336.289074</td>\n",
       "      <td>361.562345</td>\n",
       "      <td>332.210810</td>\n",
       "      <td>280.764779</td>\n",
       "      <td>208.757078</td>\n",
       "      <td>144.993507</td>\n",
       "      <td>117.400102</td>\n",
       "      <td>105.461524</td>\n",
       "      <td>100.281072</td>\n",
       "      <td>98.024312</td>\n",
       "      <td>97.037064</td>\n",
       "    </tr>\n",
       "    <tr>\n",
       "      <th>1207</th>\n",
       "      <td>1207</td>\n",
       "      <td>Georgetown</td>\n",
       "      <td>96.134753</td>\n",
       "      <td>27</td>\n",
       "      <td>25</td>\n",
       "      <td>0.0</td>\n",
       "      <td>387.969596</td>\n",
       "      <td>406.539420</td>\n",
       "      <td>365.311357</td>\n",
       "      <td>301.745180</td>\n",
       "      <td>219.424515</td>\n",
       "      <td>149.775928</td>\n",
       "      <td>119.331055</td>\n",
       "      <td>106.059412</td>\n",
       "      <td>100.268062</td>\n",
       "      <td>97.734898</td>\n",
       "      <td>96.623692</td>\n",
       "    </tr>\n",
       "    <tr>\n",
       "      <th>1276</th>\n",
       "      <td>1276</td>\n",
       "      <td>Michigan</td>\n",
       "      <td>91.683013</td>\n",
       "      <td>28</td>\n",
       "      <td>25</td>\n",
       "      <td>0.0</td>\n",
       "      <td>361.720639</td>\n",
       "      <td>381.952925</td>\n",
       "      <td>345.012930</td>\n",
       "      <td>286.217942</td>\n",
       "      <td>208.853603</td>\n",
       "      <td>142.902369</td>\n",
       "      <td>114.005282</td>\n",
       "      <td>101.326022</td>\n",
       "      <td>95.741885</td>\n",
       "      <td>93.271471</td>\n",
       "      <td>92.173401</td>\n",
       "    </tr>\n",
       "    <tr>\n",
       "      <th>1424</th>\n",
       "      <td>1424</td>\n",
       "      <td>UNLV</td>\n",
       "      <td>90.924548</td>\n",
       "      <td>30</td>\n",
       "      <td>27</td>\n",
       "      <td>0.0</td>\n",
       "      <td>292.108629</td>\n",
       "      <td>307.709035</td>\n",
       "      <td>281.367511</td>\n",
       "      <td>239.420008</td>\n",
       "      <td>180.701812</td>\n",
       "      <td>127.859070</td>\n",
       "      <td>105.998618</td>\n",
       "      <td>97.011141</td>\n",
       "      <td>93.321058</td>\n",
       "      <td>91.805155</td>\n",
       "      <td>91.181554</td>\n",
       "    </tr>\n",
       "  </tbody>\n",
       "</table>\n",
       "</div>"
      ],
      "text/plain": [
       "         Team_Id   Team_Name     rating  games  wins  rating_0    rating_1  \\\n",
       "Team_Id                                                                      \n",
       "1385        1385   St John's  96.603366     30    27       0.0  336.289074   \n",
       "1207        1207  Georgetown  96.134753     27    25       0.0  387.969596   \n",
       "1276        1276    Michigan  91.683013     28    25       0.0  361.720639   \n",
       "1424        1424        UNLV  90.924548     30    27       0.0  292.108629   \n",
       "\n",
       "           rating_2    rating_3    rating_4    rating_5    rating_6  \\\n",
       "Team_Id                                                               \n",
       "1385     361.562345  332.210810  280.764779  208.757078  144.993507   \n",
       "1207     406.539420  365.311357  301.745180  219.424515  149.775928   \n",
       "1276     381.952925  345.012930  286.217942  208.853603  142.902369   \n",
       "1424     307.709035  281.367511  239.420008  180.701812  127.859070   \n",
       "\n",
       "           rating_7    rating_8    rating_9  rating_10  rating_11  \n",
       "Team_Id                                                            \n",
       "1385     117.400102  105.461524  100.281072  98.024312  97.037064  \n",
       "1207     119.331055  106.059412  100.268062  97.734898  96.623692  \n",
       "1276     114.005282  101.326022   95.741885  93.271471  92.173401  \n",
       "1424     105.998618   97.011141   93.321058  91.805155  91.181554  "
      ]
     },
     "execution_count": 15,
     "metadata": {},
     "output_type": "execute_result"
    }
   ],
   "source": [
    "seasonTeams.sort_values(by='rating',ascending=False,inplace=True)\n",
    "seasonTeams.head(4)"
   ]
  },
  {
   "cell_type": "code",
   "execution_count": 16,
   "metadata": {
    "collapsed": false
   },
   "outputs": [
    {
     "data": {
      "text/html": [
       "<div>\n",
       "<table border=\"1\" class=\"dataframe\">\n",
       "  <thead>\n",
       "    <tr style=\"text-align: right;\">\n",
       "      <th></th>\n",
       "      <th>index</th>\n",
       "      <th>Team_Id</th>\n",
       "      <th>Team_Name</th>\n",
       "      <th>rating</th>\n",
       "      <th>games</th>\n",
       "      <th>wins</th>\n",
       "      <th>rating_0</th>\n",
       "      <th>rating_1</th>\n",
       "      <th>rating_2</th>\n",
       "      <th>rating_3</th>\n",
       "      <th>rating_4</th>\n",
       "      <th>rating_5</th>\n",
       "      <th>rating_6</th>\n",
       "      <th>rating_7</th>\n",
       "      <th>rating_8</th>\n",
       "      <th>rating_9</th>\n",
       "      <th>rating_10</th>\n",
       "      <th>rating_11</th>\n",
       "    </tr>\n",
       "  </thead>\n",
       "  <tbody>\n",
       "    <tr>\n",
       "      <th>0</th>\n",
       "      <td>0</td>\n",
       "      <td>1385</td>\n",
       "      <td>St John's</td>\n",
       "      <td>96.603366</td>\n",
       "      <td>30</td>\n",
       "      <td>27</td>\n",
       "      <td>0.0</td>\n",
       "      <td>336.289074</td>\n",
       "      <td>361.562345</td>\n",
       "      <td>332.210810</td>\n",
       "      <td>280.764779</td>\n",
       "      <td>208.757078</td>\n",
       "      <td>144.993507</td>\n",
       "      <td>117.400102</td>\n",
       "      <td>105.461524</td>\n",
       "      <td>100.281072</td>\n",
       "      <td>98.024312</td>\n",
       "      <td>97.037064</td>\n",
       "    </tr>\n",
       "    <tr>\n",
       "      <th>1</th>\n",
       "      <td>1</td>\n",
       "      <td>1207</td>\n",
       "      <td>Georgetown</td>\n",
       "      <td>96.134753</td>\n",
       "      <td>27</td>\n",
       "      <td>25</td>\n",
       "      <td>0.0</td>\n",
       "      <td>387.969596</td>\n",
       "      <td>406.539420</td>\n",
       "      <td>365.311357</td>\n",
       "      <td>301.745180</td>\n",
       "      <td>219.424515</td>\n",
       "      <td>149.775928</td>\n",
       "      <td>119.331055</td>\n",
       "      <td>106.059412</td>\n",
       "      <td>100.268062</td>\n",
       "      <td>97.734898</td>\n",
       "      <td>96.623692</td>\n",
       "    </tr>\n",
       "    <tr>\n",
       "      <th>2</th>\n",
       "      <td>2</td>\n",
       "      <td>1276</td>\n",
       "      <td>Michigan</td>\n",
       "      <td>91.683013</td>\n",
       "      <td>28</td>\n",
       "      <td>25</td>\n",
       "      <td>0.0</td>\n",
       "      <td>361.720639</td>\n",
       "      <td>381.952925</td>\n",
       "      <td>345.012930</td>\n",
       "      <td>286.217942</td>\n",
       "      <td>208.853603</td>\n",
       "      <td>142.902369</td>\n",
       "      <td>114.005282</td>\n",
       "      <td>101.326022</td>\n",
       "      <td>95.741885</td>\n",
       "      <td>93.271471</td>\n",
       "      <td>92.173401</td>\n",
       "    </tr>\n",
       "    <tr>\n",
       "      <th>3</th>\n",
       "      <td>3</td>\n",
       "      <td>1424</td>\n",
       "      <td>UNLV</td>\n",
       "      <td>90.924548</td>\n",
       "      <td>30</td>\n",
       "      <td>27</td>\n",
       "      <td>0.0</td>\n",
       "      <td>292.108629</td>\n",
       "      <td>307.709035</td>\n",
       "      <td>281.367511</td>\n",
       "      <td>239.420008</td>\n",
       "      <td>180.701812</td>\n",
       "      <td>127.859070</td>\n",
       "      <td>105.998618</td>\n",
       "      <td>97.011141</td>\n",
       "      <td>93.321058</td>\n",
       "      <td>91.805155</td>\n",
       "      <td>91.181554</td>\n",
       "    </tr>\n",
       "  </tbody>\n",
       "</table>\n",
       "</div>"
      ],
      "text/plain": [
       "   index  Team_Id   Team_Name     rating  games  wins  rating_0    rating_1  \\\n",
       "0      0     1385   St John's  96.603366     30    27       0.0  336.289074   \n",
       "1      1     1207  Georgetown  96.134753     27    25       0.0  387.969596   \n",
       "2      2     1276    Michigan  91.683013     28    25       0.0  361.720639   \n",
       "3      3     1424        UNLV  90.924548     30    27       0.0  292.108629   \n",
       "\n",
       "     rating_2    rating_3    rating_4    rating_5    rating_6    rating_7  \\\n",
       "0  361.562345  332.210810  280.764779  208.757078  144.993507  117.400102   \n",
       "1  406.539420  365.311357  301.745180  219.424515  149.775928  119.331055   \n",
       "2  381.952925  345.012930  286.217942  208.853603  142.902369  114.005282   \n",
       "3  307.709035  281.367511  239.420008  180.701812  127.859070  105.998618   \n",
       "\n",
       "     rating_8    rating_9  rating_10  rating_11  \n",
       "0  105.461524  100.281072  98.024312  97.037064  \n",
       "1  106.059412  100.268062  97.734898  96.623692  \n",
       "2  101.326022   95.741885  93.271471  92.173401  \n",
       "3   97.011141   93.321058  91.805155  91.181554  "
      ]
     },
     "execution_count": 16,
     "metadata": {},
     "output_type": "execute_result"
    }
   ],
   "source": [
    "seasonTeams.reset_index(drop=True).reset_index().head(4)"
   ]
  },
  {
   "cell_type": "code",
   "execution_count": 17,
   "metadata": {
    "collapsed": false
   },
   "outputs": [
    {
     "data": {
      "text/html": [
       "<div>\n",
       "<table border=\"1\" class=\"dataframe\">\n",
       "  <thead>\n",
       "    <tr style=\"text-align: right;\">\n",
       "      <th></th>\n",
       "      <th>Season</th>\n",
       "      <th>Seed</th>\n",
       "      <th>Team</th>\n",
       "    </tr>\n",
       "  </thead>\n",
       "  <tbody>\n",
       "    <tr>\n",
       "      <th>0</th>\n",
       "      <td>1985</td>\n",
       "      <td>W01</td>\n",
       "      <td>1207</td>\n",
       "    </tr>\n",
       "    <tr>\n",
       "      <th>1</th>\n",
       "      <td>1985</td>\n",
       "      <td>W02</td>\n",
       "      <td>1210</td>\n",
       "    </tr>\n",
       "    <tr>\n",
       "      <th>2</th>\n",
       "      <td>1985</td>\n",
       "      <td>W03</td>\n",
       "      <td>1228</td>\n",
       "    </tr>\n",
       "    <tr>\n",
       "      <th>3</th>\n",
       "      <td>1985</td>\n",
       "      <td>W04</td>\n",
       "      <td>1260</td>\n",
       "    </tr>\n",
       "  </tbody>\n",
       "</table>\n",
       "</div>"
      ],
      "text/plain": [
       "   Season Seed  Team\n",
       "0    1985  W01  1207\n",
       "1    1985  W02  1210\n",
       "2    1985  W03  1228\n",
       "3    1985  W04  1260"
      ]
     },
     "execution_count": 17,
     "metadata": {},
     "output_type": "execute_result"
    }
   ],
   "source": [
    "seasonSeeds= tSeed[tSeed['Season']==1985]\n",
    "seasonSeeds.head(4)"
   ]
  },
  {
   "cell_type": "code",
   "execution_count": 18,
   "metadata": {
    "collapsed": false
   },
   "outputs": [
    {
     "data": {
      "text/html": [
       "<div>\n",
       "<table border=\"1\" class=\"dataframe\">\n",
       "  <thead>\n",
       "    <tr style=\"text-align: right;\">\n",
       "      <th></th>\n",
       "      <th>Team</th>\n",
       "      <th>Team_Name</th>\n",
       "      <th>rating</th>\n",
       "      <th>games</th>\n",
       "      <th>wins</th>\n",
       "      <th>rating_0</th>\n",
       "      <th>rating_1</th>\n",
       "      <th>rating_2</th>\n",
       "      <th>rating_3</th>\n",
       "      <th>rating_4</th>\n",
       "      <th>rating_5</th>\n",
       "      <th>rating_6</th>\n",
       "      <th>rating_7</th>\n",
       "      <th>rating_8</th>\n",
       "      <th>rating_9</th>\n",
       "      <th>rating_10</th>\n",
       "      <th>rating_11</th>\n",
       "      <th>Seed</th>\n",
       "    </tr>\n",
       "  </thead>\n",
       "  <tbody>\n",
       "    <tr>\n",
       "      <th>0</th>\n",
       "      <td>1207</td>\n",
       "      <td>Georgetown</td>\n",
       "      <td>96.134753</td>\n",
       "      <td>27</td>\n",
       "      <td>25</td>\n",
       "      <td>0.0</td>\n",
       "      <td>387.969596</td>\n",
       "      <td>406.539420</td>\n",
       "      <td>365.311357</td>\n",
       "      <td>301.745180</td>\n",
       "      <td>219.424515</td>\n",
       "      <td>149.775928</td>\n",
       "      <td>119.331055</td>\n",
       "      <td>106.059412</td>\n",
       "      <td>100.268062</td>\n",
       "      <td>97.734898</td>\n",
       "      <td>96.623692</td>\n",
       "      <td>W01</td>\n",
       "    </tr>\n",
       "    <tr>\n",
       "      <th>1</th>\n",
       "      <td>1210</td>\n",
       "      <td>Georgia Tech</td>\n",
       "      <td>70.946808</td>\n",
       "      <td>31</td>\n",
       "      <td>24</td>\n",
       "      <td>0.0</td>\n",
       "      <td>278.748660</td>\n",
       "      <td>295.068189</td>\n",
       "      <td>266.273933</td>\n",
       "      <td>220.778353</td>\n",
       "      <td>161.207911</td>\n",
       "      <td>110.383800</td>\n",
       "      <td>88.092943</td>\n",
       "      <td>78.324172</td>\n",
       "      <td>74.035752</td>\n",
       "      <td>72.148385</td>\n",
       "      <td>71.315436</td>\n",
       "      <td>W02</td>\n",
       "    </tr>\n",
       "    <tr>\n",
       "      <th>2</th>\n",
       "      <td>1228</td>\n",
       "      <td>Illinois</td>\n",
       "      <td>61.832758</td>\n",
       "      <td>31</td>\n",
       "      <td>23</td>\n",
       "      <td>0.0</td>\n",
       "      <td>228.646965</td>\n",
       "      <td>249.812797</td>\n",
       "      <td>229.216013</td>\n",
       "      <td>191.980801</td>\n",
       "      <td>141.202550</td>\n",
       "      <td>97.011645</td>\n",
       "      <td>77.386669</td>\n",
       "      <td>68.648190</td>\n",
       "      <td>64.740450</td>\n",
       "      <td>62.984716</td>\n",
       "      <td>62.192155</td>\n",
       "      <td>W03</td>\n",
       "    </tr>\n",
       "    <tr>\n",
       "      <th>3</th>\n",
       "      <td>1260</td>\n",
       "      <td>Loyola-Chicago</td>\n",
       "      <td>78.541146</td>\n",
       "      <td>30</td>\n",
       "      <td>25</td>\n",
       "      <td>0.0</td>\n",
       "      <td>289.634569</td>\n",
       "      <td>298.523266</td>\n",
       "      <td>268.864011</td>\n",
       "      <td>224.551918</td>\n",
       "      <td>165.951168</td>\n",
       "      <td>115.357757</td>\n",
       "      <td>94.021901</td>\n",
       "      <td>85.010474</td>\n",
       "      <td>81.184852</td>\n",
       "      <td>79.550044</td>\n",
       "      <td>78.846352</td>\n",
       "      <td>W04</td>\n",
       "    </tr>\n",
       "  </tbody>\n",
       "</table>\n",
       "</div>"
      ],
      "text/plain": [
       "   Team       Team_Name     rating  games  wins  rating_0    rating_1  \\\n",
       "0  1207      Georgetown  96.134753     27    25       0.0  387.969596   \n",
       "1  1210    Georgia Tech  70.946808     31    24       0.0  278.748660   \n",
       "2  1228        Illinois  61.832758     31    23       0.0  228.646965   \n",
       "3  1260  Loyola-Chicago  78.541146     30    25       0.0  289.634569   \n",
       "\n",
       "     rating_2    rating_3    rating_4    rating_5    rating_6    rating_7  \\\n",
       "0  406.539420  365.311357  301.745180  219.424515  149.775928  119.331055   \n",
       "1  295.068189  266.273933  220.778353  161.207911  110.383800   88.092943   \n",
       "2  249.812797  229.216013  191.980801  141.202550   97.011645   77.386669   \n",
       "3  298.523266  268.864011  224.551918  165.951168  115.357757   94.021901   \n",
       "\n",
       "     rating_8    rating_9  rating_10  rating_11 Seed  \n",
       "0  106.059412  100.268062  97.734898  96.623692  W01  \n",
       "1   78.324172   74.035752  72.148385  71.315436  W02  \n",
       "2   68.648190   64.740450  62.984716  62.192155  W03  \n",
       "3   85.010474   81.184852  79.550044  78.846352  W04  "
      ]
     },
     "execution_count": 18,
     "metadata": {},
     "output_type": "execute_result"
    }
   ],
   "source": [
    "seasonTeamsOut= seasonSeeds.merge(seasonTeams, how='outer', indicator=True, left_on=['Team'], right_on=['Team_Id'])[list(seasonTeams.columns)+['Seed']]\n",
    "seasonTeamsOut= seasonTeamsOut.rename(columns={'Team_Id':'Team'})\n",
    "seasonTeamsOut.head(4)"
   ]
  },
  {
   "cell_type": "code",
   "execution_count": 19,
   "metadata": {
    "collapsed": true
   },
   "outputs": [],
   "source": [
    "seasonTeamsOut.to_csv('../ELO_seasonTeams.csv')\n",
    "seasonDataTeam.to_csv('../ELO_seasonDataTeam.csv')"
   ]
  },
  {
   "cell_type": "code",
   "execution_count": 20,
   "metadata": {
    "collapsed": false
   },
   "outputs": [
    {
     "ename": "NameError",
     "evalue": "name 'lkajsdflkjs' is not defined",
     "output_type": "error",
     "traceback": [
      "\u001b[1;31m---------------------------------------------------------------------------\u001b[0m",
      "\u001b[1;31mNameError\u001b[0m                                 Traceback (most recent call last)",
      "\u001b[1;32m<ipython-input-20-f5753cd29799>\u001b[0m in \u001b[0;36m<module>\u001b[1;34m()\u001b[0m\n\u001b[1;32m----> 1\u001b[1;33m \u001b[0mlkajsdflkjs\u001b[0m\u001b[1;33m\u001b[0m\u001b[0m\n\u001b[0m",
      "\u001b[1;31mNameError\u001b[0m: name 'lkajsdflkjs' is not defined"
     ]
    }
   ],
   "source": [
    "lkajsdflkjs"
   ]
  },
  {
   "cell_type": "code",
   "execution_count": null,
   "metadata": {
    "collapsed": false
   },
   "outputs": [],
   "source": [
    "plt.plot(seasonTeams.sort_values(by='rating').reset_index(drop=True).index,seasonTeams.sort_values(by='rating')['rating'],'-')\n",
    "plt.plot(seasonTeams.sort_values(by='rating_0').reset_index(drop=True).index,seasonTeams.sort_values(by='rating_0')['rating_0'],'-')\n",
    "#plt.plot(seasonTeams.sort_values(by='rating_1').reset_index(drop=True).index,seasonTeams.sort_values(by='rating_1')['rating_1'],'-')\n",
    "#plt.plot(seasonTeams.sort_values(by='rating_2').reset_index(drop=True).index,seasonTeams.sort_values(by='rating_2')['rating_2'],'-')\n",
    "#plt.plot(seasonTeams.sort_values(by='rating_3').reset_index(drop=True).index,seasonTeams.sort_values(by='rating_3')['rating_3'],'-')\n",
    "#plt.plot(seasonTeams.sort_values(by='rating_4').reset_index(drop=True).index,seasonTeams.sort_values(by='rating_4')['rating_4'],'-')"
   ]
  },
  {
   "cell_type": "code",
   "execution_count": null,
   "metadata": {
    "collapsed": false
   },
   "outputs": [],
   "source": [
    "plt.plot(seasonTeams['Team_Id'],seasonTeams['rating'],'.')\n",
    "plt.plot(seasonTeams['Team_Id'],seasonTeams['rating_0'],'.')\n",
    "#plt.plot(seasonTeams['Team_Id'],seasonTeams['rating_1'],'.')\n",
    "#plt.plot(seasonTeams['Team_Id'],seasonTeams['rating_2'],'.')\n",
    "#plt.plot(seasonTeams['Team_Id'],seasonTeams['rating_3'],'.')\n",
    "#plt.plot(seasonTeams['Team_Id'],seasonTeams['rating_4'],'.')"
   ]
  },
  {
   "cell_type": "code",
   "execution_count": null,
   "metadata": {
    "collapsed": false
   },
   "outputs": [],
   "source": [
    "w= seasonTeams.sort_values(by='rating')['Team_Id'][:10]\n",
    "l= seasonTeams.sort_values(by='rating', ascending=False)['Team_Id'][:10]\n",
    "for i,t in enumerate(w.append(l)):\n",
    "    plotData= seasonDataTeam[seasonDataTeam['team']==t]\n",
    "    plt.plot(plotData['Daynum'],plotData['rating_pre'])\n",
    "    #if (i+1) % 5 == 0: plt.show()\n",
    "    #if i>= 10: break"
   ]
  },
  {
   "cell_type": "code",
   "execution_count": null,
   "metadata": {
    "collapsed": false
   },
   "outputs": [],
   "source": [
    "seasonTeams.loc[1228]"
   ]
  },
  {
   "cell_type": "code",
   "execution_count": null,
   "metadata": {
    "collapsed": false
   },
   "outputs": [],
   "source": [
    "seasonTeams.head(2)"
   ]
  },
  {
   "cell_type": "code",
   "execution_count": null,
   "metadata": {
    "collapsed": false
   },
   "outputs": [],
   "source": [
    "for i,t in enumerate(seasonSeeds['Team']):\n",
    "    #plotData= x[x['Team']==t].sort_values(by='Daynum')\n",
    "    plotData= seasonDataTeam[seasonDataTeam['team']==t].sort_values(by='Daynum')\n",
    "    plt.plot(plotData['Daynum'],plotData['rating_pre'],label=t)\n",
    "    if i >= 10: break"
   ]
  },
  {
   "cell_type": "code",
   "execution_count": null,
   "metadata": {
    "collapsed": false
   },
   "outputs": [],
   "source": [
    "#seasonSeeds.merge(seasonTeams, left_on='Team', right_on='Team_Id')\n",
    "x= seasonSeeds.merge(seasonDataTeam, how='outer', left_on=['Team','Season'], right_on=['team','Season'], indicator=True)\n",
    "print(x['_merge'].unique())\n",
    "for i,t in enumerate(x[x['_merge']=='right_only']['team'].unique()):\n",
    "    plotData= x[x['team']==t]\n",
    "    plt.plot(plotData['Daynum'],plotData['rating_pre'])\n",
    "    if i >= 10: break"
   ]
  },
  {
   "cell_type": "code",
   "execution_count": null,
   "metadata": {
    "collapsed": false
   },
   "outputs": [],
   "source": [
    "x.head(4)"
   ]
  },
  {
   "cell_type": "code",
   "execution_count": null,
   "metadata": {
    "collapsed": false
   },
   "outputs": [],
   "source": [
    "q= seasonDataTeam_orig\n",
    "r= seasonDataTeam_orig"
   ]
  },
  {
   "cell_type": "code",
   "execution_count": null,
   "metadata": {
    "collapsed": true
   },
   "outputs": [],
   "source": [
    "cols= [u'teamGameID', u'gameID', u'Season', u'Daynum', u'team', u'outcome']\n",
    "q= q[cols]\n",
    "r= r[cols]"
   ]
  },
  {
   "cell_type": "code",
   "execution_count": null,
   "metadata": {
    "collapsed": false
   },
   "outputs": [],
   "source": [
    "#s= pd.concat([q,r], keys=[0,1], names=['round','gameID','outcome'])\n",
    "s= pd.concat([q for i in range(2)], keys=[0,1], names=['round','gameID','outcome'])\n",
    "s['rating_pre']= np.NAN\n",
    "s['rating_post']= np.NAN\n",
    "s.head(8)"
   ]
  },
  {
   "cell_type": "code",
   "execution_count": null,
   "metadata": {
    "collapsed": false
   },
   "outputs": [],
   "source": [
    "s.index.levels"
   ]
  },
  {
   "cell_type": "code",
   "execution_count": null,
   "metadata": {
    "collapsed": false
   },
   "outputs": [],
   "source": [
    "rnd=1\n",
    "game=1\n",
    "outcome=1\n",
    "s.loc[[(rnd,game,outcome)],['rating_pre']]= 1400.\n",
    "s.loc[[(rnd,game,outcome)],['rating_post']]= 1450.\n",
    "s.loc[[(rnd,game,outcome)]]"
   ]
  },
  {
   "cell_type": "code",
   "execution_count": null,
   "metadata": {
    "collapsed": false
   },
   "outputs": [],
   "source": [
    "pd.MultiIndex.from_product([[0,1],[0,1,2],[0,1]])"
   ]
  },
  {
   "cell_type": "code",
   "execution_count": null,
   "metadata": {
    "collapsed": false
   },
   "outputs": [],
   "source": [
    "s.xs(0,level='round').head(4)"
   ]
  },
  {
   "cell_type": "code",
   "execution_count": null,
   "metadata": {
    "collapsed": false
   },
   "outputs": [],
   "source": [
    "s.xs(0,level='gameID').head(4)"
   ]
  },
  {
   "cell_type": "code",
   "execution_count": null,
   "metadata": {
    "collapsed": false
   },
   "outputs": [],
   "source": [
    "s.xs(0,level='outcome').head(4)"
   ]
  },
  {
   "cell_type": "code",
   "execution_count": null,
   "metadata": {
    "collapsed": false
   },
   "outputs": [],
   "source": [
    "seasonData.head(4)"
   ]
  },
  {
   "cell_type": "code",
   "execution_count": null,
   "metadata": {
    "collapsed": false
   },
   "outputs": [],
   "source": [
    "seasonData.set_index(['Season','gameID'], drop=True).head(4)"
   ]
  },
  {
   "cell_type": "code",
   "execution_count": null,
   "metadata": {
    "collapsed": false
   },
   "outputs": [],
   "source": [
    "seasonData= rscr[rscr['Season']==selectedSeason]\n",
    "seasonData.sort_values(by=['Daynum','Wteam'])\n",
    "seasonData.reset_index(inplace=True)\n",
    "seasonData= seasonData.rename(columns={'index':'gameID'})\n",
    "seasonData.head(4)"
   ]
  },
  {
   "cell_type": "code",
   "execution_count": null,
   "metadata": {
    "collapsed": false
   },
   "outputs": [],
   "source": [
    "r= rscr.reset_index().set_index(['Season','index'])\n",
    "r.index.names= ['Season','gameID']\n",
    "r.head(4)"
   ]
  },
  {
   "cell_type": "code",
   "execution_count": null,
   "metadata": {
    "collapsed": false
   },
   "outputs": [],
   "source": [
    "r.xs(2000,level='Season', drop_level=False).head(4)"
   ]
  },
  {
   "cell_type": "code",
   "execution_count": null,
   "metadata": {
    "collapsed": false
   },
   "outputs": [],
   "source": [
    "seasonTeams.head(4)"
   ]
  },
  {
   "cell_type": "code",
   "execution_count": null,
   "metadata": {
    "collapsed": false
   },
   "outputs": [],
   "source": [
    "def getTeamFrame(i):\n",
    "    qq= seasonTeams_orig.set_index(np.repeat(i,len(seasonTeams_orig)), append=True)\n",
    "    qq['rating']= np.NAN\n",
    "    qq.index.names= ['Team_Id','round']\n",
    "    qq.head(4)\n",
    "    return qq"
   ]
  },
  {
   "cell_type": "code",
   "execution_count": null,
   "metadata": {
    "collapsed": false
   },
   "outputs": [],
   "source": [
    "#pd.concat([seasonTeams_orig,getTeamFrame(0)], axis=1)\n",
    "pd.concat([getTeamFrame(0),getTeamFrame(1)], axis=0).sort_values(by='Team_Id').head(4)"
   ]
  },
  {
   "cell_type": "code",
   "execution_count": null,
   "metadata": {
    "collapsed": false
   },
   "outputs": [],
   "source": []
  },
  {
   "cell_type": "code",
   "execution_count": null,
   "metadata": {
    "collapsed": false
   },
   "outputs": [],
   "source": [
    "q= getTeamFrame(0)\n",
    "q['rating']= 0\n",
    "q.head()"
   ]
  },
  {
   "cell_type": "code",
   "execution_count": null,
   "metadata": {
    "collapsed": false
   },
   "outputs": [],
   "source": [
    "q.loc[1102]"
   ]
  },
  {
   "cell_type": "code",
   "execution_count": null,
   "metadata": {
    "collapsed": false
   },
   "outputs": [],
   "source": [
    "seasonData.head(4)"
   ]
  },
  {
   "cell_type": "code",
   "execution_count": null,
   "metadata": {
    "collapsed": false
   },
   "outputs": [],
   "source": [
    "for i,game in enumerate(range(len(seasonData))):\n",
    "    x= seasonData.iloc[game]\n",
    "    "
   ]
  },
  {
   "cell_type": "code",
   "execution_count": null,
   "metadata": {
    "collapsed": true
   },
   "outputs": [],
   "source": []
  }
 ],
 "metadata": {
  "kernelspec": {
   "display_name": "Python 2",
   "language": "python",
   "name": "python2"
  },
  "language_info": {
   "codemirror_mode": {
    "name": "ipython",
    "version": 2
   },
   "file_extension": ".py",
   "mimetype": "text/x-python",
   "name": "python",
   "nbconvert_exporter": "python",
   "pygments_lexer": "ipython2",
   "version": "2.7.12"
  }
 },
 "nbformat": 4,
 "nbformat_minor": 0
}
