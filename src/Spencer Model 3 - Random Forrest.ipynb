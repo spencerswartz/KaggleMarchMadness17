{
 "cells": [
  {
   "cell_type": "markdown",
   "metadata": {},
   "source": [
    "# This Model is a random forest - Score= .451502"
   ]
  },
  {
   "cell_type": "markdown",
   "metadata": {},
   "source": [
    "### Import Packages"
   ]
  },
  {
   "cell_type": "code",
   "execution_count": 1,
   "metadata": {
    "collapsed": true
   },
   "outputs": [],
   "source": [
    "import pandas as pd\n",
    "import numpy as np\n",
    "from sklearn import ensemble\n",
    "from IPython.display import Image\n",
    "import pydotplus"
   ]
  },
  {
   "cell_type": "markdown",
   "metadata": {},
   "source": [
    "### Load the datasets"
   ]
  },
  {
   "cell_type": "code",
   "execution_count": 2,
   "metadata": {
    "collapsed": true
   },
   "outputs": [],
   "source": [
    "TeamOverview = pd.read_csv(filepath_or_buffer='../TeamOverview.csv')\n",
    "TurnyResult = pd.read_csv(filepath_or_buffer='../data\\\\TourneyCompactResults.csv')\n",
    "sampleSub = pd.read_csv('../data\\\\sample_submission.csv')"
   ]
  },
  {
   "cell_type": "markdown",
   "metadata": {},
   "source": [
    "### Define fuctions"
   ]
  },
  {
   "cell_type": "code",
   "execution_count": 24,
   "metadata": {
    "collapsed": false
   },
   "outputs": [],
   "source": [
    "def create_train_test(data,split):\n",
    "    np.random.seed(0)\n",
    "    msk = np.random.rand(len(data)) < split\n",
    "    train = data[msk]\n",
    "    test = data[~msk]\n",
    "    return train,test\n",
    "\n",
    "def random_forest(data, features, target,n_estimators, max_depth, min_impurity_split):\n",
    "    model = ensemble.RandomForestClassifier( n_estimators=n_estimators, max_depth=max_depth,\n",
    "                                            random_state=0, min_impurity_split=min_impurity_split)\n",
    "    model = model.fit(data[features],data[target].ravel())\n",
    "    return model\n",
    "\n",
    "def make_predictions(model, data, features):\n",
    "    data.loc[:,'prediction'] = model.predict(data[features])\n",
    "    #dataout['prediction_prob'] = model.predict_proba((data[features]))\n",
    "    return data\n",
    "\n",
    "def find_best_model(train_data,test_data, features, target, max_depth, min_impurity_split):\n",
    "    best_accuracy=0\n",
    "    best_model=None\n",
    "    for depth in max_depth:\n",
    "        for impurity in min_impurity_split:\n",
    "            model = random_forest(data=train_data, features=features, target=target,\n",
    "                                  n_estimators=1000, max_depth= depth, min_impurity_split=impurity)\n",
    "            predictions = make_predictions(model, test_data, features)\n",
    "            accuracy = (predictions['prediction']==test_data[target]).mean()\n",
    "            if accuracy>best_accuracy:\n",
    "                print('depth:',depth,'impurity:',impurity,'accuracy:',accuracy)\n",
    "                best_accuracy=accuracy\n",
    "                best_model=model\n",
    "    return best_model\n",
    "\n",
    "def model_building_data_generator():\n",
    "    ##Uses TeamOverview\n",
    "    toJoin = TeamOverview[['Season','Team','pointsFor','pointsAgainst',\n",
    "                       'Wins','Losses','Awins','Hwins','Nwins','Hloss',\n",
    "                       'Aloss','Nloss','BestWinWin%','BestWinSeed']]\n",
    "    toJoin['BestWinSeed'].fillna(20, inplace=True)\n",
    "    \n",
    "    Acol =list(toJoin.columns)\n",
    "    x = 0\n",
    "    x = []\n",
    "    for col in Acol:\n",
    "        ocol = 'Away-'+col\n",
    "        x.append(ocol)\n",
    "    AtoJoin = toJoin.copy()\n",
    "    AtoJoin.columns = x\n",
    "    \n",
    "    Hcol =list(toJoin.columns)\n",
    "    y = 0\n",
    "    y = []\n",
    "    for col in Hcol:\n",
    "        ocol = 'Home-'+col\n",
    "        y.append(ocol)\n",
    "    HtoJoin = toJoin.copy()\n",
    "    HtoJoin.columns = y\n",
    "    \n",
    "    ##Uses TurnyResult dataset\n",
    "    TurnyResult.reset_index(inplace = True)\n",
    "    TurnyResult['index'] = TurnyResult['index'].apply(lambda x: x%2)\n",
    "    \n",
    "    WisHome = TurnyResult[TurnyResult['index']==0]\n",
    "    LisHome = TurnyResult[TurnyResult['index']==1]\n",
    "    WisHome['outcome'] = 'H'\n",
    "    LisHome['outcome'] = 'A'\n",
    "    WisHome.drop(['index','Daynum','Wscore','Lscore','Wloc','Numot'], inplace=True, axis=1)\n",
    "    LisHome.drop(['index','Daynum','Wscore','Lscore','Wloc','Numot'], inplace=True, axis=1)\n",
    "    WisHome.columns = ['Season','Hteam','Ateam','outcome']\n",
    "    LisHome.columns = ['Season','Ateam','Hteam','outcome']\n",
    "    \n",
    "    NewTurnyResults = pd.concat([WisHome,LisHome])\n",
    "    NewTurnyResults.columns = ['Away-Team','Home-Team','Season','outcome']\n",
    "    NewTurnyResults = NewTurnyResults.merge(HtoJoin, left_on=['Season','Home-Team'],\n",
    "                                            right_on=['Home-Season','Home-Team'],how='left' )\n",
    "    NewTurnyResults = NewTurnyResults.merge(AtoJoin, left_on=['Season','Away-Team'], \n",
    "                                            right_on=['Away-Season','Away-Team'],how='left' )\n",
    "    NewTurnyResults.drop(['Home-Season','Away-Season'], inplace=True, axis=1)\n",
    "    \n",
    "    train,test = create_train_test(NewTurnyResults, 0.9)\n",
    "    \n",
    "    ##Uses sampeSub\n",
    "    idsplit = sampleSub['id'].str.split('_',expand=True)\n",
    "    idsplit.columns = ['Season','predteam','oteam']\n",
    "    Subtest= sampleSub.join(idsplit)\n",
    "    \n",
    "    Subtest['Season'] = pd.to_numeric(Subtest['Season'])\n",
    "    Subtest['predteam'] = pd.to_numeric(Subtest['predteam'])\n",
    "    Subtest['oteam'] = pd.to_numeric(Subtest['oteam'])\n",
    "    \n",
    "    Subtest = Subtest.merge(HtoJoin, left_on=['Season','oteam'], right_on=['Home-Season','Home-Team'],how='left' )\n",
    "    Subtest = Subtest.merge(AtoJoin, left_on=['Season','predteam'], right_on=['Away-Season','Away-Team'],how='left' )\n",
    "    Subtest.drop(['Home-Season','Away-Season'], inplace=True, axis=1)\n",
    "    \n",
    "    return train, test, Subtest\n",
    "    "
   ]
  },
  {
   "cell_type": "markdown",
   "metadata": {},
   "source": [
    "### Identify what games would be played in each round"
   ]
  },
  {
   "cell_type": "code",
   "execution_count": 4,
   "metadata": {
    "collapsed": true
   },
   "outputs": [],
   "source": [
    "feats = [\n",
    "    'Home-pointsFor',\n",
    "    'Home-pointsAgainst',\n",
    "    'Home-Wins',\n",
    "    'Home-Losses',\n",
    "    'Home-Awins',\n",
    "    'Home-Hwins',\n",
    "    'Home-Nwins',\n",
    "    'Home-Hloss',\n",
    "    'Home-Aloss',\n",
    "    'Home-Nloss',\n",
    "    'Home-BestWinWin%',\n",
    "    'Home-BestWinSeed',\n",
    "    'Away-pointsFor',\n",
    "    'Away-pointsAgainst',\n",
    "    'Away-Wins',\n",
    "    'Away-Losses',\n",
    "    'Away-Awins',\n",
    "    'Away-Hwins',\n",
    "    'Away-Nwins',\n",
    "    'Away-Hloss',\n",
    "    'Away-Aloss',\n",
    "    'Away-Nloss',\n",
    "    'Away-BestWinWin%',\n",
    "    'Away-BestWinSeed']"
   ]
  },
  {
   "cell_type": "markdown",
   "metadata": {},
   "source": [
    "#### Build the data frame"
   ]
  },
  {
   "cell_type": "code",
   "execution_count": 5,
   "metadata": {
    "collapsed": false
   },
   "outputs": [
    {
     "name": "stderr",
     "output_type": "stream",
     "text": [
      "C:\\Anaconda2\\envs\\py35\\lib\\site-packages\\pandas\\core\\generic.py:3295: SettingWithCopyWarning: \n",
      "A value is trying to be set on a copy of a slice from a DataFrame\n",
      "\n",
      "See the caveats in the documentation: http://pandas.pydata.org/pandas-docs/stable/indexing.html#indexing-view-versus-copy\n",
      "  self._update_inplace(new_data)\n",
      "C:\\Anaconda2\\envs\\py35\\lib\\site-packages\\ipykernel\\__main__.py:66: SettingWithCopyWarning: \n",
      "A value is trying to be set on a copy of a slice from a DataFrame.\n",
      "Try using .loc[row_indexer,col_indexer] = value instead\n",
      "\n",
      "See the caveats in the documentation: http://pandas.pydata.org/pandas-docs/stable/indexing.html#indexing-view-versus-copy\n",
      "C:\\Anaconda2\\envs\\py35\\lib\\site-packages\\ipykernel\\__main__.py:67: SettingWithCopyWarning: \n",
      "A value is trying to be set on a copy of a slice from a DataFrame.\n",
      "Try using .loc[row_indexer,col_indexer] = value instead\n",
      "\n",
      "See the caveats in the documentation: http://pandas.pydata.org/pandas-docs/stable/indexing.html#indexing-view-versus-copy\n",
      "C:\\Anaconda2\\envs\\py35\\lib\\site-packages\\ipykernel\\__main__.py:68: SettingWithCopyWarning: \n",
      "A value is trying to be set on a copy of a slice from a DataFrame\n",
      "\n",
      "See the caveats in the documentation: http://pandas.pydata.org/pandas-docs/stable/indexing.html#indexing-view-versus-copy\n",
      "C:\\Anaconda2\\envs\\py35\\lib\\site-packages\\ipykernel\\__main__.py:69: SettingWithCopyWarning: \n",
      "A value is trying to be set on a copy of a slice from a DataFrame\n",
      "\n",
      "See the caveats in the documentation: http://pandas.pydata.org/pandas-docs/stable/indexing.html#indexing-view-versus-copy\n"
     ]
    },
    {
     "data": {
      "text/html": [
       "<div>\n",
       "<table border=\"1\" class=\"dataframe\">\n",
       "  <thead>\n",
       "    <tr style=\"text-align: right;\">\n",
       "      <th></th>\n",
       "      <th>id</th>\n",
       "      <th>pred</th>\n",
       "      <th>Season</th>\n",
       "      <th>predteam</th>\n",
       "      <th>oteam</th>\n",
       "      <th>Home-Team</th>\n",
       "      <th>Home-pointsFor</th>\n",
       "      <th>Home-pointsAgainst</th>\n",
       "      <th>Home-Wins</th>\n",
       "      <th>Home-Losses</th>\n",
       "      <th>...</th>\n",
       "      <th>Away-Wins</th>\n",
       "      <th>Away-Losses</th>\n",
       "      <th>Away-Awins</th>\n",
       "      <th>Away-Hwins</th>\n",
       "      <th>Away-Nwins</th>\n",
       "      <th>Away-Hloss</th>\n",
       "      <th>Away-Aloss</th>\n",
       "      <th>Away-Nloss</th>\n",
       "      <th>Away-BestWinWin%</th>\n",
       "      <th>Away-BestWinSeed</th>\n",
       "    </tr>\n",
       "  </thead>\n",
       "  <tbody>\n",
       "    <tr>\n",
       "      <th>0</th>\n",
       "      <td>2013_1103_1107</td>\n",
       "      <td>0.5</td>\n",
       "      <td>2013</td>\n",
       "      <td>1103</td>\n",
       "      <td>1107</td>\n",
       "      <td>1107</td>\n",
       "      <td>2190</td>\n",
       "      <td>2050</td>\n",
       "      <td>24</td>\n",
       "      <td>10</td>\n",
       "      <td>...</td>\n",
       "      <td>25</td>\n",
       "      <td>6</td>\n",
       "      <td>7</td>\n",
       "      <td>14</td>\n",
       "      <td>4</td>\n",
       "      <td>1</td>\n",
       "      <td>4</td>\n",
       "      <td>1</td>\n",
       "      <td>0.848485</td>\n",
       "      <td>11.0</td>\n",
       "    </tr>\n",
       "    <tr>\n",
       "      <th>1</th>\n",
       "      <td>2013_1103_1112</td>\n",
       "      <td>0.5</td>\n",
       "      <td>2013</td>\n",
       "      <td>1103</td>\n",
       "      <td>1112</td>\n",
       "      <td>1112</td>\n",
       "      <td>2345</td>\n",
       "      <td>2038</td>\n",
       "      <td>25</td>\n",
       "      <td>7</td>\n",
       "      <td>...</td>\n",
       "      <td>25</td>\n",
       "      <td>6</td>\n",
       "      <td>7</td>\n",
       "      <td>14</td>\n",
       "      <td>4</td>\n",
       "      <td>1</td>\n",
       "      <td>4</td>\n",
       "      <td>1</td>\n",
       "      <td>0.848485</td>\n",
       "      <td>11.0</td>\n",
       "    </tr>\n",
       "    <tr>\n",
       "      <th>2</th>\n",
       "      <td>2013_1103_1125</td>\n",
       "      <td>0.5</td>\n",
       "      <td>2013</td>\n",
       "      <td>1103</td>\n",
       "      <td>1125</td>\n",
       "      <td>1125</td>\n",
       "      <td>2307</td>\n",
       "      <td>1939</td>\n",
       "      <td>24</td>\n",
       "      <td>6</td>\n",
       "      <td>...</td>\n",
       "      <td>25</td>\n",
       "      <td>6</td>\n",
       "      <td>7</td>\n",
       "      <td>14</td>\n",
       "      <td>4</td>\n",
       "      <td>1</td>\n",
       "      <td>4</td>\n",
       "      <td>1</td>\n",
       "      <td>0.848485</td>\n",
       "      <td>11.0</td>\n",
       "    </tr>\n",
       "    <tr>\n",
       "      <th>3</th>\n",
       "      <td>2013_1103_1129</td>\n",
       "      <td>0.5</td>\n",
       "      <td>2013</td>\n",
       "      <td>1103</td>\n",
       "      <td>1129</td>\n",
       "      <td>1129</td>\n",
       "      <td>2061</td>\n",
       "      <td>1927</td>\n",
       "      <td>19</td>\n",
       "      <td>10</td>\n",
       "      <td>...</td>\n",
       "      <td>25</td>\n",
       "      <td>6</td>\n",
       "      <td>7</td>\n",
       "      <td>14</td>\n",
       "      <td>4</td>\n",
       "      <td>1</td>\n",
       "      <td>4</td>\n",
       "      <td>1</td>\n",
       "      <td>0.848485</td>\n",
       "      <td>11.0</td>\n",
       "    </tr>\n",
       "    <tr>\n",
       "      <th>4</th>\n",
       "      <td>2013_1103_1137</td>\n",
       "      <td>0.5</td>\n",
       "      <td>2013</td>\n",
       "      <td>1103</td>\n",
       "      <td>1137</td>\n",
       "      <td>1137</td>\n",
       "      <td>2152</td>\n",
       "      <td>1846</td>\n",
       "      <td>27</td>\n",
       "      <td>5</td>\n",
       "      <td>...</td>\n",
       "      <td>25</td>\n",
       "      <td>6</td>\n",
       "      <td>7</td>\n",
       "      <td>14</td>\n",
       "      <td>4</td>\n",
       "      <td>1</td>\n",
       "      <td>4</td>\n",
       "      <td>1</td>\n",
       "      <td>0.848485</td>\n",
       "      <td>11.0</td>\n",
       "    </tr>\n",
       "  </tbody>\n",
       "</table>\n",
       "<p>5 rows × 31 columns</p>\n",
       "</div>"
      ],
      "text/plain": [
       "               id  pred  Season  predteam  oteam  Home-Team  Home-pointsFor  \\\n",
       "0  2013_1103_1107   0.5    2013      1103   1107       1107            2190   \n",
       "1  2013_1103_1112   0.5    2013      1103   1112       1112            2345   \n",
       "2  2013_1103_1125   0.5    2013      1103   1125       1125            2307   \n",
       "3  2013_1103_1129   0.5    2013      1103   1129       1129            2061   \n",
       "4  2013_1103_1137   0.5    2013      1103   1137       1137            2152   \n",
       "\n",
       "   Home-pointsAgainst  Home-Wins  Home-Losses        ...         Away-Wins  \\\n",
       "0                2050         24           10        ...                25   \n",
       "1                2038         25            7        ...                25   \n",
       "2                1939         24            6        ...                25   \n",
       "3                1927         19           10        ...                25   \n",
       "4                1846         27            5        ...                25   \n",
       "\n",
       "   Away-Losses  Away-Awins  Away-Hwins  Away-Nwins  Away-Hloss  Away-Aloss  \\\n",
       "0            6           7          14           4           1           4   \n",
       "1            6           7          14           4           1           4   \n",
       "2            6           7          14           4           1           4   \n",
       "3            6           7          14           4           1           4   \n",
       "4            6           7          14           4           1           4   \n",
       "\n",
       "   Away-Nloss  Away-BestWinWin%  Away-BestWinSeed  \n",
       "0           1          0.848485              11.0  \n",
       "1           1          0.848485              11.0  \n",
       "2           1          0.848485              11.0  \n",
       "3           1          0.848485              11.0  \n",
       "4           1          0.848485              11.0  \n",
       "\n",
       "[5 rows x 31 columns]"
      ]
     },
     "execution_count": 5,
     "metadata": {},
     "output_type": "execute_result"
    }
   ],
   "source": [
    "train, test, modeldata = model_building_data_generator()\n",
    "\n",
    "modeldata.head()"
   ]
  },
  {
   "cell_type": "code",
   "execution_count": 51,
   "metadata": {
    "collapsed": false
   },
   "outputs": [
    {
     "data": {
      "text/plain": [
       "array([ 0.05      ,  0.06666667,  0.08333333,  0.1       ,  0.11666667,\n",
       "        0.13333333,  0.15      ,  0.16666667,  0.18333333,  0.2       ])"
      ]
     },
     "execution_count": 51,
     "metadata": {},
     "output_type": "execute_result"
    }
   ],
   "source": [
    "depthset = np.linspace(3,17,15)\n",
    "impurityset = np.linspace(.05,.20,10)\n",
    "impurityset"
   ]
  },
  {
   "cell_type": "code",
   "execution_count": 25,
   "metadata": {
    "collapsed": false
   },
   "outputs": [
    {
     "name": "stdout",
     "output_type": "stream",
     "text": [
      "depth: 3.0 impurity: 0.05 accuracy: 0.715517241379\n",
      "depth: 4.0 impurity: 0.1 accuracy: 0.719827586207\n",
      "depth: 5.0 impurity: 0.05 accuracy: 0.724137931034\n",
      "depth: 5.0 impurity: 0.0666666666667 accuracy: 0.728448275862\n",
      "depth: 5.0 impurity: 0.0833333333333 accuracy: 0.73275862069\n",
      "depth: 10.0 impurity: 0.133333333333 accuracy: 0.737068965517\n",
      "depth: 13.0 impurity: 0.116666666667 accuracy: 0.741379310345\n"
     ]
    }
   ],
   "source": [
    "\n",
    "bestmodel = find_best_model(train_data=train,test_data=test, \n",
    "                            features=feats, target='outcome', max_depth= depthset,\n",
    "                            min_impurity_split = impurityset)"
   ]
  },
  {
   "cell_type": "code",
   "execution_count": 38,
   "metadata": {
    "collapsed": false
   },
   "outputs": [],
   "source": [
    "prediction_prob = bestmodel.predict_proba(modeldata[feats])"
   ]
  },
  {
   "cell_type": "code",
   "execution_count": 39,
   "metadata": {
    "collapsed": false
   },
   "outputs": [
    {
     "data": {
      "text/plain": [
       "array([[ 0.66771186,  0.33228814],\n",
       "       [ 0.41447419,  0.58552581],\n",
       "       [ 0.47349449,  0.52650551],\n",
       "       ..., \n",
       "       [ 0.22426261,  0.77573739],\n",
       "       [ 0.49682442,  0.50317558],\n",
       "       [ 0.84826993,  0.15173007]])"
      ]
     },
     "execution_count": 39,
     "metadata": {},
     "output_type": "execute_result"
    }
   ],
   "source": [
    "prediction_prob"
   ]
  },
  {
   "cell_type": "code",
   "execution_count": 49,
   "metadata": {
    "collapsed": false
   },
   "outputs": [
    {
     "data": {
      "text/html": [
       "<div>\n",
       "<table border=\"1\" class=\"dataframe\">\n",
       "  <thead>\n",
       "    <tr style=\"text-align: right;\">\n",
       "      <th></th>\n",
       "      <th>id</th>\n",
       "      <th>pred</th>\n",
       "    </tr>\n",
       "  </thead>\n",
       "  <tbody>\n",
       "    <tr>\n",
       "      <th>0</th>\n",
       "      <td>2013_1103_1107</td>\n",
       "      <td>0.667712</td>\n",
       "    </tr>\n",
       "    <tr>\n",
       "      <th>1</th>\n",
       "      <td>2013_1103_1112</td>\n",
       "      <td>0.414474</td>\n",
       "    </tr>\n",
       "    <tr>\n",
       "      <th>2</th>\n",
       "      <td>2013_1103_1125</td>\n",
       "      <td>0.473494</td>\n",
       "    </tr>\n",
       "    <tr>\n",
       "      <th>3</th>\n",
       "      <td>2013_1103_1129</td>\n",
       "      <td>0.677751</td>\n",
       "    </tr>\n",
       "    <tr>\n",
       "      <th>4</th>\n",
       "      <td>2013_1103_1137</td>\n",
       "      <td>0.601470</td>\n",
       "    </tr>\n",
       "  </tbody>\n",
       "</table>\n",
       "</div>"
      ],
      "text/plain": [
       "               id      pred\n",
       "0  2013_1103_1107  0.667712\n",
       "1  2013_1103_1112  0.414474\n",
       "2  2013_1103_1125  0.473494\n",
       "3  2013_1103_1129  0.677751\n",
       "4  2013_1103_1137  0.601470"
      ]
     },
     "execution_count": 49,
     "metadata": {},
     "output_type": "execute_result"
    }
   ],
   "source": [
    "predict = pd.DataFrame(prediction_prob)\n",
    "predict['id']=modeldata['id']\n",
    "predict.drop(1,axis=1, inplace=True)\n",
    "predict.columns = ['pred','id']\n",
    "predict = predict[['id','pred']]\n",
    "predict.head()"
   ]
  },
  {
   "cell_type": "code",
   "execution_count": 50,
   "metadata": {
    "collapsed": true
   },
   "outputs": [],
   "source": [
    "predict.to_csv('../submissions\\\\Thirdsub.csv',index=False)"
   ]
  },
  {
   "cell_type": "markdown",
   "metadata": {
    "collapsed": true
   },
   "source": [
    "# Quick Run"
   ]
  },
  {
   "cell_type": "code",
   "execution_count": 55,
   "metadata": {
    "collapsed": false
   },
   "outputs": [],
   "source": [
    "model = ensemble.RandomForestClassifier( n_estimators=1000, max_depth=13,\n",
    "                                            random_state=0, min_impurity_split=.11666666667)\n",
    "model = model.fit(train[feats],train['outcome'].ravel())\n",
    "prediction_prob = model.predict_proba(modeldata[feats])\n",
    "predict = pd.DataFrame(prediction_prob)\n",
    "predict['id']=modeldata['id']\n",
    "predict.drop(1,axis=1, inplace=True)\n",
    "predict.columns = ['pred','id']\n",
    "predict = predict[['id','pred']]\n",
    "predict.to_csv('../submissions\\\\Thirdsub.csv',index=False)"
   ]
  },
  {
   "cell_type": "code",
   "execution_count": 56,
   "metadata": {
    "collapsed": false
   },
   "outputs": [
    {
     "data": {
      "text/html": [
       "<div>\n",
       "<table border=\"1\" class=\"dataframe\">\n",
       "  <thead>\n",
       "    <tr style=\"text-align: right;\">\n",
       "      <th></th>\n",
       "      <th>id</th>\n",
       "      <th>pred</th>\n",
       "    </tr>\n",
       "  </thead>\n",
       "  <tbody>\n",
       "    <tr>\n",
       "      <th>0</th>\n",
       "      <td>2013_1103_1107</td>\n",
       "      <td>0.667712</td>\n",
       "    </tr>\n",
       "    <tr>\n",
       "      <th>1</th>\n",
       "      <td>2013_1103_1112</td>\n",
       "      <td>0.414474</td>\n",
       "    </tr>\n",
       "    <tr>\n",
       "      <th>2</th>\n",
       "      <td>2013_1103_1125</td>\n",
       "      <td>0.473494</td>\n",
       "    </tr>\n",
       "    <tr>\n",
       "      <th>3</th>\n",
       "      <td>2013_1103_1129</td>\n",
       "      <td>0.677751</td>\n",
       "    </tr>\n",
       "    <tr>\n",
       "      <th>4</th>\n",
       "      <td>2013_1103_1137</td>\n",
       "      <td>0.601470</td>\n",
       "    </tr>\n",
       "  </tbody>\n",
       "</table>\n",
       "</div>"
      ],
      "text/plain": [
       "               id      pred\n",
       "0  2013_1103_1107  0.667712\n",
       "1  2013_1103_1112  0.414474\n",
       "2  2013_1103_1125  0.473494\n",
       "3  2013_1103_1129  0.677751\n",
       "4  2013_1103_1137  0.601470"
      ]
     },
     "execution_count": 56,
     "metadata": {},
     "output_type": "execute_result"
    }
   ],
   "source": [
    "predict.head()"
   ]
  },
  {
   "cell_type": "code",
   "execution_count": null,
   "metadata": {
    "collapsed": true
   },
   "outputs": [],
   "source": []
  }
 ],
 "metadata": {
  "kernelspec": {
   "display_name": "Python [py35]",
   "language": "python",
   "name": "Python [py35]"
  },
  "language_info": {
   "codemirror_mode": {
    "name": "ipython",
    "version": 3
   },
   "file_extension": ".py",
   "mimetype": "text/x-python",
   "name": "python",
   "nbconvert_exporter": "python",
   "pygments_lexer": "ipython3",
   "version": "3.5.2"
  }
 },
 "nbformat": 4,
 "nbformat_minor": 0
}
